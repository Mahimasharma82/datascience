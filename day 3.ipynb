{
 "cells": [
  {
   "cell_type": "code",
   "execution_count": 11,
   "id": "dd6d9396-c0ac-483b-9f12-017f133157c5",
   "metadata": {},
   "outputs": [
    {
     "data": {
      "text/plain": [
       "'Data Science Masters'"
      ]
     },
     "execution_count": 11,
     "metadata": {},
     "output_type": "execute_result"
    }
   ],
   "source": [
    "str1=\"data science masters\"\n",
    "str1.title()"
   ]
  },
  {
   "cell_type": "code",
   "execution_count": 15,
   "id": "78d71950-e50e-4e59-b3e3-cffc50a896c1",
   "metadata": {},
   "outputs": [
    {
     "data": {
      "text/plain": [
       "'DATA SCIENCE MASTERS'"
      ]
     },
     "execution_count": 15,
     "metadata": {},
     "output_type": "execute_result"
    }
   ],
   "source": [
    "str1.swapcase()"
   ]
  },
  {
   "cell_type": "code",
   "execution_count": 12,
   "id": "8a9e8c9c-fa6d-48a8-b6f6-f8dd201d9390",
   "metadata": {},
   "outputs": [
    {
     "data": {
      "text/plain": [
       "'Data science masters'"
      ]
     },
     "execution_count": 12,
     "metadata": {},
     "output_type": "execute_result"
    }
   ],
   "source": [
    "str1.capitalize()\n",
    "#first letter capital hoga baaki k small rhenge"
   ]
  },
  {
   "cell_type": "code",
   "execution_count": null,
   "id": "e47e2b7e-1f89-4e39-9f49-aacc345f3230",
   "metadata": {},
   "outputs": [],
   "source": [
    "#reversing a string"
   ]
  },
  {
   "cell_type": "code",
   "execution_count": 14,
   "id": "eb9ebc9d-c207-47cc-8605-391691baa8fc",
   "metadata": {},
   "outputs": [
    {
     "data": {
      "text/plain": [
       "'sretsam ecneics atad'"
      ]
     },
     "execution_count": 14,
     "metadata": {},
     "output_type": "execute_result"
    }
   ],
   "source": [
    "name=\"data science masters\"\n",
    "name[::-1]\n",
    "##with the help of slicing operation"
   ]
  },
  {
   "cell_type": "code",
   "execution_count": 17,
   "id": "bb5e4e81-a324-4399-9387-44265fb44a6e",
   "metadata": {},
   "outputs": [
    {
     "data": {
      "text/plain": [
       "'sretsam ecneics atad'"
      ]
     },
     "execution_count": 17,
     "metadata": {},
     "output_type": "execute_result"
    }
   ],
   "source": [
    "''.join(reversed(name))"
   ]
  },
  {
   "cell_type": "code",
   "execution_count": 18,
   "id": "6b489347-ed7e-4681-aae7-cb897dd53b97",
   "metadata": {},
   "outputs": [
    {
     "data": {
      "text/plain": [
       "'a b c d'"
      ]
     },
     "execution_count": 18,
     "metadata": {},
     "output_type": "execute_result"
    }
   ],
   "source": [
    "\" \".join(\"abcd\")"
   ]
  },
  {
   "cell_type": "code",
   "execution_count": 19,
   "id": "592f8430-c8a3-436b-b284-98de17e24e6c",
   "metadata": {},
   "outputs": [
    {
     "data": {
      "text/plain": [
       "'a n d'"
      ]
     },
     "execution_count": 19,
     "metadata": {},
     "output_type": "execute_result"
    }
   ],
   "source": [
    "\" \".join(\"and\")"
   ]
  },
  {
   "cell_type": "code",
   "execution_count": 20,
   "id": "c0a74ae4-e225-4821-8641-0db2c782815d",
   "metadata": {},
   "outputs": [
    {
     "data": {
      "text/plain": [
       "'d n a'"
      ]
     },
     "execution_count": 20,
     "metadata": {},
     "output_type": "execute_result"
    }
   ],
   "source": [
    "\" \".join(reversed(\"and\"))"
   ]
  },
  {
   "cell_type": "code",
   "execution_count": 21,
   "id": "d1cea0c8-31ab-4484-aa7d-50762810939a",
   "metadata": {},
   "outputs": [
    {
     "data": {
      "text/plain": [
       "'and'"
      ]
     },
     "execution_count": 21,
     "metadata": {},
     "output_type": "execute_result"
    }
   ],
   "source": [
    "\"\".join(\"and\")"
   ]
  },
  {
   "cell_type": "code",
   "execution_count": 22,
   "id": "27a054ea-0e55-4042-98ce-398a0f8c042c",
   "metadata": {},
   "outputs": [
    {
     "data": {
      "text/plain": [
       "'dna'"
      ]
     },
     "execution_count": 22,
     "metadata": {},
     "output_type": "execute_result"
    }
   ],
   "source": [
    "\"\".join(reversed(\"and\"))"
   ]
  },
  {
   "cell_type": "code",
   "execution_count": 23,
   "id": "7a0b2030-82dd-45f9-8385-473016f01c78",
   "metadata": {},
   "outputs": [
    {
     "data": {
      "text/plain": [
       "'dmahimanmahimaa'"
      ]
     },
     "execution_count": 23,
     "metadata": {},
     "output_type": "execute_result"
    }
   ],
   "source": [
    "\"mahima\".join(reversed(\"and\"))"
   ]
  },
  {
   "cell_type": "code",
   "execution_count": 24,
   "id": "d57dfb09-7963-40e2-866b-c2d7096d648d",
   "metadata": {},
   "outputs": [
    {
     "data": {
      "text/plain": [
       "'d mahima n mahima a'"
      ]
     },
     "execution_count": 24,
     "metadata": {},
     "output_type": "execute_result"
    }
   ],
   "source": [
    "\" mahima \".join(reversed(\"and\"))"
   ]
  },
  {
   "cell_type": "code",
   "execution_count": 26,
   "id": "cee01687-be6a-4ea4-bb05-8c24da844778",
   "metadata": {},
   "outputs": [
    {
     "data": {
      "text/plain": [
       "['t', 'n', 'a']"
      ]
     },
     "execution_count": 26,
     "metadata": {},
     "output_type": "execute_result"
    }
   ],
   "source": [
    "#typecasting\n",
    "list(reversed(\"ant\"))"
   ]
  },
  {
   "cell_type": "code",
   "execution_count": 27,
   "id": "a9534859-13b3-4a29-9b5c-db458d27dd96",
   "metadata": {},
   "outputs": [
    {
     "data": {
      "text/plain": [
       "'<reversed object at 0x7fd701a43250>'"
      ]
     },
     "execution_count": 27,
     "metadata": {},
     "output_type": "execute_result"
    }
   ],
   "source": [
    "str(reversed(\"ant\"))"
   ]
  },
  {
   "cell_type": "code",
   "execution_count": 28,
   "id": "e7428bb7-2897-403d-b73e-439c1e0b4e85",
   "metadata": {},
   "outputs": [
    {
     "data": {
      "text/plain": [
       "'m cutie a cutie h cutie i cutie m cutie a cutie   cutie i cutie s cutie   cutie a cutie   cutie g cutie o cutie o cutie d cutie   cutie g cutie i cutie r cutie l'"
      ]
     },
     "execution_count": 28,
     "metadata": {},
     "output_type": "execute_result"
    }
   ],
   "source": [
    "str1=\"mahima is a good girl\"\n",
    "\" cutie \".join(str1)"
   ]
  },
  {
   "cell_type": "code",
   "execution_count": null,
   "id": "664f1914-c238-40c0-be92-0e8b02dd7455",
   "metadata": {},
   "outputs": [],
   "source": [
    "#removing character from the end of the string"
   ]
  },
  {
   "cell_type": "code",
   "execution_count": 30,
   "id": "427ed6e5-5439-4e6b-97bb-b0ab8c29375c",
   "metadata": {},
   "outputs": [
    {
     "data": {
      "text/plain": [
       "'pwskills'"
      ]
     },
     "execution_count": 30,
     "metadata": {},
     "output_type": "execute_result"
    }
   ],
   "source": [
    "string_a=\"pwskills \"\n",
    "string_a.strip(\" \")"
   ]
  },
  {
   "cell_type": "code",
   "execution_count": 32,
   "id": "9a814ddc-198d-4e47-ab2b-ddb01de1f1aa",
   "metadata": {},
   "outputs": [
    {
     "data": {
      "text/plain": [
       "'pwskills '"
      ]
     },
     "execution_count": 32,
     "metadata": {},
     "output_type": "execute_result"
    }
   ],
   "source": [
    "string_a.lstrip(\" \")"
   ]
  },
  {
   "cell_type": "code",
   "execution_count": 33,
   "id": "5dc551df-7f23-43cb-b9ea-c22732e37de0",
   "metadata": {},
   "outputs": [
    {
     "data": {
      "text/plain": [
       "'pwskills'"
      ]
     },
     "execution_count": 33,
     "metadata": {},
     "output_type": "execute_result"
    }
   ],
   "source": [
    "string_a.rstrip(\" \")"
   ]
  },
  {
   "cell_type": "code",
   "execution_count": 34,
   "id": "8d1d5d8d-8e7f-417f-827e-4581e06f13ab",
   "metadata": {},
   "outputs": [
    {
     "data": {
      "text/plain": [
       "'greeeting from cutieee'"
      ]
     },
     "execution_count": 34,
     "metadata": {},
     "output_type": "execute_result"
    }
   ],
   "source": [
    "string_n=\"greeeting to cutieee\"\n",
    "string_n.replace(\"to\",\"from\")"
   ]
  },
  {
   "cell_type": "code",
   "execution_count": 37,
   "id": "d4b753c3-9833-47a9-9240-0a10b99f457f",
   "metadata": {},
   "outputs": [
    {
     "data": {
      "text/plain": [
       "'welcome to cutieee'"
      ]
     },
     "execution_count": 37,
     "metadata": {},
     "output_type": "execute_result"
    }
   ],
   "source": [
    "string_n.replace(\"greeeting\",\"welcome\")"
   ]
  },
  {
   "cell_type": "code",
   "execution_count": 40,
   "id": "e5b70afc-b6e6-41cf-9285-2cd97d2b12f8",
   "metadata": {},
   "outputs": [
    {
     "name": "stdout",
     "output_type": "stream",
     "text": [
      "140561428229744\n",
      "140561427884560\n"
     ]
    }
   ],
   "source": [
    "var_a=string_n.replace(\"e\",\"m\")\n",
    "print(id(string_n))\n",
    "print(id(var_a))"
   ]
  },
  {
   "cell_type": "code",
   "execution_count": 45,
   "id": "eed623f4-465e-4431-91ae-06bbd5802e18",
   "metadata": {},
   "outputs": [
    {
     "data": {
      "text/plain": [
       "'hello \\tworld'"
      ]
     },
     "execution_count": 45,
     "metadata": {},
     "output_type": "execute_result"
    }
   ],
   "source": [
    "\"hello \\tworld\""
   ]
  },
  {
   "cell_type": "code",
   "execution_count": 47,
   "id": "81734e2c-b2b5-4db6-94be-34ea4501d883",
   "metadata": {},
   "outputs": [
    {
     "data": {
      "text/plain": [
       "'hello   world'"
      ]
     },
     "execution_count": 47,
     "metadata": {},
     "output_type": "execute_result"
    }
   ],
   "source": [
    "\"hello\\tworld\".expandtabs()"
   ]
  },
  {
   "cell_type": "code",
   "execution_count": 48,
   "id": "e34a075e-56bb-4b0f-af9d-da639f5112c8",
   "metadata": {},
   "outputs": [
    {
     "data": {
      "text/plain": [
       "'helloworld'"
      ]
     },
     "execution_count": 48,
     "metadata": {},
     "output_type": "execute_result"
    }
   ],
   "source": [
    "\"helloworld\".expandtabs()"
   ]
  },
  {
   "cell_type": "code",
   "execution_count": 58,
   "id": "56b30fac-dc03-4cc8-8768-b1aec383823a",
   "metadata": {},
   "outputs": [
    {
     "data": {
      "text/plain": [
       "'welcome to pw skills.welcome to data science'"
      ]
     },
     "execution_count": 58,
     "metadata": {},
     "output_type": "execute_result"
    }
   ],
   "source": [
    "str1=\"welcome to pw skills.welcome to dat cience\"\n",
    "str1.replace(\"cience\",\"science\").replace(\"dat\",\"data\")"
   ]
  },
  {
   "cell_type": "code",
   "execution_count": 59,
   "id": "aa4876db-9e0d-4fed-a7d3-d8c0d0eefbf1",
   "metadata": {},
   "outputs": [
    {
     "data": {
      "text/plain": [
       "'welcome to pw skills.welcome to dat cience'"
      ]
     },
     "execution_count": 59,
     "metadata": {},
     "output_type": "execute_result"
    }
   ],
   "source": [
    "str1"
   ]
  },
  {
   "cell_type": "code",
   "execution_count": 60,
   "id": "e49573eb-7aaa-4db4-860b-114c88166b74",
   "metadata": {},
   "outputs": [
    {
     "data": {
      "text/plain": [
       "False"
      ]
     },
     "execution_count": 60,
     "metadata": {},
     "output_type": "execute_result"
    }
   ],
   "source": [
    "str1.isupper()\n",
    "#pta lgane ko ki uper case m h ya nhi"
   ]
  },
  {
   "cell_type": "code",
   "execution_count": 61,
   "id": "5a3dc430-7e52-4129-9328-b74d35114399",
   "metadata": {},
   "outputs": [
    {
     "data": {
      "text/plain": [
       "True"
      ]
     },
     "execution_count": 61,
     "metadata": {},
     "output_type": "execute_result"
    }
   ],
   "source": [
    "str1.islower()\n",
    "#same for lower case"
   ]
  },
  {
   "cell_type": "code",
   "execution_count": 62,
   "id": "f2e5c589-1d5d-4773-bbce-9f3975874d87",
   "metadata": {},
   "outputs": [
    {
     "data": {
      "text/plain": [
       "False"
      ]
     },
     "execution_count": 62,
     "metadata": {},
     "output_type": "execute_result"
    }
   ],
   "source": [
    "str1.isspace()\n",
    "#khali string k liy true "
   ]
  },
  {
   "cell_type": "code",
   "execution_count": 64,
   "id": "07565441-7fc6-44d9-8141-f140efac38a9",
   "metadata": {},
   "outputs": [
    {
     "data": {
      "text/plain": [
       "False"
      ]
     },
     "execution_count": 64,
     "metadata": {},
     "output_type": "execute_result"
    }
   ],
   "source": [
    "str1.isnumeric()\n",
    "#number wali value k liy true baaki k liy false"
   ]
  },
  {
   "cell_type": "code",
   "execution_count": 65,
   "id": "3b0c2ffc-3151-404a-b12c-5b95e0e393c3",
   "metadata": {},
   "outputs": [
    {
     "data": {
      "text/plain": [
       "False"
      ]
     },
     "execution_count": 65,
     "metadata": {},
     "output_type": "execute_result"
    }
   ],
   "source": [
    "str1.isalnum()\n",
    "#agr string m alphabet aur number h toh true"
   ]
  },
  {
   "cell_type": "code",
   "execution_count": 66,
   "id": "9b834008-8454-4b28-95c9-2b6527edaf2a",
   "metadata": {},
   "outputs": [
    {
     "data": {
      "text/plain": [
       "False"
      ]
     },
     "execution_count": 66,
     "metadata": {},
     "output_type": "execute_result"
    }
   ],
   "source": [
    "str1.isdecimal()"
   ]
  },
  {
   "cell_type": "code",
   "execution_count": 69,
   "id": "a9311fc3-40da-4d4a-96ab-2e555f9609a9",
   "metadata": {},
   "outputs": [
    {
     "data": {
      "text/plain": [
       "True"
      ]
     },
     "execution_count": 69,
     "metadata": {},
     "output_type": "execute_result"
    }
   ],
   "source": [
    "str1.endswith(\"e\")"
   ]
  },
  {
   "cell_type": "code",
   "execution_count": 70,
   "id": "40c40b53-82da-48a5-a515-2b5cca249afc",
   "metadata": {},
   "outputs": [
    {
     "data": {
      "text/plain": [
       "False"
      ]
     },
     "execution_count": 70,
     "metadata": {},
     "output_type": "execute_result"
    }
   ],
   "source": [
    "str1.endswith(\"s\")"
   ]
  },
  {
   "cell_type": "code",
   "execution_count": 72,
   "id": "52859d80-0148-4d91-8d0d-9781c0a376f2",
   "metadata": {},
   "outputs": [
    {
     "data": {
      "text/plain": [
       "False"
      ]
     },
     "execution_count": 72,
     "metadata": {},
     "output_type": "execute_result"
    }
   ],
   "source": [
    "str1.startswith(\"a\")"
   ]
  },
  {
   "cell_type": "code",
   "execution_count": 73,
   "id": "a4f5d034-ea04-4f8b-95bd-719623196f9a",
   "metadata": {},
   "outputs": [
    {
     "data": {
      "text/plain": [
       "True"
      ]
     },
     "execution_count": 73,
     "metadata": {},
     "output_type": "execute_result"
    }
   ],
   "source": [
    "a=\"12abnc\"\n",
    "a.isalnum()"
   ]
  },
  {
   "cell_type": "code",
   "execution_count": null,
   "id": "9c1f4fcb-2cb1-4175-9ff2-627fae81f9d7",
   "metadata": {},
   "outputs": [],
   "source": [
    "# to count the no of char in string\n"
   ]
  },
  {
   "cell_type": "code",
   "execution_count": 74,
   "id": "ab48d76d-e4fe-4f7e-b0c3-092034a9e9a2",
   "metadata": {},
   "outputs": [
    {
     "data": {
      "text/plain": [
       "7"
      ]
     },
     "execution_count": 74,
     "metadata": {},
     "output_type": "execute_result"
    }
   ],
   "source": [
    "\n",
    "str_2='pwskill'\n",
    "len(str_2)"
   ]
  },
  {
   "cell_type": "code",
   "execution_count": 76,
   "id": "822d5b14-a3f1-47cd-85d1-e4fce196a030",
   "metadata": {},
   "outputs": [
    {
     "data": {
      "text/plain": [
       "'p w s k i l l'"
      ]
     },
     "execution_count": 76,
     "metadata": {},
     "output_type": "execute_result"
    }
   ],
   "source": [
    "\" \".join(str_2)"
   ]
  },
  {
   "cell_type": "code",
   "execution_count": 77,
   "id": "ed4fffbb-f0d8-49e0-bd32-ec1fd8f63063",
   "metadata": {},
   "outputs": [
    {
     "name": "stdout",
     "output_type": "stream",
     "text": [
      "p\n",
      "w\n",
      "s\n",
      "k\n",
      "i\n",
      "l\n",
      "l\n"
     ]
    }
   ],
   "source": [
    "for i in str_2:\n",
    "    print(i)"
   ]
  },
  {
   "cell_type": "code",
   "execution_count": 78,
   "id": "79401722-1aef-4dc9-b48c-800a7c64b33e",
   "metadata": {},
   "outputs": [
    {
     "name": "stdout",
     "output_type": "stream",
     "text": [
      "p\n",
      "w\n",
      "s\n",
      "k\n",
      "i\n",
      "l\n",
      "l\n"
     ]
    }
   ],
   "source": [
    "for i in range(len(str_2)):\n",
    "    print(str_2[i])"
   ]
  },
  {
   "cell_type": "code",
   "execution_count": 81,
   "id": "a04733d4-7c1d-42b8-9acd-77835ac7eb02",
   "metadata": {},
   "outputs": [
    {
     "name": "stdout",
     "output_type": "stream",
     "text": [
      "0 p\n",
      "1 w\n",
      "2 s\n",
      "3 k\n",
      "4 i\n",
      "5 l\n",
      "6 l\n"
     ]
    }
   ],
   "source": [
    "for i in range(len(str_2)):\n",
    "    print(i,str_2[i])"
   ]
  },
  {
   "cell_type": "code",
   "execution_count": 82,
   "id": "4c54f459-a285-43be-9c19-56d6563ba8f9",
   "metadata": {},
   "outputs": [
    {
     "name": "stdout",
     "output_type": "stream",
     "text": [
      "0 = p\n",
      "1 = w\n",
      "2 = s\n",
      "3 = k\n",
      "4 = i\n",
      "5 = l\n",
      "6 = l\n"
     ]
    }
   ],
   "source": [
    "for i in range(len(str_2)):\n",
    "    print(i,\"=\",str_2[i])"
   ]
  },
  {
   "cell_type": "code",
   "execution_count": null,
   "id": "9d049404-a96f-4d7b-badd-7f79b6217d88",
   "metadata": {},
   "outputs": [],
   "source": [
    "#we can use index to iterate string reverse directon"
   ]
  },
  {
   "cell_type": "code",
   "execution_count": null,
   "id": "9beed825-59b8-4493-a135-1e60d88cf6ed",
   "metadata": {},
   "outputs": [],
   "source": [
    "len"
   ]
  },
  {
   "cell_type": "code",
   "execution_count": 89,
   "id": "be0eb49d-c5f2-4be9-8b43-d42b80f17ea5",
   "metadata": {},
   "outputs": [
    {
     "name": "stdout",
     "output_type": "stream",
     "text": [
      "l\n",
      "i\n",
      "s\n",
      "p\n"
     ]
    }
   ],
   "source": [
    "for i in range(len(str_2)-1,-1,-2):\n",
    "    print(str_2[i])"
   ]
  },
  {
   "cell_type": "code",
   "execution_count": null,
   "id": "b213750e-cedc-4b94-99ec-6a2f8cbe8cd2",
   "metadata": {},
   "outputs": [],
   "source": []
  },
  {
   "cell_type": "code",
   "execution_count": null,
   "id": "fe3b0188-19aa-44ee-b7af-c688ce8c626f",
   "metadata": {},
   "outputs": [],
   "source": []
  },
  {
   "cell_type": "code",
   "execution_count": null,
   "id": "236b8fe7-19e3-4488-ab75-468fd1a72199",
   "metadata": {},
   "outputs": [],
   "source": []
  },
  {
   "cell_type": "code",
   "execution_count": null,
   "id": "0f7ac1fd-a5e2-4af1-b25f-5c4a29d8f437",
   "metadata": {},
   "outputs": [],
   "source": []
  },
  {
   "cell_type": "code",
   "execution_count": null,
   "id": "5c40f6c7-3371-4772-b93e-05c493a69d41",
   "metadata": {},
   "outputs": [],
   "source": []
  },
  {
   "cell_type": "code",
   "execution_count": null,
   "id": "04229514-2392-46bf-bb3b-861bb57200be",
   "metadata": {},
   "outputs": [],
   "source": []
  },
  {
   "cell_type": "code",
   "execution_count": null,
   "id": "b388c33d-aa98-42c0-b083-efa8ffad5352",
   "metadata": {},
   "outputs": [],
   "source": []
  },
  {
   "cell_type": "code",
   "execution_count": null,
   "id": "48d80e83-1214-4c9c-9852-6005ceb2639f",
   "metadata": {},
   "outputs": [],
   "source": []
  },
  {
   "cell_type": "code",
   "execution_count": null,
   "id": "075c5957-4629-48d0-8f8c-956133bdbbc8",
   "metadata": {},
   "outputs": [],
   "source": []
  },
  {
   "cell_type": "code",
   "execution_count": null,
   "id": "2dec1d24-e0e4-4402-87de-f881a25106b2",
   "metadata": {},
   "outputs": [],
   "source": []
  },
  {
   "cell_type": "code",
   "execution_count": null,
   "id": "c77621fc-3919-406f-8a16-5e8f025f2228",
   "metadata": {},
   "outputs": [],
   "source": []
  },
  {
   "cell_type": "code",
   "execution_count": null,
   "id": "90f4fff4-3c06-49af-9fe2-f28f6c63ed21",
   "metadata": {},
   "outputs": [],
   "source": []
  },
  {
   "cell_type": "code",
   "execution_count": null,
   "id": "f91cff6e-06fc-472e-a1c5-85b9dfba4a29",
   "metadata": {},
   "outputs": [],
   "source": []
  },
  {
   "cell_type": "code",
   "execution_count": null,
   "id": "6445b6cb-9cc6-4bb8-8482-c335409ac32c",
   "metadata": {},
   "outputs": [],
   "source": []
  },
  {
   "cell_type": "code",
   "execution_count": null,
   "id": "9739a22f-40f1-4f6b-80b8-59d31c10e050",
   "metadata": {},
   "outputs": [],
   "source": []
  },
  {
   "cell_type": "code",
   "execution_count": null,
   "id": "050d5e36-c57a-433f-adfa-7cc3002cab1e",
   "metadata": {},
   "outputs": [],
   "source": []
  },
  {
   "cell_type": "code",
   "execution_count": null,
   "id": "5f2bedb2-31f0-4828-b0fe-355e9ed5607e",
   "metadata": {},
   "outputs": [],
   "source": []
  },
  {
   "cell_type": "code",
   "execution_count": null,
   "id": "94738ba7-5774-40e8-99c0-cdce35ebf3cf",
   "metadata": {},
   "outputs": [],
   "source": []
  },
  {
   "cell_type": "code",
   "execution_count": null,
   "id": "c3505a44-7f2e-41d3-9381-2c2ba8ea4403",
   "metadata": {},
   "outputs": [],
   "source": []
  },
  {
   "cell_type": "code",
   "execution_count": null,
   "id": "22f416ac-9fe1-4187-826c-4d8a8356c3bc",
   "metadata": {},
   "outputs": [],
   "source": []
  },
  {
   "cell_type": "code",
   "execution_count": null,
   "id": "c84371f3-bce1-4790-bde7-ea49935fee60",
   "metadata": {},
   "outputs": [],
   "source": []
  },
  {
   "cell_type": "code",
   "execution_count": null,
   "id": "66da0889-0812-4577-a651-3f0b48a47502",
   "metadata": {},
   "outputs": [],
   "source": []
  },
  {
   "cell_type": "code",
   "execution_count": null,
   "id": "facc964e-d960-45b1-9141-d1869fa3d2ac",
   "metadata": {},
   "outputs": [],
   "source": []
  },
  {
   "cell_type": "code",
   "execution_count": null,
   "id": "19fcda74-5ef0-49c2-8d5b-d56f1e13d7fa",
   "metadata": {},
   "outputs": [],
   "source": []
  },
  {
   "cell_type": "code",
   "execution_count": null,
   "id": "474abd10-5fd2-4bab-b17a-e46d33fb5089",
   "metadata": {},
   "outputs": [],
   "source": []
  },
  {
   "cell_type": "code",
   "execution_count": null,
   "id": "b29c3d8f-49f9-425a-bf35-72464655cf65",
   "metadata": {},
   "outputs": [],
   "source": []
  },
  {
   "cell_type": "code",
   "execution_count": null,
   "id": "138bce96-aca1-4dfc-b188-26f65780eab5",
   "metadata": {},
   "outputs": [],
   "source": []
  },
  {
   "cell_type": "code",
   "execution_count": null,
   "id": "c8723bcc-3d6d-4baa-b50c-e18d9858aebb",
   "metadata": {},
   "outputs": [],
   "source": []
  },
  {
   "cell_type": "code",
   "execution_count": null,
   "id": "8b54c56e-d17e-4421-bfb7-9bafee0ba11a",
   "metadata": {},
   "outputs": [],
   "source": []
  },
  {
   "cell_type": "code",
   "execution_count": null,
   "id": "f570d741-e853-4fac-86f2-0423894e4fbc",
   "metadata": {},
   "outputs": [],
   "source": []
  },
  {
   "cell_type": "code",
   "execution_count": null,
   "id": "e04287b9-5133-4c34-a182-7dcb35f0a609",
   "metadata": {},
   "outputs": [],
   "source": []
  },
  {
   "cell_type": "code",
   "execution_count": null,
   "id": "ed888970-1be3-457a-a4a8-1e49a1ed5485",
   "metadata": {},
   "outputs": [],
   "source": []
  },
  {
   "cell_type": "code",
   "execution_count": null,
   "id": "24cb62cb-9ea2-4dd2-9492-f83cdcd8ad85",
   "metadata": {},
   "outputs": [],
   "source": []
  },
  {
   "cell_type": "code",
   "execution_count": null,
   "id": "d7ed50e2-784f-4e46-a4a5-3be69163bca1",
   "metadata": {},
   "outputs": [],
   "source": []
  },
  {
   "cell_type": "code",
   "execution_count": null,
   "id": "3a43888e-3ae4-4685-a35e-9176bdbedafb",
   "metadata": {},
   "outputs": [],
   "source": []
  },
  {
   "cell_type": "code",
   "execution_count": null,
   "id": "f3eca706-55f9-46bd-962d-91848a6ef77b",
   "metadata": {},
   "outputs": [],
   "source": []
  },
  {
   "cell_type": "code",
   "execution_count": null,
   "id": "2b4fe29a-9f73-4fca-a663-e98749e464c7",
   "metadata": {},
   "outputs": [],
   "source": []
  },
  {
   "cell_type": "code",
   "execution_count": null,
   "id": "1f6b861d-96bd-49ea-84a1-a42669436bb8",
   "metadata": {},
   "outputs": [],
   "source": []
  }
 ],
 "metadata": {
  "kernelspec": {
   "display_name": "Python 3 (ipykernel)",
   "language": "python",
   "name": "python3"
  },
  "language_info": {
   "codemirror_mode": {
    "name": "ipython",
    "version": 3
   },
   "file_extension": ".py",
   "mimetype": "text/x-python",
   "name": "python",
   "nbconvert_exporter": "python",
   "pygments_lexer": "ipython3",
   "version": "3.10.8"
  }
 },
 "nbformat": 4,
 "nbformat_minor": 5
}
