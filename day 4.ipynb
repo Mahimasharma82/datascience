{
 "cells": [
  {
   "cell_type": "code",
   "execution_count": 1,
   "id": "a61640ad-9679-4e8e-aae9-0564860be800",
   "metadata": {},
   "outputs": [],
   "source": [
    "name=\"pwskills\"\n",
    "vowel=\"AaEeIiOoUu\""
   ]
  },
  {
   "cell_type": "code",
   "execution_count": 7,
   "id": "c8b7ae31-3237-4fb5-b24a-7a09d6800e15",
   "metadata": {},
   "outputs": [
    {
     "ename": "SyntaxError",
     "evalue": "cannot assign to subscript here. Maybe you meant '==' instead of '='? (635783793.py, line 4)",
     "output_type": "error",
     "traceback": [
      "\u001b[0;36m  Cell \u001b[0;32mIn[7], line 4\u001b[0;36m\u001b[0m\n\u001b[0;31m    if name[ch]=vowel:\u001b[0m\n\u001b[0m       ^\u001b[0m\n\u001b[0;31mSyntaxError\u001b[0m\u001b[0;31m:\u001b[0m cannot assign to subscript here. Maybe you meant '==' instead of '='?\n"
     ]
    }
   ],
   "source": [
    "ch=len(name)-1\n",
    "while ch>=0:\n",
    "    print(name[ch])\n",
    "    if name[ch]=vowel:\n",
    "        print(\"it is a vowel\")\n",
    "    ch=ch-1\n"
   ]
  },
  {
   "cell_type": "code",
   "execution_count": 12,
   "id": "aea2ffc6-d815-44e5-9b59-fc0d025c9100",
   "metadata": {},
   "outputs": [
    {
     "name": "stdout",
     "output_type": "stream",
     "text": [
      "p is not a vowel\n",
      "w is not a vowel\n",
      "s is not a vowel\n",
      "k is not a vowel\n",
      "i is a vowel\n",
      "l is not a vowel\n",
      "l is not a vowel\n",
      "s is not a vowel\n"
     ]
    }
   ],
   "source": [
    "for i in name:\n",
    "    if i in vowel:\n",
    "        print(f\"{i} is a vowel\")\n",
    "    else:\n",
    "        print(f\"{i} is not a vowel\")\n",
    "##in is a in built function that used in ghusna means kisi k bhi elements padhne m kaam aata h"
   ]
  },
  {
   "cell_type": "markdown",
   "id": "20cd6a07-d1f7-43ad-9736-9ce5b3e81b42",
   "metadata": {},
   "source": [
    "## list"
   ]
  },
  {
   "cell_type": "code",
   "execution_count": 2,
   "id": "fea8829c-b621-40fb-a6c3-5b77f3b51458",
   "metadata": {},
   "outputs": [
    {
     "data": {
      "text/plain": [
       "list"
      ]
     },
     "execution_count": 2,
     "metadata": {},
     "output_type": "execute_result"
    }
   ],
   "source": [
    "[]\n",
    "type([])"
   ]
  },
  {
   "cell_type": "code",
   "execution_count": 4,
   "id": "7c5860ae-1215-412e-a6e8-808521199d6b",
   "metadata": {},
   "outputs": [
    {
     "data": {
      "text/plain": [
       "['m', 'a', 'h', 'i', 'm', 'a']"
      ]
     },
     "execution_count": 4,
     "metadata": {},
     "output_type": "execute_result"
    }
   ],
   "source": [
    "name=\"mahima\"\n",
    "list(name)"
   ]
  },
  {
   "cell_type": "code",
   "execution_count": 6,
   "id": "ab07084b-ff9e-4029-b2de-0ad21198206e",
   "metadata": {},
   "outputs": [
    {
     "data": {
      "text/plain": [
       "['mahima']"
      ]
     },
     "execution_count": 6,
     "metadata": {},
     "output_type": "execute_result"
    }
   ],
   "source": [
    "list(name.split(\" \"))"
   ]
  },
  {
   "cell_type": "code",
   "execution_count": 8,
   "id": "6bd8e18a-0f7e-4791-bb34-70a2fbe0a4ca",
   "metadata": {},
   "outputs": [
    {
     "data": {
      "text/plain": [
       "['d',\n",
       " 'a',\n",
       " 't',\n",
       " 'a',\n",
       " ' ',\n",
       " 's',\n",
       " 'c',\n",
       " 'i',\n",
       " 'e',\n",
       " 'n',\n",
       " 'c',\n",
       " 'e',\n",
       " ' ',\n",
       " 'm',\n",
       " 'a',\n",
       " 's',\n",
       " 't',\n",
       " 'e',\n",
       " 'r',\n",
       " 's']"
      ]
     },
     "execution_count": 8,
     "metadata": {},
     "output_type": "execute_result"
    }
   ],
   "source": [
    "course=\"data science masters\"\n",
    "list(course)"
   ]
  },
  {
   "cell_type": "code",
   "execution_count": 10,
   "id": "d8fd9cfd-7a16-4864-a54d-ddb7ab986af5",
   "metadata": {},
   "outputs": [
    {
     "data": {
      "text/plain": [
       "['data', 'science', 'masters']"
      ]
     },
     "execution_count": 10,
     "metadata": {},
     "output_type": "execute_result"
    }
   ],
   "source": [
    "list(course.split(\" \"))"
   ]
  },
  {
   "cell_type": "code",
   "execution_count": null,
   "id": "0e0c42db-6382-4c4f-981e-e053eb86be6c",
   "metadata": {},
   "outputs": [],
   "source": [
    "lst1"
   ]
  },
  {
   "cell_type": "code",
   "execution_count": 11,
   "id": "23dbfc45-cecf-430b-9be0-83da7823d5c8",
   "metadata": {},
   "outputs": [
    {
     "ename": "NameError",
     "evalue": "name 'lst1' is not defined",
     "output_type": "error",
     "traceback": [
      "\u001b[0;31m---------------------------------------------------------------------------\u001b[0m",
      "\u001b[0;31mNameError\u001b[0m                                 Traceback (most recent call last)",
      "Cell \u001b[0;32mIn[11], line 1\u001b[0m\n\u001b[0;32m----> 1\u001b[0m \u001b[43mlst1\u001b[49m\u001b[38;5;241m+\u001b[39m\u001b[38;5;241m1\u001b[39m\n",
      "\u001b[0;31mNameError\u001b[0m: name 'lst1' is not defined"
     ]
    }
   ],
   "source": [
    "lst1+1"
   ]
  },
  {
   "cell_type": "code",
   "execution_count": 16,
   "id": "268c1758-3720-4874-82e2-6c7861cdd100",
   "metadata": {},
   "outputs": [],
   "source": [
    "lst1=[\"pw\",\"skills\",\"data\",\"science\",\"masters\"]"
   ]
  },
  {
   "cell_type": "code",
   "execution_count": 17,
   "id": "d163f969-76db-44a5-86b8-a685304f7a10",
   "metadata": {},
   "outputs": [
    {
     "data": {
      "text/plain": [
       "['pw', 'skills', 'data', 'science', 'masters']"
      ]
     },
     "execution_count": 17,
     "metadata": {},
     "output_type": "execute_result"
    }
   ],
   "source": [
    "lst1"
   ]
  },
  {
   "cell_type": "code",
   "execution_count": 26,
   "id": "a8f7f854-0167-4745-b19c-f78d1c1e2747",
   "metadata": {},
   "outputs": [
    {
     "name": "stdout",
     "output_type": "stream",
     "text": [
      "pw\n",
      "skills\n",
      "data\n",
      "science\n",
      "masters\n"
     ]
    }
   ],
   "source": [
    "for i in lst1:\n",
    "    print(i)\n",
    "        "
   ]
  },
  {
   "cell_type": "code",
   "execution_count": 27,
   "id": "f9774c57-8eb9-477d-b89a-13306876cc07",
   "metadata": {},
   "outputs": [
    {
     "name": "stdout",
     "output_type": "stream",
     "text": [
      "present\n"
     ]
    }
   ],
   "source": [
    "if \"science\" in lst1:\n",
    "    print(\"present\")"
   ]
  },
  {
   "cell_type": "code",
   "execution_count": 28,
   "id": "d8c40574-c34f-4617-b9ef-105c2b4aee75",
   "metadata": {},
   "outputs": [
    {
     "name": "stdout",
     "output_type": "stream",
     "text": [
      "you r not cutieee\n"
     ]
    }
   ],
   "source": [
    "if \"cutie\" in lst1:\n",
    "    print(\"present\")\n",
    "else:\n",
    "    print(\"you r not cutieee\")"
   ]
  },
  {
   "cell_type": "code",
   "execution_count": 32,
   "id": "298c700e-b2ff-4913-8e22-f050b04474b5",
   "metadata": {},
   "outputs": [
    {
     "data": {
      "text/plain": [
       "8"
      ]
     },
     "execution_count": 32,
     "metadata": {},
     "output_type": "execute_result"
    }
   ],
   "source": [
    "lst2=[\"zebra\",\"donkey\",\"money\",\"lion\"]\n",
    "lst3=[1,3,4,7,8]\n",
    "max(lst2)\n",
    "max(lst3)"
   ]
  },
  {
   "cell_type": "code",
   "execution_count": 33,
   "id": "0a00d4a8-86fe-4e18-becd-0f297345f73f",
   "metadata": {},
   "outputs": [
    {
     "data": {
      "text/plain": [
       "'donkey'"
      ]
     },
     "execution_count": 33,
     "metadata": {},
     "output_type": "execute_result"
    }
   ],
   "source": [
    "min(lst2)"
   ]
  },
  {
   "cell_type": "code",
   "execution_count": 34,
   "id": "ba346391-d572-4b0d-aa44-b49e9ebe1ccf",
   "metadata": {},
   "outputs": [
    {
     "data": {
      "text/plain": [
       "1"
      ]
     },
     "execution_count": 34,
     "metadata": {},
     "output_type": "execute_result"
    }
   ],
   "source": [
    "min(lst3)"
   ]
  },
  {
   "cell_type": "code",
   "execution_count": null,
   "id": "0bc0ed8b-938e-42a5-aef5-a171525f4267",
   "metadata": {},
   "outputs": [],
   "source": [
    "## Append"
   ]
  },
  {
   "cell_type": "code",
   "execution_count": 35,
   "id": "85e0d3d2-48d3-4eda-becc-4e9147df6836",
   "metadata": {},
   "outputs": [],
   "source": [
    "lst2.append(\"cutiee\")"
   ]
  },
  {
   "cell_type": "code",
   "execution_count": 36,
   "id": "64c508d4-897f-47d1-9871-b99edbf30230",
   "metadata": {},
   "outputs": [
    {
     "data": {
      "text/plain": [
       "['zebra', 'donkey', 'money', 'lion', 'cutiee']"
      ]
     },
     "execution_count": 36,
     "metadata": {},
     "output_type": "execute_result"
    }
   ],
   "source": [
    "lst2"
   ]
  },
  {
   "cell_type": "code",
   "execution_count": 37,
   "id": "4f2bf252-9863-460a-a7ce-9fb04b94e068",
   "metadata": {},
   "outputs": [],
   "source": [
    "lst2.append([1,3,4,7,8])"
   ]
  },
  {
   "cell_type": "code",
   "execution_count": 38,
   "id": "6d2d5385-f65b-4cbe-ac7b-ca5d19dac88e",
   "metadata": {},
   "outputs": [
    {
     "data": {
      "text/plain": [
       "['zebra', 'donkey', 'money', 'lion', 'cutiee', [1, 3, 4, 7, 8]]"
      ]
     },
     "execution_count": 38,
     "metadata": {},
     "output_type": "execute_result"
    }
   ],
   "source": [
    "lst2"
   ]
  },
  {
   "cell_type": "code",
   "execution_count": 39,
   "id": "f282a135-2e52-4a88-bde0-c4844f277e7b",
   "metadata": {},
   "outputs": [
    {
     "data": {
      "text/plain": [
       "[1, 3, 4, 7, 8]"
      ]
     },
     "execution_count": 39,
     "metadata": {},
     "output_type": "execute_result"
    }
   ],
   "source": [
    "lst2.pop()"
   ]
  },
  {
   "cell_type": "code",
   "execution_count": 40,
   "id": "0b810f2b-6752-401f-8a10-5ab02b9777bf",
   "metadata": {},
   "outputs": [
    {
     "data": {
      "text/plain": [
       "['zebra', 'donkey', 'money', 'lion', 'cutiee']"
      ]
     },
     "execution_count": 40,
     "metadata": {},
     "output_type": "execute_result"
    }
   ],
   "source": [
    "lst2"
   ]
  },
  {
   "cell_type": "code",
   "execution_count": 41,
   "id": "6360e453-85cf-4b2b-8548-a4286f3cbe10",
   "metadata": {},
   "outputs": [
    {
     "data": {
      "text/plain": [
       "'money'"
      ]
     },
     "execution_count": 41,
     "metadata": {},
     "output_type": "execute_result"
    }
   ],
   "source": [
    "lst2.pop(2)"
   ]
  },
  {
   "cell_type": "code",
   "execution_count": 42,
   "id": "8b1100ff-ced4-4f58-9f4b-387244819f44",
   "metadata": {},
   "outputs": [
    {
     "ename": "AttributeError",
     "evalue": "'list' object has no attribute 'push'",
     "output_type": "error",
     "traceback": [
      "\u001b[0;31m---------------------------------------------------------------------------\u001b[0m",
      "\u001b[0;31mAttributeError\u001b[0m                            Traceback (most recent call last)",
      "Cell \u001b[0;32mIn[42], line 1\u001b[0m\n\u001b[0;32m----> 1\u001b[0m \u001b[43mlst2\u001b[49m\u001b[38;5;241;43m.\u001b[39;49m\u001b[43mpush\u001b[49m(mine)\n",
      "\u001b[0;31mAttributeError\u001b[0m: 'list' object has no attribute 'push'"
     ]
    }
   ],
   "source": [
    "lst2.push(mine)"
   ]
  },
  {
   "cell_type": "code",
   "execution_count": 43,
   "id": "c74caccd-8cf7-4ad4-96bb-ed100062fdcc",
   "metadata": {},
   "outputs": [],
   "source": [
    "#sorting and reversind"
   ]
  },
  {
   "cell_type": "code",
   "execution_count": 46,
   "id": "f8636abd-29da-47d8-814e-5bceadfc007d",
   "metadata": {},
   "outputs": [
    {
     "data": {
      "text/plain": [
       "['h', 'f', 'c', 'a']"
      ]
     },
     "execution_count": 46,
     "metadata": {},
     "output_type": "execute_result"
    }
   ],
   "source": [
    "new_list=['a','c',\"f\",'h']\n",
    "new_list[::-1]"
   ]
  },
  {
   "cell_type": "code",
   "execution_count": 47,
   "id": "7ccc33fe-f1c6-4748-aef9-d21a95fb533f",
   "metadata": {},
   "outputs": [
    {
     "data": {
      "text/plain": [
       "['a', 'c', 'f', 'h']"
      ]
     },
     "execution_count": 47,
     "metadata": {},
     "output_type": "execute_result"
    }
   ],
   "source": [
    "new_list"
   ]
  },
  {
   "cell_type": "code",
   "execution_count": 48,
   "id": "2e035427-8b4b-49ae-a57f-4967872d0f0e",
   "metadata": {},
   "outputs": [],
   "source": [
    "new_list.reverse()"
   ]
  },
  {
   "cell_type": "code",
   "execution_count": 49,
   "id": "53975560-2741-452c-bfce-027d2e4e2bd9",
   "metadata": {},
   "outputs": [
    {
     "data": {
      "text/plain": [
       "['h', 'f', 'c', 'a']"
      ]
     },
     "execution_count": 49,
     "metadata": {},
     "output_type": "execute_result"
    }
   ],
   "source": [
    "new_list"
   ]
  },
  {
   "cell_type": "code",
   "execution_count": 50,
   "id": "6b24fcc8-1c79-46b0-aea1-b0bc3d7ae455",
   "metadata": {},
   "outputs": [],
   "source": [
    "new_list.sort()"
   ]
  },
  {
   "cell_type": "code",
   "execution_count": 51,
   "id": "acb6b682-d440-46b3-aa52-e6ed4ff706ca",
   "metadata": {},
   "outputs": [
    {
     "data": {
      "text/plain": [
       "['a', 'c', 'f', 'h']"
      ]
     },
     "execution_count": 51,
     "metadata": {},
     "output_type": "execute_result"
    }
   ],
   "source": [
    "new_list"
   ]
  },
  {
   "cell_type": "code",
   "execution_count": 54,
   "id": "4ca14590-a5a7-4648-9f36-084c8b2a56c9",
   "metadata": {},
   "outputs": [],
   "source": [
    "new_list.append([\"pw\",\"skills\"])"
   ]
  },
  {
   "cell_type": "code",
   "execution_count": 55,
   "id": "92c9b106-25c3-41c5-b5ef-f89514b15ee6",
   "metadata": {},
   "outputs": [
    {
     "data": {
      "text/plain": [
       "['a', 'c', 'f', 'h', ['pw', 'skills']]"
      ]
     },
     "execution_count": 55,
     "metadata": {},
     "output_type": "execute_result"
    }
   ],
   "source": [
    "new_list"
   ]
  },
  {
   "cell_type": "code",
   "execution_count": 56,
   "id": "e69b2833-80d8-416a-add1-5de60ccb9b7e",
   "metadata": {},
   "outputs": [],
   "source": [
    "new_list.extend([\"pw\",\"skills\"])"
   ]
  },
  {
   "cell_type": "code",
   "execution_count": 57,
   "id": "03e20cee-4def-4512-ba31-57a6930558a8",
   "metadata": {},
   "outputs": [
    {
     "data": {
      "text/plain": [
       "['a', 'c', 'f', 'h', ['pw', 'skills'], 'pw', 'skills']"
      ]
     },
     "execution_count": 57,
     "metadata": {},
     "output_type": "execute_result"
    }
   ],
   "source": [
    "new_list"
   ]
  },
  {
   "cell_type": "code",
   "execution_count": null,
   "id": "c1c7ae72-18e4-4740-a894-11ff5722b63e",
   "metadata": {},
   "outputs": [],
   "source": []
  },
  {
   "cell_type": "code",
   "execution_count": null,
   "id": "29fd813d-742f-49ad-9f3d-8a37114de05f",
   "metadata": {},
   "outputs": [],
   "source": []
  },
  {
   "cell_type": "code",
   "execution_count": null,
   "id": "a687099e-e037-4c40-8538-47669e8f57aa",
   "metadata": {},
   "outputs": [],
   "source": []
  },
  {
   "cell_type": "markdown",
   "id": "ecbf66e9-ef87-406d-92dc-99eeea081a6b",
   "metadata": {},
   "source": [
    "## nested list"
   ]
  },
  {
   "cell_type": "code",
   "execution_count": 59,
   "id": "cf19c82f-6fc9-4a7b-976b-2d9903ecc845",
   "metadata": {},
   "outputs": [
    {
     "data": {
      "text/plain": [
       "[[1, 2, 3], [4, 5, 6], [7, 8, 9]]"
      ]
     },
     "execution_count": 59,
     "metadata": {},
     "output_type": "execute_result"
    }
   ],
   "source": [
    "lst1=[1,2,3]\n",
    "lst2=[4,5,6]\n",
    "lst3=[7,8,9]\n",
    "\n",
    "matrix=[lst1,lst2,lst3]\n",
    "matrix"
   ]
  },
  {
   "cell_type": "code",
   "execution_count": 60,
   "id": "eb54a766-4adc-4cc1-9671-abae79db7cdb",
   "metadata": {},
   "outputs": [
    {
     "data": {
      "text/plain": [
       "6"
      ]
     },
     "execution_count": 60,
     "metadata": {},
     "output_type": "execute_result"
    }
   ],
   "source": [
    "matrix[1][2]"
   ]
  },
  {
   "cell_type": "code",
   "execution_count": 61,
   "id": "08617e36-6caf-4395-9f70-2e20e78a5d45",
   "metadata": {},
   "outputs": [
    {
     "data": {
      "text/plain": [
       "8"
      ]
     },
     "execution_count": 61,
     "metadata": {},
     "output_type": "execute_result"
    }
   ],
   "source": [
    "matrix[2][1]"
   ]
  },
  {
   "cell_type": "code",
   "execution_count": 63,
   "id": "93c36258-c46a-44ce-ae8b-bdb62b487ffe",
   "metadata": {},
   "outputs": [
    {
     "data": {
      "text/plain": [
       "9"
      ]
     },
     "execution_count": 63,
     "metadata": {},
     "output_type": "execute_result"
    }
   ],
   "source": [
    "matrix[2][2]"
   ]
  },
  {
   "cell_type": "code",
   "execution_count": 64,
   "id": "63035e4c-b891-4b03-98cf-16af5dc7c829",
   "metadata": {},
   "outputs": [
    {
     "data": {
      "text/plain": [
       "[8, 9]"
      ]
     },
     "execution_count": 64,
     "metadata": {},
     "output_type": "execute_result"
    }
   ],
   "source": [
    "matrix[2][1:]"
   ]
  },
  {
   "cell_type": "code",
   "execution_count": 70,
   "id": "ffe97a8f-f4db-4548-84a8-fa62b37648f3",
   "metadata": {},
   "outputs": [
    {
     "data": {
      "text/plain": [
       "[1, 2, 3]"
      ]
     },
     "execution_count": 70,
     "metadata": {},
     "output_type": "execute_result"
    }
   ],
   "source": [
    "matrix[0:][0]"
   ]
  },
  {
   "cell_type": "code",
   "execution_count": null,
   "id": "24befb48-1969-40a4-8e27-f411ed1c434f",
   "metadata": {},
   "outputs": [],
   "source": []
  },
  {
   "cell_type": "code",
   "execution_count": null,
   "id": "26a10bce-f410-4273-91ea-55496b3e00bb",
   "metadata": {},
   "outputs": [],
   "source": []
  },
  {
   "cell_type": "code",
   "execution_count": null,
   "id": "685f3487-16da-4741-82e5-de726b185b8d",
   "metadata": {},
   "outputs": [],
   "source": []
  },
  {
   "cell_type": "code",
   "execution_count": null,
   "id": "795d1d80-9c75-42f5-ba60-ffc559812f7e",
   "metadata": {},
   "outputs": [],
   "source": []
  },
  {
   "cell_type": "code",
   "execution_count": null,
   "id": "501dde54-3840-4364-9179-2a6565b06ed1",
   "metadata": {},
   "outputs": [],
   "source": []
  },
  {
   "cell_type": "code",
   "execution_count": null,
   "id": "36649d36-e578-43ea-b973-a519bb44c3cd",
   "metadata": {},
   "outputs": [],
   "source": []
  },
  {
   "cell_type": "code",
   "execution_count": null,
   "id": "5a2aeef8-3bef-48b8-9f5b-82ab64b6d154",
   "metadata": {},
   "outputs": [],
   "source": []
  },
  {
   "cell_type": "code",
   "execution_count": 74,
   "id": "38322fc2-81cc-4e17-ab35-8dac351e557b",
   "metadata": {},
   "outputs": [
    {
     "name": "stdout",
     "output_type": "stream",
     "text": [
      "1\n",
      "2\n",
      "3\n",
      "4\n",
      "5\n",
      "6\n",
      "7\n",
      "8\n"
     ]
    }
   ],
   "source": [
    "lst=[1,2,3,4,5,6,7,8]\n",
    "for i in lst:\n",
    "    "
   ]
  },
  {
   "cell_type": "code",
   "execution_count": null,
   "id": "39d2683c-7461-4401-b9a9-96d24eb1542f",
   "metadata": {},
   "outputs": [],
   "source": []
  },
  {
   "cell_type": "code",
   "execution_count": null,
   "id": "341fcdb3-189f-45d2-b89a-dafb5b25be58",
   "metadata": {},
   "outputs": [],
   "source": []
  },
  {
   "cell_type": "code",
   "execution_count": null,
   "id": "030e0443-c544-48cb-b5f1-0b41470d3c00",
   "metadata": {},
   "outputs": [],
   "source": []
  },
  {
   "cell_type": "code",
   "execution_count": null,
   "id": "355b9741-5e01-4c65-a51b-02d82cf00b51",
   "metadata": {},
   "outputs": [],
   "source": []
  },
  {
   "cell_type": "code",
   "execution_count": null,
   "id": "717c4836-bc8a-4316-a5c1-61bc253ac8ab",
   "metadata": {},
   "outputs": [],
   "source": []
  },
  {
   "cell_type": "code",
   "execution_count": null,
   "id": "37903a2a-212a-44d9-a64c-0b6f9fcb8945",
   "metadata": {},
   "outputs": [],
   "source": []
  },
  {
   "cell_type": "code",
   "execution_count": null,
   "id": "b5734f62-9754-4084-96ba-3a52c8871a2c",
   "metadata": {},
   "outputs": [],
   "source": []
  },
  {
   "cell_type": "code",
   "execution_count": null,
   "id": "5751e9d7-9256-4104-b214-3bf9cc8f93d2",
   "metadata": {},
   "outputs": [],
   "source": []
  },
  {
   "cell_type": "code",
   "execution_count": null,
   "id": "d22feeec-74ac-4dc2-978d-db549416e108",
   "metadata": {},
   "outputs": [],
   "source": []
  },
  {
   "cell_type": "code",
   "execution_count": null,
   "id": "4934c949-2077-400d-a02e-7efea3421896",
   "metadata": {},
   "outputs": [],
   "source": []
  },
  {
   "cell_type": "code",
   "execution_count": null,
   "id": "d6091e5b-14b2-47ba-b2e2-c99d14e5e150",
   "metadata": {},
   "outputs": [],
   "source": []
  },
  {
   "cell_type": "code",
   "execution_count": null,
   "id": "6c7eae30-d2a6-496a-8ac9-b75df552dcac",
   "metadata": {},
   "outputs": [],
   "source": []
  },
  {
   "cell_type": "code",
   "execution_count": null,
   "id": "fc0941e5-f2a6-4944-9888-dd38bb7b8264",
   "metadata": {},
   "outputs": [],
   "source": []
  },
  {
   "cell_type": "code",
   "execution_count": null,
   "id": "a2c71fc8-6609-46d4-b754-c82be961811d",
   "metadata": {},
   "outputs": [],
   "source": []
  },
  {
   "cell_type": "code",
   "execution_count": null,
   "id": "0257f1e0-6033-406d-9da5-4ebfad67978d",
   "metadata": {},
   "outputs": [],
   "source": []
  },
  {
   "cell_type": "code",
   "execution_count": null,
   "id": "88326d6c-255d-46fd-a78a-4eb4cb29ab69",
   "metadata": {},
   "outputs": [],
   "source": []
  }
 ],
 "metadata": {
  "kernelspec": {
   "display_name": "Python 3 (ipykernel)",
   "language": "python",
   "name": "python3"
  },
  "language_info": {
   "codemirror_mode": {
    "name": "ipython",
    "version": 3
   },
   "file_extension": ".py",
   "mimetype": "text/x-python",
   "name": "python",
   "nbconvert_exporter": "python",
   "pygments_lexer": "ipython3",
   "version": "3.10.8"
  }
 },
 "nbformat": 4,
 "nbformat_minor": 5
}
