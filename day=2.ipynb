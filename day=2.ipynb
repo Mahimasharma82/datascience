{
 "cells": [
  {
   "cell_type": "markdown",
   "id": "a1db5071-c98f-421b-b53e-5d661572affc",
   "metadata": {},
   "source": [
    "#datastructure"
   ]
  },
  {
   "cell_type": "markdown",
   "id": "1f4a773b-4b2f-4892-9452-0436ed715cea",
   "metadata": {},
   "source": [
    "string"
   ]
  },
  {
   "cell_type": "code",
   "execution_count": null,
   "id": "bf23597b-5cc2-4711-b1e1-d3488548c303",
   "metadata": {},
   "outputs": [],
   "source": [
    "string =\"pw skills data science masters\""
   ]
  },
  {
   "cell_type": "code",
   "execution_count": 9,
   "id": "7cf22bcf-1370-4e80-a9b8-a58db4e37a73",
   "metadata": {},
   "outputs": [
    {
     "data": {
      "text/plain": [
       "str"
      ]
     },
     "execution_count": 9,
     "metadata": {},
     "output_type": "execute_result"
    }
   ],
   "source": [
    "str1 ='welcome to data sciebce masters'\n",
    "type(str1)"
   ]
  },
  {
   "cell_type": "code",
   "execution_count": 10,
   "id": "59d0639a-d7a0-4603-8f62-9209a698692c",
   "metadata": {},
   "outputs": [
    {
     "data": {
      "text/plain": [
       "'l'"
      ]
     },
     "execution_count": 10,
     "metadata": {},
     "output_type": "execute_result"
    }
   ],
   "source": [
    "str1[2]"
   ]
  },
  {
   "cell_type": "code",
   "execution_count": 11,
   "id": "21c257b3-0ae0-4aae-a706-c788edcc216e",
   "metadata": {},
   "outputs": [
    {
     "ename": "NameError",
     "evalue": "name 'd' is not defined",
     "output_type": "error",
     "traceback": [
      "\u001b[0;31m---------------------------------------------------------------------------\u001b[0m",
      "\u001b[0;31mNameError\u001b[0m                                 Traceback (most recent call last)",
      "Cell \u001b[0;32mIn[11], line 1\u001b[0m\n\u001b[0;32m----> 1\u001b[0m str1[\u001b[38;5;241m2\u001b[39m]\u001b[38;5;241m=\u001b[39m\u001b[43md\u001b[49m\n",
      "\u001b[0;31mNameError\u001b[0m: name 'd' is not defined"
     ]
    }
   ],
   "source": [
    "str1[2]=d\n"
   ]
  },
  {
   "cell_type": "markdown",
   "id": "c31b2b9c-0dbf-491b-abbd-10250e9d1936",
   "metadata": {},
   "source": [
    "because string is immuttable"
   ]
  },
  {
   "cell_type": "code",
   "execution_count": null,
   "id": "d3111b66-953b-4547-a471-f60237e81dbd",
   "metadata": {},
   "outputs": [],
   "source": [
    "str1."
   ]
  },
  {
   "cell_type": "code",
   "execution_count": 13,
   "id": "7dbdfca6-da86-43f4-9a81-53a29d4cdaab",
   "metadata": {},
   "outputs": [
    {
     "data": {
      "text/plain": [
       "'m'"
      ]
     },
     "execution_count": 13,
     "metadata": {},
     "output_type": "execute_result"
    }
   ],
   "source": [
    "str1[5]"
   ]
  },
  {
   "cell_type": "code",
   "execution_count": 15,
   "id": "d78f0169-0df5-4fef-b6cf-4daedb772f76",
   "metadata": {},
   "outputs": [
    {
     "data": {
      "text/plain": [
       "'me to'"
      ]
     },
     "execution_count": 15,
     "metadata": {},
     "output_type": "execute_result"
    }
   ],
   "source": [
    "str1[5:10]"
   ]
  },
  {
   "cell_type": "code",
   "execution_count": 18,
   "id": "87b75164-1bf5-4371-ad7a-edc9d2939574",
   "metadata": {},
   "outputs": [
    {
     "data": {
      "text/plain": [
       "'me to data'"
      ]
     },
     "execution_count": 18,
     "metadata": {},
     "output_type": "execute_result"
    }
   ],
   "source": [
    "str1[5:15]"
   ]
  },
  {
   "cell_type": "code",
   "execution_count": 19,
   "id": "7786e8b6-69c6-449a-80b3-5ae40de4a3a1",
   "metadata": {},
   "outputs": [
    {
     "data": {
      "text/plain": [
       "'s'"
      ]
     },
     "execution_count": 19,
     "metadata": {},
     "output_type": "execute_result"
    }
   ],
   "source": [
    "str1[-1]"
   ]
  },
  {
   "cell_type": "code",
   "execution_count": 20,
   "id": "9d5e3b0d-6d2a-4f92-a74b-c7aa459fae60",
   "metadata": {},
   "outputs": [
    {
     "data": {
      "text/plain": [
       "'s'"
      ]
     },
     "execution_count": 20,
     "metadata": {},
     "output_type": "execute_result"
    }
   ],
   "source": [
    "str1[-1:]"
   ]
  },
  {
   "cell_type": "code",
   "execution_count": null,
   "id": "e2278d7f-9de9-4a5a-b38a-dc0af429bd5f",
   "metadata": {},
   "outputs": [],
   "source": [
    "str1"
   ]
  },
  {
   "cell_type": "code",
   "execution_count": 21,
   "id": "0c15f700-1f88-412f-bad4-8b9e727cceec",
   "metadata": {},
   "outputs": [
    {
     "data": {
      "text/plain": [
       "'welcome to data sciebce master'"
      ]
     },
     "execution_count": 21,
     "metadata": {},
     "output_type": "execute_result"
    }
   ],
   "source": [
    "str1[:-1]"
   ]
  },
  {
   "cell_type": "markdown",
   "id": "ea4c57c4-c159-4a97-96b9-e0498e97773c",
   "metadata": {},
   "source": [
    "read eveything except the last alphabet"
   ]
  },
  {
   "cell_type": "code",
   "execution_count": 22,
   "id": "252b6be6-c141-4b6d-be22-587a9b4c82b0",
   "metadata": {},
   "outputs": [
    {
     "data": {
      "text/plain": [
       "'ahi'"
      ]
     },
     "execution_count": 22,
     "metadata": {},
     "output_type": "execute_result"
    }
   ],
   "source": [
    "name=\"mahima\"\n",
    "name[-5:4]"
   ]
  },
  {
   "cell_type": "code",
   "execution_count": 23,
   "id": "f340c705-5e5d-4ff9-aa8a-34a0cf3800c7",
   "metadata": {},
   "outputs": [
    {
     "data": {
      "text/plain": [
       "'welcome to data sciebce masters'"
      ]
     },
     "execution_count": 23,
     "metadata": {},
     "output_type": "execute_result"
    }
   ],
   "source": [
    "str1[:]"
   ]
  },
  {
   "cell_type": "code",
   "execution_count": 24,
   "id": "e737979b",
   "metadata": {},
   "outputs": [
    {
     "data": {
      "text/plain": [
       "'welcome to data sciebce masters'"
      ]
     },
     "execution_count": 24,
     "metadata": {},
     "output_type": "execute_result"
    }
   ],
   "source": [
    "str1[::]"
   ]
  },
  {
   "cell_type": "code",
   "execution_count": 26,
   "id": "0af260c9-169f-450c-9b22-8eefb82cc6b3",
   "metadata": {},
   "outputs": [
    {
     "data": {
      "text/plain": [
       "'sretsam ecbeics atad ot emoclew'"
      ]
     },
     "execution_count": 26,
     "metadata": {},
     "output_type": "execute_result"
    }
   ],
   "source": [
    "str1[::-1]"
   ]
  },
  {
   "cell_type": "code",
   "execution_count": 27,
   "id": "9fa24fcb-a3c3-4685-95bf-a3b2a249eb0e",
   "metadata": {},
   "outputs": [
    {
     "data": {
      "text/plain": [
       "'sesmebisaa teolw'"
      ]
     },
     "execution_count": 27,
     "metadata": {},
     "output_type": "execute_result"
    }
   ],
   "source": [
    "str1[::-2]"
   ]
  },
  {
   "cell_type": "code",
   "execution_count": 28,
   "id": "d97e0c59-5c73-4ed8-97bf-b8dc63416f7c",
   "metadata": {},
   "outputs": [
    {
     "data": {
      "text/plain": [
       "''"
      ]
     },
     "execution_count": 28,
     "metadata": {},
     "output_type": "execute_result"
    }
   ],
   "source": [
    "str1[0:5:-1]"
   ]
  },
  {
   "cell_type": "code",
   "execution_count": 29,
   "id": "9fd0cbc4-99ef-49bc-b3f9-02fd4e7855bb",
   "metadata": {},
   "outputs": [
    {
     "data": {
      "text/plain": [
       "'e to data sciebce master'"
      ]
     },
     "execution_count": 29,
     "metadata": {},
     "output_type": "execute_result"
    }
   ],
   "source": [
    "str1[6:-1]"
   ]
  },
  {
   "cell_type": "code",
   "execution_count": 30,
   "id": "3a63afaf-7c1f-4378-b3a3-6042549d3ce6",
   "metadata": {},
   "outputs": [
    {
     "data": {
      "text/plain": [
       "'emoclew'"
      ]
     },
     "execution_count": 30,
     "metadata": {},
     "output_type": "execute_result"
    }
   ],
   "source": [
    "str1[6::-1]"
   ]
  },
  {
   "cell_type": "code",
   "execution_count": 31,
   "id": "9dbe1562-071f-4edf-b459-e6a52e1ac8a2",
   "metadata": {},
   "outputs": [
    {
     "data": {
      "text/plain": [
       "'stmci aoecw'"
      ]
     },
     "execution_count": 31,
     "metadata": {},
     "output_type": "execute_result"
    }
   ],
   "source": [
    "str1[::-3]"
   ]
  },
  {
   "cell_type": "code",
   "execution_count": 32,
   "id": "34eca90e-c8cc-40bb-8627-ef29c488a616",
   "metadata": {},
   "outputs": [
    {
     "data": {
      "text/plain": [
       "'w ace'"
      ]
     },
     "execution_count": 32,
     "metadata": {},
     "output_type": "execute_result"
    }
   ],
   "source": [
    "str1[::7]"
   ]
  },
  {
   "cell_type": "code",
   "execution_count": null,
   "id": "f7944420-3ca6-4222-98d6-395a8c5fa25f",
   "metadata": {},
   "outputs": [],
   "source": [
    "name=\"mahima\""
   ]
  },
  {
   "cell_type": "code",
   "execution_count": 33,
   "id": "91a452ff-e547-49e2-9a08-2387320f4340",
   "metadata": {},
   "outputs": [
    {
     "data": {
      "text/plain": [
       "'amiham'"
      ]
     },
     "execution_count": 33,
     "metadata": {},
     "output_type": "execute_result"
    }
   ],
   "source": [
    "name[::-1]"
   ]
  },
  {
   "cell_type": "code",
   "execution_count": 34,
   "id": "88ed6917-284e-40ae-a3b0-4f447a5423dc",
   "metadata": {},
   "outputs": [
    {
     "data": {
      "text/plain": [
       "'mhm'"
      ]
     },
     "execution_count": 34,
     "metadata": {},
     "output_type": "execute_result"
    }
   ],
   "source": [
    "name[::2]"
   ]
  },
  {
   "cell_type": "code",
   "execution_count": 35,
   "id": "408677da-fd27-457a-9f10-579226538995",
   "metadata": {},
   "outputs": [
    {
     "data": {
      "text/plain": [
       "'mi'"
      ]
     },
     "execution_count": 35,
     "metadata": {},
     "output_type": "execute_result"
    }
   ],
   "source": [
    "name[::3]"
   ]
  },
  {
   "cell_type": "code",
   "execution_count": 36,
   "id": "3eb308ff-1608-4318-9dc2-d9ce4b88e9c9",
   "metadata": {},
   "outputs": [
    {
     "data": {
      "text/plain": [
       "'aia'"
      ]
     },
     "execution_count": 36,
     "metadata": {},
     "output_type": "execute_result"
    }
   ],
   "source": [
    "name[::-2]"
   ]
  },
  {
   "cell_type": "code",
   "execution_count": 37,
   "id": "d2619fcf-aa06-4fb0-91f4-d455281ff16b",
   "metadata": {},
   "outputs": [
    {
     "data": {
      "text/plain": [
       "'ah'"
      ]
     },
     "execution_count": 37,
     "metadata": {},
     "output_type": "execute_result"
    }
   ],
   "source": [
    "name[::-3]"
   ]
  },
  {
   "cell_type": "code",
   "execution_count": 38,
   "id": "e0e90173-142a-4484-9173-25c5577d7525",
   "metadata": {},
   "outputs": [
    {
     "data": {
      "text/plain": [
       "'mhm'"
      ]
     },
     "execution_count": 38,
     "metadata": {},
     "output_type": "execute_result"
    }
   ],
   "source": [
    "name[4::-2]"
   ]
  },
  {
   "cell_type": "code",
   "execution_count": 39,
   "id": "a6af65e8-4268-450f-a992-a9422faa6820",
   "metadata": {},
   "outputs": [
    {
     "data": {
      "text/plain": [
       "'ih'"
      ]
     },
     "execution_count": 39,
     "metadata": {},
     "output_type": "execute_result"
    }
   ],
   "source": [
    "name[3:1:-1]"
   ]
  },
  {
   "cell_type": "code",
   "execution_count": 42,
   "id": "f579fc4f-25fc-401c-9ce7-53736d7174c3",
   "metadata": {},
   "outputs": [],
   "source": [
    "course_name=\"data science masters\""
   ]
  },
  {
   "cell_type": "code",
   "execution_count": 44,
   "id": "0d3d0955-1a84-48c6-92a4-c462332ae14b",
   "metadata": {},
   "outputs": [
    {
     "data": {
      "text/plain": [
       "'s'"
      ]
     },
     "execution_count": 44,
     "metadata": {},
     "output_type": "execute_result"
    }
   ],
   "source": [
    "course_name[5]"
   ]
  },
  {
   "cell_type": "code",
   "execution_count": 43,
   "id": "69944708-ca7e-4618-856b-076738b69f20",
   "metadata": {},
   "outputs": [
    {
     "name": "stdout",
     "output_type": "stream",
     "text": [
      "data science masters\n"
     ]
    }
   ],
   "source": [
    "print(course_name)"
   ]
  },
  {
   "cell_type": "code",
   "execution_count": 46,
   "id": "125e6d5c-3800-4524-ae17-dbda2204ec6c",
   "metadata": {},
   "outputs": [
    {
     "data": {
      "text/plain": [
       "'science'"
      ]
     },
     "execution_count": 46,
     "metadata": {},
     "output_type": "execute_result"
    }
   ],
   "source": [
    "course_name[5:-8]"
   ]
  },
  {
   "cell_type": "code",
   "execution_count": 49,
   "id": "c866c8ce-ec32-40ad-9005-ca11856294d3",
   "metadata": {},
   "outputs": [
    {
     "data": {
      "text/plain": [
       "'ecneics'"
      ]
     },
     "execution_count": 49,
     "metadata": {},
     "output_type": "execute_result"
    }
   ],
   "source": [
    "course_name[11:4:-1]"
   ]
  },
  {
   "cell_type": "code",
   "execution_count": null,
   "id": "42239ea7-0d3e-4a1a-bf98-ea0e49110802",
   "metadata": {},
   "outputs": [],
   "source": []
  },
  {
   "cell_type": "code",
   "execution_count": null,
   "id": "4d10f9df-0eb7-4b25-9f3d-9ad4f3e772a1",
   "metadata": {},
   "outputs": [],
   "source": []
  },
  {
   "cell_type": "code",
   "execution_count": null,
   "id": "c50f0bf8-a1e5-4f23-b9e7-7741f0a9258a",
   "metadata": {},
   "outputs": [],
   "source": []
  },
  {
   "cell_type": "markdown",
   "id": "494d6579-028e-4b7e-9ac8-2979e1c1e0c6",
   "metadata": {},
   "source": [
    "display only science from data science masters"
   ]
  },
  {
   "cell_type": "markdown",
   "id": "d43c0e11-a357-490d-861a-1eee168a181c",
   "metadata": {},
   "source": [
    "this technique is known as slicing"
   ]
  },
  {
   "cell_type": "code",
   "execution_count": null,
   "id": "9c952e77-4a41-4dea-82ad-c310c288c012",
   "metadata": {},
   "outputs": [],
   "source": [
    "course_name=\"data science masters\""
   ]
  },
  {
   "cell_type": "code",
   "execution_count": 50,
   "id": "496f009c-47dc-4a4b-9e53-c52fd8cee54a",
   "metadata": {},
   "outputs": [
    {
     "data": {
      "text/plain": [
       "'data science masters'"
      ]
     },
     "execution_count": 50,
     "metadata": {},
     "output_type": "execute_result"
    }
   ],
   "source": [
    "course_name"
   ]
  },
  {
   "cell_type": "code",
   "execution_count": 51,
   "id": "268dba08-aa41-495d-a237-05fd4821aa8a",
   "metadata": {},
   "outputs": [
    {
     "data": {
      "text/plain": [
       "'data science masterscourse'"
      ]
     },
     "execution_count": 51,
     "metadata": {},
     "output_type": "execute_result"
    }
   ],
   "source": [
    "##CONCATENTATION\n",
    "course_name + \"course\""
   ]
  },
  {
   "cell_type": "code",
   "execution_count": 52,
   "id": "5ea7a852-2fb3-4a52-89b1-f065427eed8a",
   "metadata": {},
   "outputs": [
    {
     "name": "stdout",
     "output_type": "stream",
     "text": [
      "helloworld\n"
     ]
    }
   ],
   "source": [
    "print(\"hello\" + \"world\")"
   ]
  },
  {
   "cell_type": "code",
   "execution_count": 53,
   "id": "dba3938c-7229-4fe2-906a-abc2167f4938",
   "metadata": {},
   "outputs": [
    {
     "data": {
      "text/plain": [
       "'data science mastersdata science mastersdata science mastersdata science mastersdata science masters'"
      ]
     },
     "execution_count": 53,
     "metadata": {},
     "output_type": "execute_result"
    }
   ],
   "source": [
    "course_name *5"
   ]
  },
  {
   "cell_type": "code",
   "execution_count": 54,
   "id": "e9ef01db-bc1b-4d54-84fe-0d2fc89e5efc",
   "metadata": {},
   "outputs": [
    {
     "data": {
      "text/plain": [
       "20"
      ]
     },
     "execution_count": 54,
     "metadata": {},
     "output_type": "execute_result"
    }
   ],
   "source": [
    "len(course_name)"
   ]
  },
  {
   "cell_type": "code",
   "execution_count": 55,
   "id": "81eef6b9-e5a3-473e-9fc1-c4f6bbdd2ca0",
   "metadata": {},
   "outputs": [
    {
     "data": {
      "text/plain": [
       "5"
      ]
     },
     "execution_count": 55,
     "metadata": {},
     "output_type": "execute_result"
    }
   ],
   "source": [
    "course_name.find(\"s\")"
   ]
  },
  {
   "cell_type": "code",
   "execution_count": 56,
   "id": "91ba62f6-2235-460b-adad-c96c1d067021",
   "metadata": {},
   "outputs": [
    {
     "data": {
      "text/plain": [
       "1"
      ]
     },
     "execution_count": 56,
     "metadata": {},
     "output_type": "execute_result"
    }
   ],
   "source": [
    "course_name.find(\"a\")"
   ]
  },
  {
   "cell_type": "code",
   "execution_count": 57,
   "id": "2e36ad84-4b4e-4211-a391-fe2d4e8659ba",
   "metadata": {},
   "outputs": [
    {
     "data": {
      "text/plain": [
       "3"
      ]
     },
     "execution_count": 57,
     "metadata": {},
     "output_type": "execute_result"
    }
   ],
   "source": [
    "course_name.find(\"a\",2,10)"
   ]
  },
  {
   "cell_type": "code",
   "execution_count": 58,
   "id": "e3eb9e1b-b40b-4e08-8920-2b95fe40cd4f",
   "metadata": {},
   "outputs": [
    {
     "data": {
      "text/plain": [
       "-1"
      ]
     },
     "execution_count": 58,
     "metadata": {},
     "output_type": "execute_result"
    }
   ],
   "source": [
    "course_name.find(\"z\")"
   ]
  },
  {
   "cell_type": "code",
   "execution_count": 59,
   "id": "aec23c59-2d33-4e15-a80b-9860b5768b75",
   "metadata": {},
   "outputs": [
    {
     "data": {
      "text/plain": [
       "3"
      ]
     },
     "execution_count": 59,
     "metadata": {},
     "output_type": "execute_result"
    }
   ],
   "source": [
    "##count()\n",
    "course_name.count(\"a\")"
   ]
  },
  {
   "cell_type": "code",
   "execution_count": 60,
   "id": "5bfa63c5-70b3-40f3-aef2-784f7d1570d3",
   "metadata": {},
   "outputs": [
    {
     "data": {
      "text/plain": [
       "2"
      ]
     },
     "execution_count": 60,
     "metadata": {},
     "output_type": "execute_result"
    }
   ],
   "source": [
    "course_name.count(\" \")"
   ]
  },
  {
   "cell_type": "code",
   "execution_count": 61,
   "id": "3eed3eb6-453e-4a55-8d61-6ed6271b28bf",
   "metadata": {},
   "outputs": [
    {
     "data": {
      "text/plain": [
       "1"
      ]
     },
     "execution_count": 61,
     "metadata": {},
     "output_type": "execute_result"
    }
   ],
   "source": [
    "course_name.count(\"r\")"
   ]
  },
  {
   "cell_type": "code",
   "execution_count": 62,
   "id": "8dafdf3c-1e22-4686-ba8f-c5a59901d02a",
   "metadata": {},
   "outputs": [
    {
     "data": {
      "text/plain": [
       "21"
      ]
     },
     "execution_count": 62,
     "metadata": {},
     "output_type": "execute_result"
    }
   ],
   "source": [
    "course_name.count(\"\")"
   ]
  },
  {
   "cell_type": "code",
   "execution_count": 63,
   "id": "95dc15e7-fc4e-4891-b6ba-cc41467e1faa",
   "metadata": {},
   "outputs": [
    {
     "data": {
      "text/plain": [
       "0"
      ]
     },
     "execution_count": 63,
     "metadata": {},
     "output_type": "execute_result"
    }
   ],
   "source": [
    "course_name.count(\"z\")"
   ]
  },
  {
   "cell_type": "code",
   "execution_count": 64,
   "id": "01351eef-12fe-471c-8948-e21159866bee",
   "metadata": {},
   "outputs": [
    {
     "data": {
      "text/plain": [
       "1"
      ]
     },
     "execution_count": 64,
     "metadata": {},
     "output_type": "execute_result"
    }
   ],
   "source": [
    "course_name.count(\"a\",2,10)"
   ]
  },
  {
   "cell_type": "code",
   "execution_count": 65,
   "id": "780c5156-770e-4af0-8537-db65fde19ed4",
   "metadata": {},
   "outputs": [
    {
     "data": {
      "text/plain": [
       "1"
      ]
     },
     "execution_count": 65,
     "metadata": {},
     "output_type": "execute_result"
    }
   ],
   "source": [
    "course_name.count(\"r\",2,22)"
   ]
  },
  {
   "cell_type": "code",
   "execution_count": 67,
   "id": "4bf15bbf-9432-479a-b175-737a3649b26c",
   "metadata": {},
   "outputs": [
    {
     "data": {
      "text/plain": [
       "['data', 'science', 'masters']"
      ]
     },
     "execution_count": 67,
     "metadata": {},
     "output_type": "execute_result"
    }
   ],
   "source": [
    "##string spilt function\n",
    "course_name.split(\" \")"
   ]
  },
  {
   "cell_type": "code",
   "execution_count": 69,
   "id": "4fd866a8-2f88-4312-adf0-4630aa98cf97",
   "metadata": {},
   "outputs": [
    {
     "data": {
      "text/plain": [
       "'data science masters'"
      ]
     },
     "execution_count": 69,
     "metadata": {},
     "output_type": "execute_result"
    }
   ],
   "source": [
    "course_name"
   ]
  },
  {
   "cell_type": "code",
   "execution_count": 68,
   "id": "cdd1d158-b3fd-4aa9-8a34-184fbc0535c8",
   "metadata": {},
   "outputs": [
    {
     "data": {
      "text/plain": [
       "['data ', 'cience ma', 'ter', '']"
      ]
     },
     "execution_count": 68,
     "metadata": {},
     "output_type": "execute_result"
    }
   ],
   "source": [
    "course_name.split(\"s\")"
   ]
  },
  {
   "cell_type": "code",
   "execution_count": 70,
   "id": "fe91abfb-6a6a-4f13-85e3-9097e64de31c",
   "metadata": {},
   "outputs": [
    {
     "data": {
      "text/plain": [
       "('data ', 's', 'cience masters')"
      ]
     },
     "execution_count": 70,
     "metadata": {},
     "output_type": "execute_result"
    }
   ],
   "source": [
    "course_name.partition(\"s\")\n",
    "##only for one character"
   ]
  },
  {
   "cell_type": "code",
   "execution_count": 71,
   "id": "ce376039-3ffa-43fb-a150-084d71329c4b",
   "metadata": {},
   "outputs": [
    {
     "data": {
      "text/plain": [
       "'DATA SCIENCE MASTERS'"
      ]
     },
     "execution_count": 71,
     "metadata": {},
     "output_type": "execute_result"
    }
   ],
   "source": [
    "##string upper and lower case\n",
    "course_name.upper()"
   ]
  },
  {
   "cell_type": "code",
   "execution_count": 72,
   "id": "f4e8a880-e72d-4eff-bae6-7320d10677c6",
   "metadata": {},
   "outputs": [
    {
     "data": {
      "text/plain": [
       "'data science masters'"
      ]
     },
     "execution_count": 72,
     "metadata": {},
     "output_type": "execute_result"
    }
   ],
   "source": [
    "course_name.lower()"
   ]
  },
  {
   "cell_type": "code",
   "execution_count": 74,
   "id": "51e01093-b71c-41fd-9e98-1db4e9e134ed",
   "metadata": {},
   "outputs": [
    {
     "data": {
      "text/plain": [
       "'DATA SCIENCE MASTERS'"
      ]
     },
     "execution_count": 74,
     "metadata": {},
     "output_type": "execute_result"
    }
   ],
   "source": [
    "course_name.swapcase()"
   ]
  },
  {
   "cell_type": "code",
   "execution_count": 75,
   "id": "a5ed244b-8686-4b5b-a8d0-74708b5dd0cd",
   "metadata": {},
   "outputs": [
    {
     "data": {
      "text/plain": [
       "'Data Science Masters'"
      ]
     },
     "execution_count": 75,
     "metadata": {},
     "output_type": "execute_result"
    }
   ],
   "source": [
    "course_name.title()"
   ]
  },
  {
   "cell_type": "code",
   "execution_count": null,
   "id": "a4c55769-1c29-43a6-91c7-545b2ec38618",
   "metadata": {},
   "outputs": [],
   "source": []
  },
  {
   "cell_type": "code",
   "execution_count": null,
   "id": "bdfd709f-d803-412e-b386-5bbaa937688b",
   "metadata": {},
   "outputs": [],
   "source": []
  }
 ],
 "metadata": {
  "kernelspec": {
   "display_name": "Python 3 (ipykernel)",
   "language": "python",
   "name": "python3"
  },
  "language_info": {
   "codemirror_mode": {
    "name": "ipython",
    "version": 3
   },
   "file_extension": ".py",
   "mimetype": "text/x-python",
   "name": "python",
   "nbconvert_exporter": "python",
   "pygments_lexer": "ipython3",
   "version": "3.10.8"
  }
 },
 "nbformat": 4,
 "nbformat_minor": 5
}
