{
 "cells": [
  {
   "cell_type": "markdown",
   "id": "ea55794e-430f-4efd-aead-3a2dcd7abce4",
   "metadata": {},
   "source": [
    "# tuple"
   ]
  },
  {
   "cell_type": "code",
   "execution_count": 1,
   "id": "6a0e2354-e262-4824-8127-f540379b8dd2",
   "metadata": {},
   "outputs": [
    {
     "data": {
      "text/plain": [
       "tuple"
      ]
     },
     "execution_count": 1,
     "metadata": {},
     "output_type": "execute_result"
    }
   ],
   "source": [
    "t=()\n",
    "type(t)"
   ]
  },
  {
   "cell_type": "code",
   "execution_count": null,
   "id": "baeba8da-8718-44e3-8d33-1d3821f5e658",
   "metadata": {},
   "outputs": [],
   "source": [
    "tuple"
   ]
  },
  {
   "cell_type": "code",
   "execution_count": 5,
   "id": "56af6ab4-771e-46d6-a5b6-c2e36e44eaf6",
   "metadata": {},
   "outputs": [],
   "source": [
    "t2=(1,2,3,4,45.67,\"mahima\",4+3j)"
   ]
  },
  {
   "cell_type": "code",
   "execution_count": 6,
   "id": "6f7e6b49-a32f-480b-9e66-ce61942e5c4b",
   "metadata": {},
   "outputs": [
    {
     "data": {
      "text/plain": [
       "(1, 2, 3, 4, 45.67, 'mahima', (4+3j))"
      ]
     },
     "execution_count": 6,
     "metadata": {},
     "output_type": "execute_result"
    }
   ],
   "source": [
    "t2"
   ]
  },
  {
   "cell_type": "code",
   "execution_count": 7,
   "id": "b49c579e-3c27-4a7a-8ce7-dbc3cf8a5837",
   "metadata": {},
   "outputs": [
    {
     "data": {
      "text/plain": [
       "4"
      ]
     },
     "execution_count": 7,
     "metadata": {},
     "output_type": "execute_result"
    }
   ],
   "source": [
    "t2[3]"
   ]
  },
  {
   "cell_type": "code",
   "execution_count": 10,
   "id": "c650e15a-f990-450d-b5f0-56a3285c2f03",
   "metadata": {},
   "outputs": [
    {
     "data": {
      "text/plain": [
       "2"
      ]
     },
     "execution_count": 10,
     "metadata": {},
     "output_type": "execute_result"
    }
   ],
   "source": [
    "t2[1]"
   ]
  },
  {
   "cell_type": "code",
   "execution_count": 11,
   "id": "c78899c4-b57d-4b3c-bcb1-c7d1b98b8e79",
   "metadata": {},
   "outputs": [
    {
     "data": {
      "text/plain": [
       "((4+3j), 'mahima', 45.67, 4, 3, 2, 1)"
      ]
     },
     "execution_count": 11,
     "metadata": {},
     "output_type": "execute_result"
    }
   ],
   "source": [
    "t2[::-1]"
   ]
  },
  {
   "cell_type": "code",
   "execution_count": 13,
   "id": "acc3afd6-f054-4cbb-a03d-01e28be92438",
   "metadata": {},
   "outputs": [
    {
     "data": {
      "text/plain": [
       "(1, 2, 3, 4, 45.67, 'mahima', (4+3j))"
      ]
     },
     "execution_count": 13,
     "metadata": {},
     "output_type": "execute_result"
    }
   ],
   "source": [
    "t2"
   ]
  },
  {
   "cell_type": "code",
   "execution_count": 14,
   "id": "b8e93b82-e396-4c2e-8b2b-663f7b19bd43",
   "metadata": {},
   "outputs": [],
   "source": [
    "t1=t2[::-1]"
   ]
  },
  {
   "cell_type": "code",
   "execution_count": 15,
   "id": "dd14cea0-4a35-4f1c-9c09-3b0d170e2e95",
   "metadata": {},
   "outputs": [
    {
     "data": {
      "text/plain": [
       "((4+3j), 'mahima', 45.67, 4, 3, 2, 1)"
      ]
     },
     "execution_count": 15,
     "metadata": {},
     "output_type": "execute_result"
    }
   ],
   "source": [
    "t1"
   ]
  },
  {
   "cell_type": "code",
   "execution_count": 16,
   "id": "0270951f-2a7f-4d62-9153-d24cb2e7e077",
   "metadata": {},
   "outputs": [
    {
     "data": {
      "text/plain": [
       "(1, 2, 3, 4, 45.67, 'mahima', (4+3j))"
      ]
     },
     "execution_count": 16,
     "metadata": {},
     "output_type": "execute_result"
    }
   ],
   "source": [
    "t2"
   ]
  },
  {
   "cell_type": "code",
   "execution_count": 19,
   "id": "9a105f15-86cd-4002-98b4-68b1d535fa32",
   "metadata": {},
   "outputs": [
    {
     "data": {
      "text/plain": [
       "((4+3j), 'mahima', 45.67)"
      ]
     },
     "execution_count": 19,
     "metadata": {},
     "output_type": "execute_result"
    }
   ],
   "source": [
    "t1[0:3]"
   ]
  },
  {
   "cell_type": "code",
   "execution_count": 21,
   "id": "5882183f-466b-4708-b427-2c7ae4e6132c",
   "metadata": {},
   "outputs": [
    {
     "data": {
      "text/plain": [
       "1"
      ]
     },
     "execution_count": 21,
     "metadata": {},
     "output_type": "execute_result"
    }
   ],
   "source": [
    "t2.count(4)"
   ]
  },
  {
   "cell_type": "code",
   "execution_count": 23,
   "id": "510c3be5-92f8-4ef7-b925-c6ea84f6f97f",
   "metadata": {},
   "outputs": [
    {
     "data": {
      "text/plain": [
       "0"
      ]
     },
     "execution_count": 23,
     "metadata": {},
     "output_type": "execute_result"
    }
   ],
   "source": [
    "t2.count(\"an\")"
   ]
  },
  {
   "cell_type": "code",
   "execution_count": 24,
   "id": "cd827204-a3a3-4c53-a300-f445047782e9",
   "metadata": {},
   "outputs": [
    {
     "data": {
      "text/plain": [
       "5"
      ]
     },
     "execution_count": 24,
     "metadata": {},
     "output_type": "execute_result"
    }
   ],
   "source": [
    "t2.index(\"mahima\")"
   ]
  },
  {
   "cell_type": "code",
   "execution_count": 25,
   "id": "4e22d0fe-caa3-4946-bc87-a3dbd8a238e0",
   "metadata": {},
   "outputs": [],
   "source": [
    "l=[1,2,3,4,5]"
   ]
  },
  {
   "cell_type": "code",
   "execution_count": 26,
   "id": "d155a456-fef5-4236-9057-a18576a4e8f8",
   "metadata": {},
   "outputs": [
    {
     "ename": "TypeError",
     "evalue": "'tuple' object does not support item assignment",
     "output_type": "error",
     "traceback": [
      "\u001b[0;31m---------------------------------------------------------------------------\u001b[0m",
      "\u001b[0;31mTypeError\u001b[0m                                 Traceback (most recent call last)",
      "Cell \u001b[0;32mIn[26], line 1\u001b[0m\n\u001b[0;32m----> 1\u001b[0m \u001b[43mt1\u001b[49m\u001b[43m[\u001b[49m\u001b[38;5;241;43m0\u001b[39;49m\u001b[43m]\u001b[49m\u001b[38;5;241m=\u001b[39m\u001b[38;5;124m\"\u001b[39m\u001b[38;5;124mcutiee\u001b[39m\u001b[38;5;124m\"\u001b[39m\n",
      "\u001b[0;31mTypeError\u001b[0m: 'tuple' object does not support item assignment"
     ]
    }
   ],
   "source": [
    "t1[0]=\"cutiee\""
   ]
  },
  {
   "cell_type": "code",
   "execution_count": 29,
   "id": "32e2ea19-daee-4688-9872-1b2622fc96a7",
   "metadata": {},
   "outputs": [],
   "source": [
    "l[0]=100"
   ]
  },
  {
   "cell_type": "code",
   "execution_count": 30,
   "id": "74f19c7f-9181-4dba-af27-688de30d0490",
   "metadata": {},
   "outputs": [
    {
     "data": {
      "text/plain": [
       "[100, 2, 3, 4, 5]"
      ]
     },
     "execution_count": 30,
     "metadata": {},
     "output_type": "execute_result"
    }
   ],
   "source": [
    "l"
   ]
  },
  {
   "cell_type": "markdown",
   "id": "fdd8b714-eaf8-4483-9c72-672f00eff347",
   "metadata": {
    "tags": []
   },
   "source": [
    "## the main difference between in tuple and list is muttability.list is muttable whereas tuple is immuttable"
   ]
  },
  {
   "cell_type": "code",
   "execution_count": 31,
   "id": "35d61ae6-2632-4c67-83f5-8cbe478b91e6",
   "metadata": {},
   "outputs": [
    {
     "data": {
      "text/plain": [
       "((4+3j), 'mahima', 45.67, 4, 3, 2, 1)"
      ]
     },
     "execution_count": 31,
     "metadata": {},
     "output_type": "execute_result"
    }
   ],
   "source": [
    "t1"
   ]
  },
  {
   "cell_type": "code",
   "execution_count": 32,
   "id": "1dd11270-ba73-44ad-a120-0f83b7304961",
   "metadata": {},
   "outputs": [
    {
     "name": "stdout",
     "output_type": "stream",
     "text": [
      "(4+3j)\n",
      "mahima\n",
      "45.67\n",
      "4\n",
      "3\n",
      "2\n",
      "1\n"
     ]
    }
   ],
   "source": [
    "for i in t1:\n",
    "    print(i)"
   ]
  },
  {
   "cell_type": "code",
   "execution_count": 33,
   "id": "ccc2ed72-6dee-41dc-a0b2-3b49850c1b46",
   "metadata": {},
   "outputs": [
    {
     "name": "stdout",
     "output_type": "stream",
     "text": [
      "(4+3j) <class 'complex'>\n",
      "mahima <class 'str'>\n",
      "45.67 <class 'float'>\n",
      "4 <class 'int'>\n",
      "3 <class 'int'>\n",
      "2 <class 'int'>\n",
      "1 <class 'int'>\n"
     ]
    }
   ],
   "source": [
    "for i in t1:\n",
    "    print(i,type(i))"
   ]
  },
  {
   "cell_type": "code",
   "execution_count": 35,
   "id": "b3e00aef-a87b-4dec-8901-2eafef3392a9",
   "metadata": {},
   "outputs": [
    {
     "data": {
      "text/plain": [
       "(1, 2, 3, 4, 1, 2, 3, 4, 1, 2, 3, 4)"
      ]
     },
     "execution_count": 35,
     "metadata": {},
     "output_type": "execute_result"
    }
   ],
   "source": [
    "t3=(1,2,3,4)\n",
    "t3*3"
   ]
  },
  {
   "cell_type": "code",
   "execution_count": 37,
   "id": "d97cd540-3db3-4cda-b543-3d7c81b53ce6",
   "metadata": {},
   "outputs": [
    {
     "data": {
      "text/plain": [
       "4"
      ]
     },
     "execution_count": 37,
     "metadata": {},
     "output_type": "execute_result"
    }
   ],
   "source": [
    "max(t3)"
   ]
  },
  {
   "cell_type": "code",
   "execution_count": 38,
   "id": "68c04508-6138-4869-8fea-b99c798f29b7",
   "metadata": {},
   "outputs": [
    {
     "data": {
      "text/plain": [
       "1"
      ]
     },
     "execution_count": 38,
     "metadata": {},
     "output_type": "execute_result"
    }
   ],
   "source": [
    "min(t3)"
   ]
  },
  {
   "cell_type": "code",
   "execution_count": 39,
   "id": "00efb84b-63dc-4ce3-b35d-b2d0ba6d09cf",
   "metadata": {},
   "outputs": [],
   "source": [
    "t4=(t2,t3)"
   ]
  },
  {
   "cell_type": "code",
   "execution_count": 40,
   "id": "49af8bcf-1f4c-4c06-af26-0c78dc513802",
   "metadata": {},
   "outputs": [
    {
     "data": {
      "text/plain": [
       "((1, 2, 3, 4, 45.67, 'mahima', (4+3j)), (1, 2, 3, 4))"
      ]
     },
     "execution_count": 40,
     "metadata": {},
     "output_type": "execute_result"
    }
   ],
   "source": [
    "t4"
   ]
  },
  {
   "cell_type": "code",
   "execution_count": 43,
   "id": "35cdb815-516e-4b0d-b2ce-b2e7532189b2",
   "metadata": {},
   "outputs": [
    {
     "data": {
      "text/plain": [
       "[100, 2, 3, 4, 5]"
      ]
     },
     "execution_count": 43,
     "metadata": {},
     "output_type": "execute_result"
    }
   ],
   "source": [
    "l"
   ]
  },
  {
   "cell_type": "code",
   "execution_count": 44,
   "id": "76542ba1-b0bc-4312-a901-d622509da71d",
   "metadata": {},
   "outputs": [
    {
     "data": {
      "text/plain": [
       "(1, 2, 3, 4)"
      ]
     },
     "execution_count": 44,
     "metadata": {},
     "output_type": "execute_result"
    }
   ],
   "source": [
    "t3"
   ]
  },
  {
   "cell_type": "code",
   "execution_count": 45,
   "id": "426e1f4d-fd60-4b7b-9c74-1831cacd1a76",
   "metadata": {},
   "outputs": [],
   "source": [
    "t5=(l,t3)"
   ]
  },
  {
   "cell_type": "code",
   "execution_count": 46,
   "id": "5154f6d1-5edd-4824-9f8c-5a86f13392ad",
   "metadata": {},
   "outputs": [
    {
     "data": {
      "text/plain": [
       "([100, 2, 3, 4, 5], (1, 2, 3, 4))"
      ]
     },
     "execution_count": 46,
     "metadata": {},
     "output_type": "execute_result"
    }
   ],
   "source": [
    "t5"
   ]
  },
  {
   "cell_type": "code",
   "execution_count": 47,
   "id": "179a218e-4d66-4858-8275-c7b286717fd6",
   "metadata": {},
   "outputs": [],
   "source": [
    "del t1"
   ]
  },
  {
   "cell_type": "code",
   "execution_count": 48,
   "id": "0fdb25ab-cffd-4b9a-a5e9-120bb5285d85",
   "metadata": {},
   "outputs": [
    {
     "ename": "NameError",
     "evalue": "name 't1' is not defined",
     "output_type": "error",
     "traceback": [
      "\u001b[0;31m---------------------------------------------------------------------------\u001b[0m",
      "\u001b[0;31mNameError\u001b[0m                                 Traceback (most recent call last)",
      "Cell \u001b[0;32mIn[48], line 1\u001b[0m\n\u001b[0;32m----> 1\u001b[0m \u001b[43mt1\u001b[49m\n",
      "\u001b[0;31mNameError\u001b[0m: name 't1' is not defined"
     ]
    }
   ],
   "source": [
    "t1"
   ]
  },
  {
   "cell_type": "code",
   "execution_count": 49,
   "id": "1a664f3c-8466-49e1-98ed-bacb7ef411ad",
   "metadata": {},
   "outputs": [
    {
     "data": {
      "text/plain": [
       "(1, 2, 3, 4, 45.67, 'mahima', (4+3j))"
      ]
     },
     "execution_count": 49,
     "metadata": {},
     "output_type": "execute_result"
    }
   ],
   "source": [
    "t2"
   ]
  },
  {
   "cell_type": "code",
   "execution_count": 50,
   "id": "f513b45e-b30e-4c87-a7aa-2ebea64dc1ad",
   "metadata": {},
   "outputs": [
    {
     "data": {
      "text/plain": [
       "7"
      ]
     },
     "execution_count": 50,
     "metadata": {},
     "output_type": "execute_result"
    }
   ],
   "source": [
    "len(t2)"
   ]
  },
  {
   "cell_type": "code",
   "execution_count": 51,
   "id": "a0e9aafd-517e-43e9-b26f-cd16ff8e14cc",
   "metadata": {},
   "outputs": [
    {
     "data": {
      "text/plain": [
       "False"
      ]
     },
     "execution_count": 51,
     "metadata": {},
     "output_type": "execute_result"
    }
   ],
   "source": [
    "\"cutiee\" in t2"
   ]
  },
  {
   "cell_type": "code",
   "execution_count": 52,
   "id": "a6bb1675-c58e-42e4-8a94-36ce0d4757f1",
   "metadata": {},
   "outputs": [
    {
     "data": {
      "text/plain": [
       "True"
      ]
     },
     "execution_count": 52,
     "metadata": {},
     "output_type": "execute_result"
    }
   ],
   "source": [
    "3 in t2"
   ]
  },
  {
   "cell_type": "markdown",
   "id": "49c12341-b447-473a-b5e3-9e075ff37a72",
   "metadata": {},
   "source": [
    "## sets"
   ]
  },
  {
   "cell_type": "code",
   "execution_count": 53,
   "id": "6c8516cc-d39f-4a9e-8da1-80ddc45f0ded",
   "metadata": {},
   "outputs": [
    {
     "data": {
      "text/plain": [
       "dict"
      ]
     },
     "execution_count": 53,
     "metadata": {},
     "output_type": "execute_result"
    }
   ],
   "source": [
    "s = {}\n",
    "type(s)"
   ]
  },
  {
   "cell_type": "code",
   "execution_count": 54,
   "id": "0d5a7306-a09f-4269-92e2-deb49a4924c8",
   "metadata": {},
   "outputs": [
    {
     "data": {
      "text/plain": [
       "set"
      ]
     },
     "execution_count": 54,
     "metadata": {},
     "output_type": "execute_result"
    }
   ],
   "source": [
    "s1={1,2,3}\n",
    "type(s1)"
   ]
  },
  {
   "cell_type": "code",
   "execution_count": 56,
   "id": "a94077d1-1080-4bc0-a272-f5cdeef05bbd",
   "metadata": {},
   "outputs": [
    {
     "data": {
      "text/plain": [
       "{1, 2, 3, 4}"
      ]
     },
     "execution_count": 56,
     "metadata": {},
     "output_type": "execute_result"
    }
   ],
   "source": [
    "s2={1,1,1,2,2,2,2,3,3,3,3,4,4,4,4}\n",
    "s2"
   ]
  },
  {
   "cell_type": "markdown",
   "id": "2c020b8f-4230-4075-aea5-92984397dfec",
   "metadata": {},
   "source": [
    "''set duplicate data nhi rakhta h ''"
   ]
  },
  {
   "cell_type": "code",
   "execution_count": 61,
   "id": "609fc000-e3be-4850-95b8-dc879fdd28da",
   "metadata": {},
   "outputs": [
    {
     "data": {
      "text/plain": [
       "list"
      ]
     },
     "execution_count": 61,
     "metadata": {},
     "output_type": "execute_result"
    }
   ],
   "source": [
    "m=list(s2)\n",
    "type(m)"
   ]
  },
  {
   "cell_type": "code",
   "execution_count": 58,
   "id": "4aed0c8d-4b5a-4d03-9d7e-5aa1b120598d",
   "metadata": {},
   "outputs": [
    {
     "data": {
      "text/plain": [
       "(1, 2, 3, 4)"
      ]
     },
     "execution_count": 58,
     "metadata": {},
     "output_type": "execute_result"
    }
   ],
   "source": [
    "tuple(s2)"
   ]
  },
  {
   "cell_type": "code",
   "execution_count": 62,
   "id": "72f05859-6678-414f-b91a-5cd589c5bedb",
   "metadata": {},
   "outputs": [
    {
     "data": {
      "text/plain": [
       "{1, 2, 3, 4}"
      ]
     },
     "execution_count": 62,
     "metadata": {},
     "output_type": "execute_result"
    }
   ],
   "source": [
    "set(m)"
   ]
  },
  {
   "cell_type": "markdown",
   "id": "d74ced1d-5e9b-4f33-bffb-68045aa11ade",
   "metadata": {},
   "source": [
    "###### "
   ]
  },
  {
   "cell_type": "code",
   "execution_count": 63,
   "id": "82db73ec-6674-4621-93f2-0f5ca4df6a20",
   "metadata": {},
   "outputs": [
    {
     "ename": "TypeError",
     "evalue": "unhashable type: 'list'",
     "output_type": "error",
     "traceback": [
      "\u001b[0;31m---------------------------------------------------------------------------\u001b[0m",
      "\u001b[0;31mTypeError\u001b[0m                                 Traceback (most recent call last)",
      "Cell \u001b[0;32mIn[63], line 1\u001b[0m\n\u001b[0;32m----> 1\u001b[0m s6\u001b[38;5;241m=\u001b[39m{\u001b[38;5;241m1\u001b[39m,\u001b[38;5;241m2\u001b[39m,\u001b[38;5;241m3\u001b[39m,\u001b[38;5;241m4\u001b[39m,[\u001b[38;5;241m1\u001b[39m,\u001b[38;5;241m2\u001b[39m,\u001b[38;5;241m3\u001b[39m,\u001b[38;5;241m4\u001b[39m]}\n",
      "\u001b[0;31mTypeError\u001b[0m: unhashable type: 'list'"
     ]
    }
   ],
   "source": [
    "s6={1,2,3,4,[1,2,3,4]}"
   ]
  },
  {
   "cell_type": "code",
   "execution_count": 64,
   "id": "001b50d0-fe52-487a-9231-0a5457283240",
   "metadata": {},
   "outputs": [],
   "source": [
    "s6={1,2,3,4,(1,2,3,4)}"
   ]
  },
  {
   "cell_type": "code",
   "execution_count": 65,
   "id": "ab93718a-50f3-41a2-953e-65aa88c5ebc8",
   "metadata": {},
   "outputs": [
    {
     "data": {
      "text/plain": [
       "{(1, 2, 3, 4), 1, 2, 3, 4}"
      ]
     },
     "execution_count": 65,
     "metadata": {},
     "output_type": "execute_result"
    }
   ],
   "source": [
    "s6"
   ]
  },
  {
   "cell_type": "code",
   "execution_count": 66,
   "id": "29a34f95-7cec-44ee-ab40-5e6083021145",
   "metadata": {},
   "outputs": [],
   "source": [
    "s1={\"mahima\",\"Mahima\",1,2,3}"
   ]
  },
  {
   "cell_type": "code",
   "execution_count": 67,
   "id": "9319c473-1c8b-46b0-8f96-47b8481c608e",
   "metadata": {},
   "outputs": [
    {
     "data": {
      "text/plain": [
       "{1, 2, 3, 'Mahima', 'mahima'}"
      ]
     },
     "execution_count": 67,
     "metadata": {},
     "output_type": "execute_result"
    }
   ],
   "source": [
    "s1"
   ]
  },
  {
   "cell_type": "code",
   "execution_count": 69,
   "id": "415fa1ff-de29-4179-9385-ef72fd9c966a",
   "metadata": {},
   "outputs": [],
   "source": [
    "s2={\"mahima\",\"mahima\",1,2,3}"
   ]
  },
  {
   "cell_type": "code",
   "execution_count": 70,
   "id": "063751e8-3dce-43ba-97cf-67e32c21a226",
   "metadata": {},
   "outputs": [
    {
     "data": {
      "text/plain": [
       "{1, 2, 3, 'mahima'}"
      ]
     },
     "execution_count": 70,
     "metadata": {},
     "output_type": "execute_result"
    }
   ],
   "source": [
    "s2"
   ]
  },
  {
   "cell_type": "code",
   "execution_count": 71,
   "id": "71c6aa20-00b6-4106-b0b0-1cc60e353f44",
   "metadata": {},
   "outputs": [
    {
     "ename": "TypeError",
     "evalue": "'set' object is not subscriptable",
     "output_type": "error",
     "traceback": [
      "\u001b[0;31m---------------------------------------------------------------------------\u001b[0m",
      "\u001b[0;31mTypeError\u001b[0m                                 Traceback (most recent call last)",
      "Cell \u001b[0;32mIn[71], line 1\u001b[0m\n\u001b[0;32m----> 1\u001b[0m \u001b[43ms2\u001b[49m\u001b[43m[\u001b[49m\u001b[38;5;241;43m0\u001b[39;49m\u001b[43m]\u001b[49m\n",
      "\u001b[0;31mTypeError\u001b[0m: 'set' object is not subscriptable"
     ]
    }
   ],
   "source": [
    "s2[0]"
   ]
  },
  {
   "cell_type": "code",
   "execution_count": 72,
   "id": "303579f5-a7b0-41b9-bf31-4068742e9e6b",
   "metadata": {},
   "outputs": [
    {
     "ename": "TypeError",
     "evalue": "'set' object is not subscriptable",
     "output_type": "error",
     "traceback": [
      "\u001b[0;31m---------------------------------------------------------------------------\u001b[0m",
      "\u001b[0;31mTypeError\u001b[0m                                 Traceback (most recent call last)",
      "Cell \u001b[0;32mIn[72], line 1\u001b[0m\n\u001b[0;32m----> 1\u001b[0m \u001b[43ms2\u001b[49m\u001b[43m[\u001b[49m\u001b[43m:\u001b[49m\u001b[43m:\u001b[49m\u001b[38;5;241;43m-\u001b[39;49m\u001b[38;5;241;43m1\u001b[39;49m\u001b[43m]\u001b[49m\n",
      "\u001b[0;31mTypeError\u001b[0m: 'set' object is not subscriptable"
     ]
    }
   ],
   "source": [
    "s2[::-1]"
   ]
  },
  {
   "cell_type": "code",
   "execution_count": 73,
   "id": "7e89f51d-013b-40f4-a389-b63bb4237719",
   "metadata": {},
   "outputs": [
    {
     "name": "stdout",
     "output_type": "stream",
     "text": [
      "1\n",
      "2\n",
      "3\n",
      "mahima\n"
     ]
    }
   ],
   "source": [
    "for i in s2:\n",
    "    print(i)"
   ]
  },
  {
   "cell_type": "code",
   "execution_count": 74,
   "id": "8fb33401-2db8-45b9-a2d7-e270e473f918",
   "metadata": {},
   "outputs": [
    {
     "data": {
      "text/plain": [
       "True"
      ]
     },
     "execution_count": 74,
     "metadata": {},
     "output_type": "execute_result"
    }
   ],
   "source": [
    "2 in s2"
   ]
  },
  {
   "cell_type": "code",
   "execution_count": 76,
   "id": "56b92a09-0e00-4148-be74-9d0d399bd89a",
   "metadata": {},
   "outputs": [
    {
     "data": {
      "text/plain": [
       "False"
      ]
     },
     "execution_count": 76,
     "metadata": {},
     "output_type": "execute_result"
    }
   ],
   "source": [
    "\"cutiee\" in s2"
   ]
  },
  {
   "cell_type": "code",
   "execution_count": 77,
   "id": "89fec49f-f41f-4d7e-9362-1fc1e41e2333",
   "metadata": {},
   "outputs": [],
   "source": [
    "s2.add(7)"
   ]
  },
  {
   "cell_type": "code",
   "execution_count": 79,
   "id": "dcbf8e2b-2d24-4ea3-9590-16d484650706",
   "metadata": {},
   "outputs": [
    {
     "data": {
      "text/plain": [
       "{1, 2, 3, 7, 'mahima'}"
      ]
     },
     "execution_count": 79,
     "metadata": {},
     "output_type": "execute_result"
    }
   ],
   "source": [
    "s2"
   ]
  },
  {
   "cell_type": "code",
   "execution_count": 80,
   "id": "c80a3bdd-6af9-4006-be9d-0246f9e7c83c",
   "metadata": {},
   "outputs": [],
   "source": [
    "s2.add(2)"
   ]
  },
  {
   "cell_type": "code",
   "execution_count": 81,
   "id": "fa24d05e-683e-49d4-9c54-4edff3211462",
   "metadata": {},
   "outputs": [
    {
     "data": {
      "text/plain": [
       "{1, 2, 3, 7, 'mahima'}"
      ]
     },
     "execution_count": 81,
     "metadata": {},
     "output_type": "execute_result"
    }
   ],
   "source": [
    "s2"
   ]
  },
  {
   "cell_type": "code",
   "execution_count": null,
   "id": "286c98d8-fb5e-45cf-81f6-f182bb70811a",
   "metadata": {},
   "outputs": [],
   "source": []
  },
  {
   "cell_type": "code",
   "execution_count": 82,
   "id": "4b29c038-b6de-4211-b75d-7a876f3db7e8",
   "metadata": {},
   "outputs": [],
   "source": [
    "s2.clear()"
   ]
  },
  {
   "cell_type": "code",
   "execution_count": 83,
   "id": "85c94d5d-926e-48a8-acd4-169acaaf91bf",
   "metadata": {},
   "outputs": [
    {
     "data": {
      "text/plain": [
       "set()"
      ]
     },
     "execution_count": 83,
     "metadata": {},
     "output_type": "execute_result"
    }
   ],
   "source": [
    "s2"
   ]
  },
  {
   "cell_type": "code",
   "execution_count": 84,
   "id": "4b4023d5-f521-45ac-83cc-ff0f3e71ca87",
   "metadata": {},
   "outputs": [
    {
     "data": {
      "text/plain": [
       "{1, 2, 3, 'mahima'}"
      ]
     },
     "execution_count": 84,
     "metadata": {},
     "output_type": "execute_result"
    }
   ],
   "source": [
    "s1.copy()"
   ]
  },
  {
   "cell_type": "code",
   "execution_count": 85,
   "id": "1690ee12-cca2-49cd-9359-ccb9a6f10027",
   "metadata": {},
   "outputs": [
    {
     "data": {
      "text/plain": [
       "{1, 2, 3, 'mahima'}"
      ]
     },
     "execution_count": 85,
     "metadata": {},
     "output_type": "execute_result"
    }
   ],
   "source": [
    "s1"
   ]
  },
  {
   "cell_type": "code",
   "execution_count": 86,
   "id": "4b7dbeda-7863-4ac8-96a3-c706984fdcb2",
   "metadata": {},
   "outputs": [
    {
     "data": {
      "text/plain": [
       "{1, 2, 3, 'mahima'}"
      ]
     },
     "execution_count": 86,
     "metadata": {},
     "output_type": "execute_result"
    }
   ],
   "source": [
    "s1.difference()"
   ]
  },
  {
   "cell_type": "code",
   "execution_count": 87,
   "id": "1a47e778-f4e3-4ab9-a239-db2d96652869",
   "metadata": {},
   "outputs": [
    {
     "data": {
      "text/plain": [
       "4"
      ]
     },
     "execution_count": 87,
     "metadata": {},
     "output_type": "execute_result"
    }
   ],
   "source": [
    "len(s1)"
   ]
  },
  {
   "cell_type": "markdown",
   "id": "77587593-a84b-4b01-bf80-684ece630805",
   "metadata": {},
   "source": [
    "# DICTIONARY"
   ]
  },
  {
   "cell_type": "code",
   "execution_count": 2,
   "id": "840fd4e5-6656-4d7b-b2e8-1adfa20f0740",
   "metadata": {},
   "outputs": [
    {
     "data": {
      "text/plain": [
       "dict"
      ]
     },
     "execution_count": 2,
     "metadata": {},
     "output_type": "execute_result"
    }
   ],
   "source": [
    "d = {}\n",
    "type(d)"
   ]
  },
  {
   "cell_type": "markdown",
   "id": "0ee4c752-f9d3-4e6d-baf8-2fe62845d2c3",
   "metadata": {},
   "source": [
    "#dict is made with key and meaning"
   ]
  },
  {
   "cell_type": "code",
   "execution_count": 4,
   "id": "c1d18332-7e34-4413-811e-9ea15852adb3",
   "metadata": {},
   "outputs": [
    {
     "data": {
      "text/plain": [
       "dict"
      ]
     },
     "execution_count": 4,
     "metadata": {},
     "output_type": "execute_result"
    }
   ],
   "source": [
    "d1={\"name\" : \"mahima\" , \"email\" : \"mahima@gmail.com\" , \"number\" : 892678291}\n",
    "type(d1)"
   ]
  },
  {
   "cell_type": "code",
   "execution_count": 5,
   "id": "0c2a8906-4951-4bc6-a51a-80296fcbd8de",
   "metadata": {},
   "outputs": [
    {
     "data": {
      "text/plain": [
       "{'name': 'mahima', 'email': 'mahima@gmail.com', 'number': 892678291}"
      ]
     },
     "execution_count": 5,
     "metadata": {},
     "output_type": "execute_result"
    }
   ],
   "source": [
    "d1"
   ]
  },
  {
   "cell_type": "code",
   "execution_count": 7,
   "id": "a1d9a2ca-9fd2-44c6-8c0d-1e11e16ba540",
   "metadata": {},
   "outputs": [],
   "source": [
    "d2 = {\"name\":\"mahi\" , \"name\":\"mahima\" }"
   ]
  },
  {
   "cell_type": "code",
   "execution_count": 8,
   "id": "61c42d72-92d9-42b2-803c-e1a88cbfdfba",
   "metadata": {},
   "outputs": [
    {
     "data": {
      "text/plain": [
       "{'name': 'mahima'}"
      ]
     },
     "execution_count": 8,
     "metadata": {},
     "output_type": "execute_result"
    }
   ],
   "source": [
    "d2"
   ]
  },
  {
   "cell_type": "markdown",
   "id": "c10a19c7-9b43-4739-879d-b4266a02a88f",
   "metadata": {},
   "source": [
    "##reason is whenever you introde a key in dictionaries the key it  will be a unique and if we try to define keys with same names then it will always show the 2nd value"
   ]
  },
  {
   "cell_type": "code",
   "execution_count": 15,
   "id": "6d2d9f2c-510a-4147-9d86-32d7a57a33d4",
   "metadata": {},
   "outputs": [
    {
     "ename": "SyntaxError",
     "evalue": "invalid syntax. Perhaps you forgot a comma? (31675169.py, line 1)",
     "output_type": "error",
     "traceback": [
      "\u001b[0;36m  Cell \u001b[0;32mIn[15], line 1\u001b[0;36m\u001b[0m\n\u001b[0;31m    d3={176238398:\"\"mswjkhd}\u001b[0m\n\u001b[0m                  ^\u001b[0m\n\u001b[0;31mSyntaxError\u001b[0m\u001b[0;31m:\u001b[0m invalid syntax. Perhaps you forgot a comma?\n"
     ]
    }
   ],
   "source": [
    "d3={176238398:\"mswjkhd\"}"
   ]
  },
  {
   "cell_type": "code",
   "execution_count": 14,
   "id": "68e73446-03a7-4dfa-8e58-1cdfaeaf1300",
   "metadata": {},
   "outputs": [],
   "source": [
    "d4={89.5:\"sdkjf\"}"
   ]
  },
  {
   "cell_type": "code",
   "execution_count": 13,
   "id": "d4e845d6-0e7e-420e-8e01-b990c9335e39",
   "metadata": {
    "scrolled": true,
    "tags": []
   },
   "outputs": [],
   "source": [
    "d5={True:\"dkjf\"}"
   ]
  },
  {
   "cell_type": "code",
   "execution_count": 10,
   "id": "9661d8a0-c5a0-42b2-8c0b-e2441c4fcfa9",
   "metadata": {},
   "outputs": [
    {
     "ename": "SyntaxError",
     "evalue": "invalid syntax (2220967804.py, line 1)",
     "output_type": "error",
     "traceback": [
      "\u001b[0;36m  Cell \u001b[0;32mIn[10], line 1\u001b[0;36m\u001b[0m\n\u001b[0;31m    d6={@:ifhjrfjf0}\u001b[0m\n\u001b[0m        ^\u001b[0m\n\u001b[0;31mSyntaxError\u001b[0m\u001b[0;31m:\u001b[0m invalid syntax\n"
     ]
    }
   ],
   "source": [
    "d6={@:ifhjrfjf0}"
   ]
  },
  {
   "cell_type": "code",
   "execution_count": 20,
   "id": "511c3c3b-5449-417f-9258-8cdfcd95668b",
   "metadata": {},
   "outputs": [
    {
     "ename": "TypeError",
     "evalue": "unhashable type: 'list'",
     "output_type": "error",
     "traceback": [
      "\u001b[0;31m---------------------------------------------------------------------------\u001b[0m",
      "\u001b[0;31mTypeError\u001b[0m                                 Traceback (most recent call last)",
      "Cell \u001b[0;32mIn[20], line 1\u001b[0m\n\u001b[0;32m----> 1\u001b[0m d7\u001b[38;5;241m=\u001b[39m{[\u001b[38;5;241m1\u001b[39m,\u001b[38;5;241m2\u001b[39m,\u001b[38;5;241m3\u001b[39m,\u001b[38;5;241m4\u001b[39m]:\u001b[38;5;124m\"\u001b[39m\u001b[38;5;124manbc\u001b[39m\u001b[38;5;124m\"\u001b[39m}\n",
      "\u001b[0;31mTypeError\u001b[0m: unhashable type: 'list'"
     ]
    }
   ],
   "source": [
    "d7={[1,2,3,4]:\"anbc\"}"
   ]
  },
  {
   "cell_type": "code",
   "execution_count": 21,
   "id": "c22a440e-d07f-43d8-9245-cf3aff4e2054",
   "metadata": {},
   "outputs": [],
   "source": [
    "d8={(1,2,3,4,5):\"abc\"}"
   ]
  },
  {
   "cell_type": "code",
   "execution_count": 22,
   "id": "b14fc267-be07-4ea8-8d73-6e54f100614e",
   "metadata": {},
   "outputs": [
    {
     "data": {
      "text/plain": [
       "{(1, 2, 3, 4, 5): 'abc'}"
      ]
     },
     "execution_count": 22,
     "metadata": {},
     "output_type": "execute_result"
    }
   ],
   "source": [
    "d8"
   ]
  },
  {
   "cell_type": "code",
   "execution_count": 23,
   "id": "4ea2b8d0-8933-47e8-b3de-45806e264326",
   "metadata": {},
   "outputs": [
    {
     "ename": "TypeError",
     "evalue": "unhashable type: 'set'",
     "output_type": "error",
     "traceback": [
      "\u001b[0;31m---------------------------------------------------------------------------\u001b[0m",
      "\u001b[0;31mTypeError\u001b[0m                                 Traceback (most recent call last)",
      "Cell \u001b[0;32mIn[23], line 1\u001b[0m\n\u001b[0;32m----> 1\u001b[0m d9\u001b[38;5;241m=\u001b[39m{{\u001b[38;5;241m1\u001b[39m,\u001b[38;5;241m2\u001b[39m,\u001b[38;5;241m3\u001b[39m}:\u001b[38;5;124m\"\u001b[39m\u001b[38;5;124mabc\u001b[39m\u001b[38;5;124m\"\u001b[39m}\n",
      "\u001b[0;31mTypeError\u001b[0m: unhashable type: 'set'"
     ]
    }
   ],
   "source": [
    "d9={{1,2,3}:\"abc\"}"
   ]
  },
  {
   "cell_type": "code",
   "execution_count": 24,
   "id": "fd947391-562a-4486-a563-76212568367c",
   "metadata": {},
   "outputs": [
    {
     "ename": "TypeError",
     "evalue": "unhashable type: 'dict'",
     "output_type": "error",
     "traceback": [
      "\u001b[0;31m---------------------------------------------------------------------------\u001b[0m",
      "\u001b[0;31mTypeError\u001b[0m                                 Traceback (most recent call last)",
      "Cell \u001b[0;32mIn[24], line 1\u001b[0m\n\u001b[0;32m----> 1\u001b[0m d10\u001b[38;5;241m=\u001b[39m{{\u001b[38;5;124m\"\u001b[39m\u001b[38;5;124mkey\u001b[39m\u001b[38;5;124m\"\u001b[39m:\u001b[38;5;124m\"\u001b[39m\u001b[38;5;124manv\u001b[39m\u001b[38;5;124m\"\u001b[39m}}\n",
      "\u001b[0;31mTypeError\u001b[0m: unhashable type: 'dict'"
     ]
    }
   ],
   "source": [
    "d10={{\"key\":\"anv\"}}"
   ]
  },
  {
   "cell_type": "code",
   "execution_count": 1,
   "id": "042bef6c-bc87-4664-95d0-1adbc07da007",
   "metadata": {},
   "outputs": [],
   "source": [
    "d12={\"course_name\":[\"data_science_masters course\",\"web_dev\",\"java\",\"c++\"]}"
   ]
  },
  {
   "cell_type": "code",
   "execution_count": 2,
   "id": "c873c83a-92f8-4b20-a547-59fc8bd1616b",
   "metadata": {},
   "outputs": [
    {
     "data": {
      "text/plain": [
       "{'course_name': ['data_science_masters course', 'web_dev', 'java', 'c++']}"
      ]
     },
     "execution_count": 2,
     "metadata": {},
     "output_type": "execute_result"
    }
   ],
   "source": [
    "d12"
   ]
  },
  {
   "cell_type": "code",
   "execution_count": 27,
   "id": "803ab21d-1e11-4484-93af-917db3251c9f",
   "metadata": {},
   "outputs": [],
   "source": [
    "d13={\"keys\":(1,2,3,4)}"
   ]
  },
  {
   "cell_type": "code",
   "execution_count": 28,
   "id": "e170e59b-978e-4cfe-8a64-f3235f10a27a",
   "metadata": {},
   "outputs": [],
   "source": [
    "d14={\"cutiee\":{1,2,3,4,5}}"
   ]
  },
  {
   "cell_type": "code",
   "execution_count": 29,
   "id": "bcd274b4-e296-4f90-aebe-a6154ede6faf",
   "metadata": {},
   "outputs": [
    {
     "data": {
      "text/plain": [
       "{'keys': (1, 2, 3, 4)}"
      ]
     },
     "execution_count": 29,
     "metadata": {},
     "output_type": "execute_result"
    }
   ],
   "source": [
    "d13"
   ]
  },
  {
   "cell_type": "code",
   "execution_count": 30,
   "id": "b6ad9615-814e-4bca-8755-8ddd963a037f",
   "metadata": {},
   "outputs": [
    {
     "data": {
      "text/plain": [
       "{'cutiee': {1, 2, 3, 4, 5}}"
      ]
     },
     "execution_count": 30,
     "metadata": {},
     "output_type": "execute_result"
    }
   ],
   "source": [
    "d14"
   ]
  },
  {
   "cell_type": "code",
   "execution_count": 3,
   "id": "cc2cea6c-d4ab-4683-a611-5cb94cd4b5d6",
   "metadata": {},
   "outputs": [],
   "source": [
    "d15={\"keys\":{\"mahima\":\"cutiee\",\"cute\":\"apesh\",\"apeshh\":\"anshul\"}}"
   ]
  },
  {
   "cell_type": "code",
   "execution_count": 4,
   "id": "b8755831-715a-4452-8f3d-492ad0dac0b7",
   "metadata": {},
   "outputs": [
    {
     "data": {
      "text/plain": [
       "{'keys': {'mahima': 'cutiee', 'cute': 'apesh', 'apeshh': 'anshul'}}"
      ]
     },
     "execution_count": 4,
     "metadata": {},
     "output_type": "execute_result"
    }
   ],
   "source": [
    "d15"
   ]
  },
  {
   "cell_type": "code",
   "execution_count": null,
   "id": "a21c2bca-7a8b-42a9-844f-9c8d63ee5b9a",
   "metadata": {},
   "outputs": [],
   "source": [
    "d15 is a nested dictionary"
   ]
  },
  {
   "cell_type": "code",
   "execution_count": 5,
   "id": "2d7f6cc0-6195-4c0b-ad39-51d196a71c41",
   "metadata": {},
   "outputs": [
    {
     "name": "stdout",
     "output_type": "stream",
     "text": [
      "keys\n"
     ]
    }
   ],
   "source": [
    "for i in d15:\n",
    "    print(i)"
   ]
  },
  {
   "cell_type": "code",
   "execution_count": 9,
   "id": "f64ba9fc-1c2a-4e12-bf25-d27a17f23982",
   "metadata": {},
   "outputs": [
    {
     "data": {
      "text/plain": [
       "{'events_name': ['introduction', 'front_end', 'baclk_end', 'data_sceince'],\n",
       " 'events_date': (13, 5, 10, 8),\n",
       " 'gdsc_members': {'avni bhargava',\n",
       "  'harsh jha',\n",
       "  'mahima sharma',\n",
       "  'manan jethwa'}}"
      ]
     },
     "execution_count": 9,
     "metadata": {},
     "output_type": "execute_result"
    }
   ],
   "source": [
    "d16={\"events_name\":[\"introduction\",\"front_end\",\"baclk_end\",\"data_sceince\"],\n",
    "     \"events_date\":(13,5 ,10,8),\"gdsc_members\": \n",
    "     {\"harsh jha\",\"avni bhargava\",\"mahima sharma\",\"manan jethwa\"}}\n",
    "d16"
   ]
  },
  {
   "cell_type": "code",
   "execution_count": 13,
   "id": "270d2b05-e3f7-4cf4-9514-4487edeade6a",
   "metadata": {},
   "outputs": [],
   "source": [
    "d16[\"timing\"]=(3,4,5,6)"
   ]
  },
  {
   "cell_type": "code",
   "execution_count": 14,
   "id": "d8da44e2-9c3e-4f38-beb1-8906c881106a",
   "metadata": {},
   "outputs": [
    {
     "data": {
      "text/plain": [
       "{'events_name': ['introduction', 'front_end', 'baclk_end', 'data_sceince'],\n",
       " 'events_date': (13, 5, 10, 8),\n",
       " 'gdsc_members': {'avni bhargava',\n",
       "  'harsh jha',\n",
       "  'mahima sharma',\n",
       "  'manan jethwa'},\n",
       " 'timing': (3, 4, 5, 6)}"
      ]
     },
     "execution_count": 14,
     "metadata": {},
     "output_type": "execute_result"
    }
   ],
   "source": [
    "d16"
   ]
  },
  {
   "cell_type": "code",
   "execution_count": 15,
   "id": "3beef76e-4c32-48e9-a56d-6c2a64be856b",
   "metadata": {},
   "outputs": [],
   "source": [
    "d16[\"timing\"]=(3,4,5,6,8,9)"
   ]
  },
  {
   "cell_type": "code",
   "execution_count": 16,
   "id": "d384ff57-ba95-4df2-933d-d4b67205ba13",
   "metadata": {},
   "outputs": [
    {
     "data": {
      "text/plain": [
       "{'events_name': ['introduction', 'front_end', 'baclk_end', 'data_sceince'],\n",
       " 'events_date': (13, 5, 10, 8),\n",
       " 'gdsc_members': {'avni bhargava',\n",
       "  'harsh jha',\n",
       "  'mahima sharma',\n",
       "  'manan jethwa'},\n",
       " 'timing': (3, 4, 5, 6, 8, 9)}"
      ]
     },
     "execution_count": 16,
     "metadata": {},
     "output_type": "execute_result"
    }
   ],
   "source": [
    "d16"
   ]
  },
  {
   "cell_type": "code",
   "execution_count": 18,
   "id": "3acedada-3418-412f-acbd-dd01898d6894",
   "metadata": {},
   "outputs": [
    {
     "data": {
      "text/plain": [
       "['introduction', 'front_end', 'baclk_end', 'data_sceince']"
      ]
     },
     "execution_count": 18,
     "metadata": {},
     "output_type": "execute_result"
    }
   ],
   "source": [
    "d16[\"events_name\"]"
   ]
  },
  {
   "cell_type": "code",
   "execution_count": 19,
   "id": "68a55af8-c78f-4dbb-bca5-707c6fe58dea",
   "metadata": {},
   "outputs": [
    {
     "data": {
      "text/plain": [
       "(13, 5, 10, 8)"
      ]
     },
     "execution_count": 19,
     "metadata": {},
     "output_type": "execute_result"
    }
   ],
   "source": [
    "d16[\"events_date\"]"
   ]
  },
  {
   "cell_type": "code",
   "execution_count": 20,
   "id": "6e1917f4-d4a2-4112-b7a8-ba112f471306",
   "metadata": {},
   "outputs": [
    {
     "data": {
      "text/plain": [
       "list"
      ]
     },
     "execution_count": 20,
     "metadata": {},
     "output_type": "execute_result"
    }
   ],
   "source": [
    "type(d16[\"events_name\"])"
   ]
  },
  {
   "cell_type": "code",
   "execution_count": 21,
   "id": "f1e9caed-9c54-4cf2-880b-8488194f4979",
   "metadata": {},
   "outputs": [
    {
     "ename": "KeyError",
     "evalue": "'name'",
     "output_type": "error",
     "traceback": [
      "\u001b[0;31m---------------------------------------------------------------------------\u001b[0m",
      "\u001b[0;31mKeyError\u001b[0m                                  Traceback (most recent call last)",
      "Cell \u001b[0;32mIn[21], line 1\u001b[0m\n\u001b[0;32m----> 1\u001b[0m \u001b[43md16\u001b[49m\u001b[43m[\u001b[49m\u001b[38;5;124;43m\"\u001b[39;49m\u001b[38;5;124;43mname\u001b[39;49m\u001b[38;5;124;43m\"\u001b[39;49m\u001b[43m]\u001b[49m\n",
      "\u001b[0;31mKeyError\u001b[0m: 'name'"
     ]
    }
   ],
   "source": [
    "d16[\"name\"]"
   ]
  },
  {
   "cell_type": "code",
   "execution_count": 30,
   "id": "ef486f09-2605-4713-8d10-58972ebeff31",
   "metadata": {},
   "outputs": [],
   "source": [
    "d16[\"name\"]=\"mahima\""
   ]
  },
  {
   "cell_type": "code",
   "execution_count": 31,
   "id": "bec2fad3-6494-4b18-a1a3-d22451ab3afa",
   "metadata": {},
   "outputs": [
    {
     "data": {
      "text/plain": [
       "'MAHIMA'"
      ]
     },
     "execution_count": 31,
     "metadata": {},
     "output_type": "execute_result"
    }
   ],
   "source": [
    "d16[\"name\"].upper()"
   ]
  },
  {
   "cell_type": "code",
   "execution_count": 32,
   "id": "05663296-4abe-4ac6-b4a7-091f4375221b",
   "metadata": {},
   "outputs": [
    {
     "data": {
      "text/plain": [
       "{'keys': {'mahima': 'cutiee', 'cute': 'apesh', 'apeshh': 'anshul'}}"
      ]
     },
     "execution_count": 32,
     "metadata": {},
     "output_type": "execute_result"
    }
   ],
   "source": [
    "d15"
   ]
  },
  {
   "cell_type": "code",
   "execution_count": 37,
   "id": "b95af3bb-eb6d-4bda-8bc6-8dbcba742aa0",
   "metadata": {},
   "outputs": [
    {
     "data": {
      "text/plain": [
       "'anshul'"
      ]
     },
     "execution_count": 37,
     "metadata": {},
     "output_type": "execute_result"
    }
   ],
   "source": [
    "d15[\"keys\"][\"apeshh\"]"
   ]
  },
  {
   "cell_type": "code",
   "execution_count": 38,
   "id": "25680ad9-038c-42bf-bef2-5cdf2f670c53",
   "metadata": {},
   "outputs": [],
   "source": [
    "d15[\"baby_shark\"]=\"todo_todo\""
   ]
  },
  {
   "cell_type": "code",
   "execution_count": 39,
   "id": "c09b2b66-9c89-4043-8f6a-6711a83b080d",
   "metadata": {},
   "outputs": [
    {
     "data": {
      "text/plain": [
       "{'keys': {'mahima': 'cutiee', 'cute': 'apesh', 'apeshh': 'anshul'},\n",
       " 'baby_shark': 'todo_todo'}"
      ]
     },
     "execution_count": 39,
     "metadata": {},
     "output_type": "execute_result"
    }
   ],
   "source": [
    "d15"
   ]
  },
  {
   "cell_type": "code",
   "execution_count": 40,
   "id": "24cd47cf-0d03-46b1-be02-13adc614e257",
   "metadata": {},
   "outputs": [],
   "source": [
    "del d15[\"baby_shark\"]"
   ]
  },
  {
   "cell_type": "code",
   "execution_count": 41,
   "id": "31a97b72-3352-4679-9488-68dfa3eb999b",
   "metadata": {},
   "outputs": [
    {
     "data": {
      "text/plain": [
       "{'keys': {'mahima': 'cutiee', 'cute': 'apesh', 'apeshh': 'anshul'}}"
      ]
     },
     "execution_count": 41,
     "metadata": {},
     "output_type": "execute_result"
    }
   ],
   "source": [
    "d15"
   ]
  },
  {
   "cell_type": "code",
   "execution_count": 42,
   "id": "7d6ad407-9101-48ea-8e8a-6a0203b73af5",
   "metadata": {},
   "outputs": [],
   "source": [
    "d15.clear()"
   ]
  },
  {
   "cell_type": "code",
   "execution_count": 43,
   "id": "92976beb-d25a-478f-898f-afd3a5bfc753",
   "metadata": {},
   "outputs": [
    {
     "data": {
      "text/plain": [
       "{}"
      ]
     },
     "execution_count": 43,
     "metadata": {},
     "output_type": "execute_result"
    }
   ],
   "source": [
    "d15"
   ]
  },
  {
   "cell_type": "code",
   "execution_count": 44,
   "id": "370a71d2-d165-46da-be1e-818789c1f6f2",
   "metadata": {},
   "outputs": [
    {
     "data": {
      "text/plain": [
       "5"
      ]
     },
     "execution_count": 44,
     "metadata": {},
     "output_type": "execute_result"
    }
   ],
   "source": [
    "len(d16)"
   ]
  },
  {
   "cell_type": "code",
   "execution_count": 45,
   "id": "ac98921e-d1f8-4ff4-9021-7ccfced100ef",
   "metadata": {},
   "outputs": [
    {
     "data": {
      "text/plain": [
       "{'events_name': ['introduction', 'front_end', 'baclk_end', 'data_sceince'],\n",
       " 'events_date': (13, 5, 10, 8),\n",
       " 'gdsc_members': {'avni bhargava',\n",
       "  'harsh jha',\n",
       "  'mahima sharma',\n",
       "  'manan jethwa'},\n",
       " 'timing': (3, 4, 5, 6, 8, 9),\n",
       " 'name': 'mahima'}"
      ]
     },
     "execution_count": 45,
     "metadata": {},
     "output_type": "execute_result"
    }
   ],
   "source": [
    "d16"
   ]
  },
  {
   "cell_type": "code",
   "execution_count": 46,
   "id": "0d149154-9d4b-46db-ba2d-fbe21ca9c308",
   "metadata": {},
   "outputs": [
    {
     "data": {
      "text/plain": [
       "dict_keys(['events_name', 'events_date', 'gdsc_members', 'timing', 'name'])"
      ]
     },
     "execution_count": 46,
     "metadata": {},
     "output_type": "execute_result"
    }
   ],
   "source": [
    "d16.keys()"
   ]
  },
  {
   "cell_type": "code",
   "execution_count": 47,
   "id": "326483f4-cc81-4d02-a215-0479293add0f",
   "metadata": {},
   "outputs": [
    {
     "data": {
      "text/plain": [
       "{'events_name': ['introduction', 'front_end', 'baclk_end', 'data_sceince'],\n",
       " 'events_date': (13, 5, 10, 8),\n",
       " 'gdsc_members': {'avni bhargava',\n",
       "  'harsh jha',\n",
       "  'mahima sharma',\n",
       "  'manan jethwa'},\n",
       " 'timing': (3, 4, 5, 6, 8, 9),\n",
       " 'name': 'mahima'}"
      ]
     },
     "execution_count": 47,
     "metadata": {},
     "output_type": "execute_result"
    }
   ],
   "source": [
    "d16.copy()"
   ]
  },
  {
   "cell_type": "code",
   "execution_count": 48,
   "id": "5cd091b2-6dc5-4a2d-8f01-ab3acc1524ae",
   "metadata": {},
   "outputs": [
    {
     "data": {
      "text/plain": [
       "dict_values([['introduction', 'front_end', 'baclk_end', 'data_sceince'], (13, 5, 10, 8), {'manan jethwa', 'avni bhargava', 'harsh jha', 'mahima sharma'}, (3, 4, 5, 6, 8, 9), 'mahima'])"
      ]
     },
     "execution_count": 48,
     "metadata": {},
     "output_type": "execute_result"
    }
   ],
   "source": [
    "d16.values()"
   ]
  },
  {
   "cell_type": "code",
   "execution_count": 50,
   "id": "85008737-adc2-42e3-a144-3e32befbd758",
   "metadata": {},
   "outputs": [
    {
     "data": {
      "text/plain": [
       "[['introduction', 'front_end', 'baclk_end', 'data_sceince'],\n",
       " (13, 5, 10, 8),\n",
       " {'avni bhargava', 'harsh jha', 'mahima sharma', 'manan jethwa'},\n",
       " (3, 4, 5, 6, 8, 9),\n",
       " 'mahima']"
      ]
     },
     "execution_count": 50,
     "metadata": {},
     "output_type": "execute_result"
    }
   ],
   "source": [
    "list(d16.values())"
   ]
  },
  {
   "cell_type": "code",
   "execution_count": 51,
   "id": "ba6efc7c-6792-4344-9d9e-e7f92c0a66e1",
   "metadata": {},
   "outputs": [
    {
     "data": {
      "text/plain": [
       "['events_name', 'events_date', 'gdsc_members', 'timing', 'name']"
      ]
     },
     "execution_count": 51,
     "metadata": {},
     "output_type": "execute_result"
    }
   ],
   "source": [
    "list(d16.keys())"
   ]
  },
  {
   "cell_type": "code",
   "execution_count": 52,
   "id": "337e98c2-44a9-4990-ba32-55dc4a709b16",
   "metadata": {},
   "outputs": [
    {
     "data": {
      "text/plain": [
       "[('events_name', ['introduction', 'front_end', 'baclk_end', 'data_sceince']),\n",
       " ('events_date', (13, 5, 10, 8)),\n",
       " ('gdsc_members',\n",
       "  {'avni bhargava', 'harsh jha', 'mahima sharma', 'manan jethwa'}),\n",
       " ('timing', (3, 4, 5, 6, 8, 9)),\n",
       " ('name', 'mahima')]"
      ]
     },
     "execution_count": 52,
     "metadata": {},
     "output_type": "execute_result"
    }
   ],
   "source": [
    "list(d16.items())"
   ]
  },
  {
   "cell_type": "code",
   "execution_count": 60,
   "id": "dfc46f9c-b0e4-41e1-9813-696b918fdbce",
   "metadata": {},
   "outputs": [],
   "source": [
    "d17 =d16.copy()\n"
   ]
  },
  {
   "cell_type": "code",
   "execution_count": 59,
   "id": "c0d5a299-b892-4673-9fd2-04a3e87ec627",
   "metadata": {},
   "outputs": [
    {
     "data": {
      "text/plain": [
       "{'events_name': ['introduction', 'front_end', 'baclk_end', 'data_sceince'],\n",
       " 'events_date': (13, 5, 10, 8),\n",
       " 'gdsc_members': {'avni bhargava',\n",
       "  'harsh jha',\n",
       "  'mahima sharma',\n",
       "  'manan jethwa'},\n",
       " 'timing': (3, 4, 5, 6, 8, 9),\n",
       " 'name': 'mahima'}"
      ]
     },
     "execution_count": 59,
     "metadata": {},
     "output_type": "execute_result"
    }
   ],
   "source": [
    "d16"
   ]
  },
  {
   "cell_type": "code",
   "execution_count": 61,
   "id": "fe9be635-fae0-4008-8651-b6c8a3b5e3c0",
   "metadata": {},
   "outputs": [
    {
     "data": {
      "text/plain": [
       "{'events_name': ['introduction', 'front_end', 'baclk_end', 'data_sceince'],\n",
       " 'events_date': (13, 5, 10, 8),\n",
       " 'gdsc_members': {'avni bhargava',\n",
       "  'harsh jha',\n",
       "  'mahima sharma',\n",
       "  'manan jethwa'},\n",
       " 'timing': (3, 4, 5, 6, 8, 9),\n",
       " 'name': 'mahima'}"
      ]
     },
     "execution_count": 61,
     "metadata": {},
     "output_type": "execute_result"
    }
   ],
   "source": [
    "d17"
   ]
  },
  {
   "cell_type": "code",
   "execution_count": 62,
   "id": "5e37b6bf-6aaf-4caf-bbe3-d638cb53807a",
   "metadata": {},
   "outputs": [],
   "source": [
    "del d16[\"name\"]"
   ]
  },
  {
   "cell_type": "code",
   "execution_count": 4,
   "id": "326a9a80-a533-420a-89a2-95838df28ba0",
   "metadata": {},
   "outputs": [
    {
     "ename": "NameError",
     "evalue": "name 'd16' is not defined",
     "output_type": "error",
     "traceback": [
      "\u001b[0;31m---------------------------------------------------------------------------\u001b[0m",
      "\u001b[0;31mNameError\u001b[0m                                 Traceback (most recent call last)",
      "Cell \u001b[0;32mIn[4], line 1\u001b[0m\n\u001b[0;32m----> 1\u001b[0m \u001b[43md16\u001b[49m\n",
      "\u001b[0;31mNameError\u001b[0m: name 'd16' is not defined"
     ]
    }
   ],
   "source": [
    "d16"
   ]
  },
  {
   "cell_type": "code",
   "execution_count": 64,
   "id": "79d3cd80-0af7-4ec5-9a7c-c3032e27ffcf",
   "metadata": {},
   "outputs": [
    {
     "data": {
      "text/plain": [
       "{'events_name': ['introduction', 'front_end', 'baclk_end', 'data_sceince'],\n",
       " 'events_date': (13, 5, 10, 8),\n",
       " 'gdsc_members': {'avni bhargava',\n",
       "  'harsh jha',\n",
       "  'mahima sharma',\n",
       "  'manan jethwa'},\n",
       " 'timing': (3, 4, 5, 6, 8, 9),\n",
       " 'name': 'mahima'}"
      ]
     },
     "execution_count": 64,
     "metadata": {},
     "output_type": "execute_result"
    }
   ],
   "source": [
    "d17"
   ]
  },
  {
   "cell_type": "code",
   "execution_count": 67,
   "id": "fc3c4b63-e136-4d13-b510-5ec7ede6fcb6",
   "metadata": {},
   "outputs": [],
   "source": [
    "d18=d16"
   ]
  },
  {
   "cell_type": "code",
   "execution_count": 66,
   "id": "ef3d6b98-9434-4089-aa0c-768a8b3822cf",
   "metadata": {},
   "outputs": [
    {
     "data": {
      "text/plain": [
       "{'events_name': ['introduction', 'front_end', 'baclk_end', 'data_sceince'],\n",
       " 'events_date': (13, 5, 10, 8),\n",
       " 'gdsc_members': {'avni bhargava',\n",
       "  'harsh jha',\n",
       "  'mahima sharma',\n",
       "  'manan jethwa'},\n",
       " 'timing': (3, 4, 5, 6, 8, 9)}"
      ]
     },
     "execution_count": 66,
     "metadata": {},
     "output_type": "execute_result"
    }
   ],
   "source": [
    "d18"
   ]
  },
  {
   "cell_type": "markdown",
   "id": "c91f1e44-f178-4aaa-aca6-5d340a47e3d2",
   "metadata": {},
   "source": [
    "##d18=d16 d17=d16.copy() that are same same but different "
   ]
  },
  {
   "cell_type": "code",
   "execution_count": 6,
   "id": "5bd42184-d53b-4ab4-a99e-eeb137cbcd34",
   "metadata": {},
   "outputs": [
    {
     "data": {
      "text/plain": [
       "{'events_name': ['introduction', 'front_end', 'baclk_end', 'data_sceince'],\n",
       " 'events_date': (13, 5, 10, 8),\n",
       " 'gdsc_members': {'avni bhargava',\n",
       "  'harsh jha',\n",
       "  'mahima sharma',\n",
       "  'manan jethwa'}}"
      ]
     },
     "execution_count": 6,
     "metadata": {},
     "output_type": "execute_result"
    }
   ],
   "source": [
    "d16={\"events_name\":[\"introduction\",\"front_end\",\"baclk_end\",\"data_sceince\"],\n",
    "     \"events_date\":(13,5 ,10,8),\"gdsc_members\": \n",
    "     {\"harsh jha\",\"avni bhargava\",\"mahima sharma\",\"manan jethwa\"}}\n",
    "d16"
   ]
  },
  {
   "cell_type": "code",
   "execution_count": 7,
   "id": "d7aa2887-1601-44b0-ab80-c33eef6f2b3d",
   "metadata": {},
   "outputs": [
    {
     "data": {
      "text/plain": [
       "(13, 5, 10, 8)"
      ]
     },
     "execution_count": 7,
     "metadata": {},
     "output_type": "execute_result"
    }
   ],
   "source": [
    "d16.pop(\"events_date\")"
   ]
  },
  {
   "cell_type": "code",
   "execution_count": 8,
   "id": "2d418fb4-4a85-42a8-a036-d9c289139a13",
   "metadata": {},
   "outputs": [
    {
     "data": {
      "text/plain": [
       "{'events_name': ['introduction', 'front_end', 'baclk_end', 'data_sceince'],\n",
       " 'gdsc_members': {'avni bhargava',\n",
       "  'harsh jha',\n",
       "  'mahima sharma',\n",
       "  'manan jethwa'}}"
      ]
     },
     "execution_count": 8,
     "metadata": {},
     "output_type": "execute_result"
    }
   ],
   "source": [
    "d16"
   ]
  },
  {
   "cell_type": "code",
   "execution_count": 19,
   "id": "0c0f477e-a41d-4f8c-95f1-767d47d530f8",
   "metadata": {},
   "outputs": [],
   "source": [
    "d=dict.fromkeys((1,2,3) ,('a','b','c'))"
   ]
  },
  {
   "cell_type": "code",
   "execution_count": 20,
   "id": "c9f4f6c5-76e8-466e-a308-f36ddbd5e428",
   "metadata": {},
   "outputs": [
    {
     "data": {
      "text/plain": [
       "{1: ('a', 'b', 'c'), 2: ('a', 'b', 'c'), 3: ('a', 'b', 'c')}"
      ]
     },
     "execution_count": 20,
     "metadata": {},
     "output_type": "execute_result"
    }
   ],
   "source": [
    "d"
   ]
  },
  {
   "cell_type": "code",
   "execution_count": 21,
   "id": "fbfcee6c-9913-486d-987a-032cb975e5c3",
   "metadata": {},
   "outputs": [],
   "source": [
    "d19={\"key1\":\"ans1\",\"key2\":\"ans2\"}\n",
    "d20={\"key3\":\"ans3\",\"key4\":\"ans4\"}"
   ]
  },
  {
   "cell_type": "code",
   "execution_count": 22,
   "id": "6417e594-9c71-4c01-a5ba-b7a6d2cd6e0b",
   "metadata": {},
   "outputs": [
    {
     "data": {
      "text/plain": [
       "({'key1': 'ans1', 'key2': 'ans2'}, {'key3': 'ans3', 'key4': 'ans4'})"
      ]
     },
     "execution_count": 22,
     "metadata": {},
     "output_type": "execute_result"
    }
   ],
   "source": [
    "(d19,d20)"
   ]
  },
  {
   "cell_type": "code",
   "execution_count": 23,
   "id": "16b35eee-2501-43c4-80a4-2862b2ee5cc1",
   "metadata": {},
   "outputs": [],
   "source": [
    "d19.update(d20)"
   ]
  },
  {
   "cell_type": "code",
   "execution_count": 24,
   "id": "b7d50f8a-93a0-4771-9bff-d379079aadae",
   "metadata": {},
   "outputs": [
    {
     "data": {
      "text/plain": [
       "{'key1': 'ans1', 'key2': 'ans2', 'key3': 'ans3', 'key4': 'ans4'}"
      ]
     },
     "execution_count": 24,
     "metadata": {},
     "output_type": "execute_result"
    }
   ],
   "source": [
    "d19"
   ]
  },
  {
   "cell_type": "code",
   "execution_count": 27,
   "id": "ebe6c5dc-ce8f-4800-9e58-c26cd421b027",
   "metadata": {},
   "outputs": [],
   "source": [
    "d20.update(d19)"
   ]
  },
  {
   "cell_type": "code",
   "execution_count": 28,
   "id": "f9574489-e32c-4105-8a65-15ad48221d04",
   "metadata": {},
   "outputs": [
    {
     "data": {
      "text/plain": [
       "{'key3': 'ans3', 'key4': 'ans4', 'key1': 'ans1', 'key2': 'ans2'}"
      ]
     },
     "execution_count": 28,
     "metadata": {},
     "output_type": "execute_result"
    }
   ],
   "source": [
    "d20"
   ]
  },
  {
   "cell_type": "code",
   "execution_count": 31,
   "id": "efffe152-1f9b-4b2a-9f2f-a1cf2fbefd06",
   "metadata": {},
   "outputs": [],
   "source": [
    "d20.get(\"sudh\")"
   ]
  },
  {
   "cell_type": "code",
   "execution_count": 32,
   "id": "19db4b99-16f9-4cf3-a790-c996f31c12e8",
   "metadata": {},
   "outputs": [
    {
     "data": {
      "text/plain": [
       "'ans3'"
      ]
     },
     "execution_count": 32,
     "metadata": {},
     "output_type": "execute_result"
    }
   ],
   "source": [
    "d20.get(\"key3\")"
   ]
  },
  {
   "cell_type": "code",
   "execution_count": 34,
   "id": "4e9416a0-7b71-4c81-88c1-3c7a76acf08a",
   "metadata": {},
   "outputs": [
    {
     "data": {
      "text/plain": [
       "'ans3'"
      ]
     },
     "execution_count": 34,
     "metadata": {},
     "output_type": "execute_result"
    }
   ],
   "source": [
    "d20[\"key3\"]"
   ]
  },
  {
   "cell_type": "code",
   "execution_count": 35,
   "id": "94d0f5a3-c006-475f-8643-7422130ae946",
   "metadata": {},
   "outputs": [
    {
     "ename": "KeyError",
     "evalue": "'sudh'",
     "output_type": "error",
     "traceback": [
      "\u001b[0;31m---------------------------------------------------------------------------\u001b[0m",
      "\u001b[0;31mKeyError\u001b[0m                                  Traceback (most recent call last)",
      "Cell \u001b[0;32mIn[35], line 1\u001b[0m\n\u001b[0;32m----> 1\u001b[0m \u001b[43md20\u001b[49m\u001b[43m[\u001b[49m\u001b[38;5;124;43m\"\u001b[39;49m\u001b[38;5;124;43msudh\u001b[39;49m\u001b[38;5;124;43m\"\u001b[39;49m\u001b[43m]\u001b[49m\n",
      "\u001b[0;31mKeyError\u001b[0m: 'sudh'"
     ]
    }
   ],
   "source": [
    "d20[\"sudh\"]"
   ]
  },
  {
   "cell_type": "markdown",
   "id": "25e954ca-657c-43e4-9800-f5adf0d91052",
   "metadata": {},
   "source": [
    "## dictionary comprehension"
   ]
  },
  {
   "cell_type": "markdown",
   "id": "b4839437-0fcc-44f3-8b1b-12defab8a9fc",
   "metadata": {},
   "source": [
    "##1 line m dictionary describe krna"
   ]
  },
  {
   "cell_type": "code",
   "execution_count": 3,
   "id": "439ef3b8-14bc-44c9-aa56-0348b0e8c01e",
   "metadata": {},
   "outputs": [
    {
     "name": "stdout",
     "output_type": "stream",
     "text": [
      "1\n",
      "2\n",
      "3\n",
      "4\n",
      "5\n",
      "6\n",
      "7\n",
      "8\n",
      "9\n",
      "10\n"
     ]
    }
   ],
   "source": [
    "for i in range(1,11):\n",
    "    print(i)"
   ]
  },
  {
   "cell_type": "code",
   "execution_count": 7,
   "id": "4cf0d6fb-8fe4-4ff9-a48e-42d42e259b33",
   "metadata": {},
   "outputs": [
    {
     "data": {
      "text/plain": [
       "[1, 2, 3, 4, 5, 6, 7, 8, 9, 10]"
      ]
     },
     "execution_count": 7,
     "metadata": {},
     "output_type": "execute_result"
    }
   ],
   "source": [
    "list(range(1,11))"
   ]
  },
  {
   "cell_type": "code",
   "execution_count": 10,
   "id": "d7999790-3076-4136-b5a3-6922d786cdcf",
   "metadata": {},
   "outputs": [
    {
     "data": {
      "text/plain": [
       "{1: 1, 2: 4, 3: 9, 4: 16, 5: 25, 6: 36, 7: 49, 8: 64, 9: 81, 10: 100}"
      ]
     },
     "execution_count": 10,
     "metadata": {},
     "output_type": "execute_result"
    }
   ],
   "source": [
    "{i:i**2 for i in range(1,11)}"
   ]
  },
  {
   "cell_type": "code",
   "execution_count": 11,
   "id": "e3f49c26-9141-4fbf-b078-81b2336d9770",
   "metadata": {},
   "outputs": [
    {
     "data": {
      "text/plain": [
       "{1: 3, 2: 4, 3: 5, 4: 6, 5: 7, 6: 8, 7: 9, 8: 10, 9: 11, 10: 12}"
      ]
     },
     "execution_count": 11,
     "metadata": {},
     "output_type": "execute_result"
    }
   ],
   "source": [
    "{i:i+2 for i in range(1,11)}"
   ]
  },
  {
   "cell_type": "code",
   "execution_count": 12,
   "id": "f4c28e61-ec79-49b1-8f60-a4619df0f45d",
   "metadata": {},
   "outputs": [
    {
     "data": {
      "text/plain": [
       "{1: 11, 2: 12, 3: 13, 4: 14, 5: 15, 6: 16, 7: 17, 8: 18, 9: 19, 10: 20}"
      ]
     },
     "execution_count": 12,
     "metadata": {},
     "output_type": "execute_result"
    }
   ],
   "source": [
    "{i:i+10 for i in range(1,11)}"
   ]
  },
  {
   "cell_type": "code",
   "execution_count": 23,
   "id": "9c825f8c-b9b0-4b9b-b665-caa4c0f42385",
   "metadata": {},
   "outputs": [],
   "source": [
    "import math\n",
    "d21={i:math.log10(i) for i in range(1,11)}"
   ]
  },
  {
   "cell_type": "code",
   "execution_count": 20,
   "id": "3b82ec0b-f0ca-4129-bc2f-2172d48f2908",
   "metadata": {},
   "outputs": [
    {
     "data": {
      "text/plain": [
       "{'events_name': ['introduction', 'front_end', 'baclk_end', 'data_sceince'],\n",
       " 'events_date': (13, 5, 10, 8),\n",
       " 'gdsc_members': {'avni bhargava',\n",
       "  'harsh jha',\n",
       "  'mahima sharma',\n",
       "  'manan jethwa'}}"
      ]
     },
     "execution_count": 20,
     "metadata": {},
     "output_type": "execute_result"
    }
   ],
   "source": [
    "d16={\"events_name\":[\"introduction\",\"front_end\",\"baclk_end\",\"data_sceince\"],\n",
    "     \"events_date\":(13,5 ,10,8),\"gdsc_members\": \n",
    "     {\"harsh jha\",\"avni bhargava\",\"mahima sharma\",\"manan jethwa\"}}\n",
    "d16"
   ]
  },
  {
   "cell_type": "code",
   "execution_count": 22,
   "id": "38b8771e-9af6-4e8b-8483-966c096c2040",
   "metadata": {},
   "outputs": [
    {
     "data": {
      "text/plain": [
       "True"
      ]
     },
     "execution_count": 22,
     "metadata": {},
     "output_type": "execute_result"
    }
   ],
   "source": [
    "\"events_name\" in d16"
   ]
  },
  {
   "cell_type": "code",
   "execution_count": 25,
   "id": "6d89627e-24f7-4df8-b055-941b55cf93c2",
   "metadata": {},
   "outputs": [
    {
     "data": {
      "text/plain": [
       "{1: 0.0,\n",
       " 2: 0.3010299956639812,\n",
       " 3: 0.47712125471966244,\n",
       " 4: 0.6020599913279624,\n",
       " 5: 0.6989700043360189,\n",
       " 6: 0.7781512503836436,\n",
       " 7: 0.8450980400142568,\n",
       " 8: 0.9030899869919435,\n",
       " 9: 0.9542425094393249,\n",
       " 10: 1.0}"
      ]
     },
     "execution_count": 25,
     "metadata": {},
     "output_type": "execute_result"
    }
   ],
   "source": [
    "d21"
   ]
  },
  {
   "cell_type": "code",
   "execution_count": 26,
   "id": "feeb87d0-fa0c-42f8-9f4f-9981393e40e2",
   "metadata": {},
   "outputs": [
    {
     "data": {
      "text/plain": [
       "dict_keys([1, 2, 3, 4, 5, 6, 7, 8, 9, 10])"
      ]
     },
     "execution_count": 26,
     "metadata": {},
     "output_type": "execute_result"
    }
   ],
   "source": [
    "d21.keys()"
   ]
  },
  {
   "cell_type": "code",
   "execution_count": 30,
   "id": "75e94557-d64c-4c55-b0dd-c7a080980b12",
   "metadata": {},
   "outputs": [
    {
     "name": "stdout",
     "output_type": "stream",
     "text": [
      "null\n",
      "null\n",
      "null\n",
      "null\n",
      "null\n",
      "null\n",
      "null\n",
      "null\n",
      "null\n",
      "null\n"
     ]
    }
   ],
   "source": [
    "for i in d21.keys():\n",
    "    if i/2==0:\n",
    "        print(i)\n",
    "    else:\n",
    "        print(\"null\")"
   ]
  },
  {
   "cell_type": "code",
   "execution_count": null,
   "id": "7ce88fbc-b50f-4d67-9203-5a291ce0ca0a",
   "metadata": {},
   "outputs": [],
   "source": []
  },
  {
   "cell_type": "code",
   "execution_count": null,
   "id": "44479e01-8d91-4574-9c89-be8b4a5c86bf",
   "metadata": {},
   "outputs": [],
   "source": []
  },
  {
   "cell_type": "code",
   "execution_count": null,
   "id": "91a490d4-addd-4347-bab0-93a48fca9218",
   "metadata": {},
   "outputs": [],
   "source": []
  },
  {
   "cell_type": "code",
   "execution_count": null,
   "id": "f3c55b7b-292d-4b78-8636-08e68a25fafb",
   "metadata": {},
   "outputs": [],
   "source": []
  },
  {
   "cell_type": "code",
   "execution_count": null,
   "id": "4c730579-63fc-4aeb-8eda-8ca7cfb0dd11",
   "metadata": {},
   "outputs": [],
   "source": []
  },
  {
   "cell_type": "code",
   "execution_count": null,
   "id": "f1499432-823a-4d00-8e12-be26f768a9ae",
   "metadata": {},
   "outputs": [],
   "source": []
  },
  {
   "cell_type": "code",
   "execution_count": null,
   "id": "2a46ea11-6616-4dfb-b060-416631d51e5a",
   "metadata": {},
   "outputs": [],
   "source": []
  },
  {
   "cell_type": "code",
   "execution_count": null,
   "id": "c726c2c3-a462-45c0-9a61-40271a14db0e",
   "metadata": {},
   "outputs": [],
   "source": []
  },
  {
   "cell_type": "code",
   "execution_count": null,
   "id": "3d3d63cb-0f87-4b96-9ab0-563fc76dfebe",
   "metadata": {},
   "outputs": [],
   "source": []
  },
  {
   "cell_type": "code",
   "execution_count": null,
   "id": "07a4a5ab-4de2-47f6-93fe-bb848b718d93",
   "metadata": {},
   "outputs": [],
   "source": []
  },
  {
   "cell_type": "code",
   "execution_count": null,
   "id": "ae885765-6f58-45af-a547-86a0fb9afa37",
   "metadata": {},
   "outputs": [],
   "source": []
  },
  {
   "cell_type": "code",
   "execution_count": null,
   "id": "87fe059b-79f0-4c5b-b75d-4baa3f1c9ef6",
   "metadata": {},
   "outputs": [],
   "source": []
  },
  {
   "cell_type": "code",
   "execution_count": null,
   "id": "333ce21a-a277-4e92-a9b1-478c830c988f",
   "metadata": {},
   "outputs": [],
   "source": []
  },
  {
   "cell_type": "code",
   "execution_count": null,
   "id": "374e87a2-e285-4186-85d7-99cb8169ebd6",
   "metadata": {},
   "outputs": [],
   "source": []
  },
  {
   "cell_type": "code",
   "execution_count": null,
   "id": "86a9a226-3c9c-48d8-8019-979418d82033",
   "metadata": {},
   "outputs": [],
   "source": []
  },
  {
   "cell_type": "code",
   "execution_count": null,
   "id": "1bcd9f9e-3c97-4df8-afc5-4b050dd0e65f",
   "metadata": {},
   "outputs": [],
   "source": []
  },
  {
   "cell_type": "code",
   "execution_count": null,
   "id": "0dbfeb9a-ea8d-49dd-b76d-1772798ab581",
   "metadata": {},
   "outputs": [],
   "source": []
  },
  {
   "cell_type": "code",
   "execution_count": null,
   "id": "207c6b44-8213-40bb-a2d6-234ede835039",
   "metadata": {},
   "outputs": [],
   "source": []
  },
  {
   "cell_type": "code",
   "execution_count": null,
   "id": "dac76b1b-4c71-4b8b-9173-8972315945c3",
   "metadata": {},
   "outputs": [],
   "source": []
  },
  {
   "cell_type": "code",
   "execution_count": null,
   "id": "2ed404b2-d347-4b06-b3fc-18f69e49a1cd",
   "metadata": {},
   "outputs": [],
   "source": []
  },
  {
   "cell_type": "code",
   "execution_count": null,
   "id": "1be812f2-9573-4fc2-bc83-a9a52d11ccef",
   "metadata": {},
   "outputs": [],
   "source": []
  },
  {
   "cell_type": "code",
   "execution_count": null,
   "id": "1177dccf-7b7a-40c8-ae90-3c0626978ddd",
   "metadata": {},
   "outputs": [],
   "source": []
  }
 ],
 "metadata": {
  "kernelspec": {
   "display_name": "Python 3 (ipykernel)",
   "language": "python",
   "name": "python3"
  },
  "language_info": {
   "codemirror_mode": {
    "name": "ipython",
    "version": 3
   },
   "file_extension": ".py",
   "mimetype": "text/x-python",
   "name": "python",
   "nbconvert_exporter": "python",
   "pygments_lexer": "ipython3",
   "version": "3.10.8"
  }
 },
 "nbformat": 4,
 "nbformat_minor": 5
}
