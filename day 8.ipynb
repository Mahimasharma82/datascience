{
 "cells": [
  {
   "cell_type": "code",
   "execution_count": 1,
   "id": "326120e8-429a-47f6-be23-13d5c501abb9",
   "metadata": {},
   "outputs": [],
   "source": [
    "def test(n,p):\n",
    "    return n**p"
   ]
  },
  {
   "cell_type": "code",
   "execution_count": 2,
   "id": "520d0a9c-1aca-48bd-b0cd-57ad61b16a1b",
   "metadata": {},
   "outputs": [
    {
     "data": {
      "text/plain": [
       "8"
      ]
     },
     "execution_count": 2,
     "metadata": {},
     "output_type": "execute_result"
    }
   ],
   "source": [
    "test(2,3)"
   ]
  },
  {
   "cell_type": "code",
   "execution_count": 3,
   "id": "bb57047a-d22f-4091-a9c5-4c86e7dcd5df",
   "metadata": {},
   "outputs": [
    {
     "data": {
      "text/plain": [
       "4782969"
      ]
     },
     "execution_count": 3,
     "metadata": {},
     "output_type": "execute_result"
    }
   ],
   "source": [
    "test(9,7)"
   ]
  },
  {
   "cell_type": "code",
   "execution_count": 7,
   "id": "f552e91a-f77b-48ce-af0e-07df941ee603",
   "metadata": {},
   "outputs": [],
   "source": [
    "a = lambda n,p : n**p\n"
   ]
  },
  {
   "cell_type": "code",
   "execution_count": 9,
   "id": "48a204f9-8c46-465e-aac7-d54e5c7335e4",
   "metadata": {},
   "outputs": [
    {
     "data": {
      "text/plain": [
       "6561"
      ]
     },
     "execution_count": 9,
     "metadata": {},
     "output_type": "execute_result"
    }
   ],
   "source": [
    "a(9,4)"
   ]
  },
  {
   "cell_type": "code",
   "execution_count": 10,
   "id": "c9cc91ce-91b6-45f7-9e44-62e42a2da330",
   "metadata": {},
   "outputs": [
    {
     "data": {
      "text/plain": [
       "1953125"
      ]
     },
     "execution_count": 10,
     "metadata": {},
     "output_type": "execute_result"
    }
   ],
   "source": [
    "a(5,9)"
   ]
  },
  {
   "cell_type": "code",
   "execution_count": 11,
   "id": "0ac902ff-bfe3-4288-a6c6-8b1358a433cc",
   "metadata": {},
   "outputs": [],
   "source": [
    "add= lambda x,y: x+y"
   ]
  },
  {
   "cell_type": "code",
   "execution_count": 12,
   "id": "6542c8ae-db08-4d0c-b72b-7da17531adbc",
   "metadata": {},
   "outputs": [
    {
     "data": {
      "text/plain": [
       "15"
      ]
     },
     "execution_count": 12,
     "metadata": {},
     "output_type": "execute_result"
    }
   ],
   "source": [
    "add(7,8)"
   ]
  },
  {
   "cell_type": "code",
   "execution_count": 13,
   "id": "8318f6e3-64a5-4c4b-8c40-f7efd26da637",
   "metadata": {},
   "outputs": [
    {
     "data": {
      "text/plain": [
       "17"
      ]
     },
     "execution_count": 13,
     "metadata": {},
     "output_type": "execute_result"
    }
   ],
   "source": [
    "add(9,8)"
   ]
  },
  {
   "cell_type": "code",
   "execution_count": 14,
   "id": "2816e54b-1b84-4efd-a626-f5fa3886bef7",
   "metadata": {},
   "outputs": [],
   "source": [
    "c_to_f= lambda c:(9/5)*c+32"
   ]
  },
  {
   "cell_type": "code",
   "execution_count": 15,
   "id": "892405d1-36a3-4077-a1bd-d86fd63180e1",
   "metadata": {},
   "outputs": [
    {
     "data": {
      "text/plain": [
       "86.0"
      ]
     },
     "execution_count": 15,
     "metadata": {},
     "output_type": "execute_result"
    }
   ],
   "source": [
    "c_to_f(30)"
   ]
  },
  {
   "cell_type": "code",
   "execution_count": 16,
   "id": "1a2037c8-6e3d-4d7f-be95-75b5c1d9f397",
   "metadata": {},
   "outputs": [
    {
     "data": {
      "text/plain": [
       "93.2"
      ]
     },
     "execution_count": 16,
     "metadata": {},
     "output_type": "execute_result"
    }
   ],
   "source": [
    "c_to_f(34)"
   ]
  },
  {
   "cell_type": "code",
   "execution_count": 18,
   "id": "5b2e5185-e71e-4eeb-b82e-58de1f5b3058",
   "metadata": {},
   "outputs": [],
   "source": [
    "max_two = lambda a,b : a if a>b else b"
   ]
  },
  {
   "cell_type": "code",
   "execution_count": 19,
   "id": "7685b417-f1e8-4709-93f5-764f5c755a6a",
   "metadata": {},
   "outputs": [
    {
     "data": {
      "text/plain": [
       "78"
      ]
     },
     "execution_count": 19,
     "metadata": {},
     "output_type": "execute_result"
    }
   ],
   "source": [
    "max_two(32,78)"
   ]
  },
  {
   "cell_type": "code",
   "execution_count": 20,
   "id": "b4bae904-6eb8-409b-8470-a54ff695e245",
   "metadata": {},
   "outputs": [
    {
     "data": {
      "text/plain": [
       "54"
      ]
     },
     "execution_count": 20,
     "metadata": {},
     "output_type": "execute_result"
    }
   ],
   "source": [
    "max_two(54,34)"
   ]
  },
  {
   "cell_type": "code",
   "execution_count": 23,
   "id": "bc5f3c96-5e33-40cc-a8e3-07c0cdac447c",
   "metadata": {},
   "outputs": [],
   "source": [
    "s=\"pw_skills\""
   ]
  },
  {
   "cell_type": "code",
   "execution_count": 25,
   "id": "f29bff6e-93a4-4107-9059-ea8c744678f3",
   "metadata": {},
   "outputs": [],
   "source": [
    "len_str = lambda s: len(s)"
   ]
  },
  {
   "cell_type": "code",
   "execution_count": 26,
   "id": "fcc46d5d-fe01-470f-903a-fab47382fe8e",
   "metadata": {},
   "outputs": [
    {
     "data": {
      "text/plain": [
       "9"
      ]
     },
     "execution_count": 26,
     "metadata": {},
     "output_type": "execute_result"
    }
   ],
   "source": [
    "len_str(s)"
   ]
  },
  {
   "cell_type": "code",
   "execution_count": 32,
   "id": "dc2f22a6-8bf6-46fa-b604-d34b7621dbfc",
   "metadata": {},
   "outputs": [],
   "source": [
    "x=[1,2,3,4,5]"
   ]
  },
  {
   "cell_type": "code",
   "execution_count": 36,
   "id": "21d85ffa-4e81-4f1e-af22-335beabd285f",
   "metadata": {},
   "outputs": [],
   "source": [
    "def test(n):\n",
    "    l=[]\n",
    "    for i in n:\n",
    "        i=i*i\n",
    "        l.append(i)\n",
    "    return l\n"
   ]
  },
  {
   "cell_type": "code",
   "execution_count": 37,
   "id": "01b7e43e-e5d8-43da-bed8-f5b69c7ca931",
   "metadata": {},
   "outputs": [
    {
     "data": {
      "text/plain": [
       "[1, 4, 9, 16, 25]"
      ]
     },
     "execution_count": 37,
     "metadata": {},
     "output_type": "execute_result"
    }
   ],
   "source": [
    "test(x)"
   ]
  },
  {
   "cell_type": "code",
   "execution_count": 43,
   "id": "46ecfe18-5a12-4b7c-a94a-efd2975b17ac",
   "metadata": {},
   "outputs": [],
   "source": [
    "def sqr(x):\n",
    "    return x*x"
   ]
  },
  {
   "cell_type": "code",
   "execution_count": 44,
   "id": "0fba354a-1eca-42d4-9ac7-089096732021",
   "metadata": {},
   "outputs": [
    {
     "data": {
      "text/plain": [
       "[1, 4, 9, 16, 25]"
      ]
     },
     "execution_count": 44,
     "metadata": {},
     "output_type": "execute_result"
    }
   ],
   "source": [
    "list(map(sqr,l))"
   ]
  },
  {
   "cell_type": "code",
   "execution_count": 48,
   "id": "6098528c-aed2-4cbf-bc9f-efb076c8b0b0",
   "metadata": {},
   "outputs": [
    {
     "data": {
      "text/plain": [
       "[1, 4, 9, 16, 25]"
      ]
     },
     "execution_count": 48,
     "metadata": {},
     "output_type": "execute_result"
    }
   ],
   "source": [
    "list(map(lambda x : x**2 , l))"
   ]
  },
  {
   "cell_type": "code",
   "execution_count": 49,
   "id": "0657a162-f596-445f-8048-3b2d4bead099",
   "metadata": {},
   "outputs": [],
   "source": [
    "a=[1,2,3,4,5]"
   ]
  },
  {
   "cell_type": "code",
   "execution_count": 50,
   "id": "a1576814-548c-4f30-9c40-c972be29d649",
   "metadata": {},
   "outputs": [
    {
     "data": {
      "text/plain": [
       "[11, 12, 13, 14, 15]"
      ]
     },
     "execution_count": 50,
     "metadata": {},
     "output_type": "execute_result"
    }
   ],
   "source": [
    "list(map(lambda x  : x+10,a ))"
   ]
  },
  {
   "cell_type": "code",
   "execution_count": 51,
   "id": "0dbce516-325b-4d46-a90c-831831e99721",
   "metadata": {},
   "outputs": [
    {
     "data": {
      "text/plain": [
       "['[1, 2, 3, 4, 5]',\n",
       " '[1, 2, 3, 4, 5]',\n",
       " '[1, 2, 3, 4, 5]',\n",
       " '[1, 2, 3, 4, 5]',\n",
       " '[1, 2, 3, 4, 5]']"
      ]
     },
     "execution_count": 51,
     "metadata": {},
     "output_type": "execute_result"
    }
   ],
   "source": [
    "list(map(lambda x  : str(a),a ))"
   ]
  },
  {
   "cell_type": "code",
   "execution_count": 52,
   "id": "88b8b96d-5f9a-4ed8-8343-846d6307bb0d",
   "metadata": {},
   "outputs": [],
   "source": [
    "l1=[1,2,3,4,5]\n",
    "l2=[6,7,8,9,10]"
   ]
  },
  {
   "cell_type": "code",
   "execution_count": 53,
   "id": "7188cab3-c3f3-4083-97bc-4c5a4cc569c2",
   "metadata": {},
   "outputs": [
    {
     "data": {
      "text/plain": [
       "[7, 9, 11, 13, 15]"
      ]
     },
     "execution_count": 53,
     "metadata": {},
     "output_type": "execute_result"
    }
   ],
   "source": [
    "list(map(lambda x,y : x+y,l1,l2))"
   ]
  },
  {
   "cell_type": "code",
   "execution_count": null,
   "id": "ff5af8fa-4d1c-4c01-ad0b-70eca0b6787a",
   "metadata": {},
   "outputs": [],
   "source": [
    "s=\"pw_skiils\""
   ]
  },
  {
   "cell_type": "code",
   "execution_count": 54,
   "id": "51919f4a-2d68-46a4-8058-14ad8874c1d1",
   "metadata": {},
   "outputs": [
    {
     "data": {
      "text/plain": [
       "['P', 'W', '_', 'S', 'K', 'I', 'L', 'L', 'S']"
      ]
     },
     "execution_count": 54,
     "metadata": {},
     "output_type": "execute_result"
    }
   ],
   "source": [
    "list(map(lambda x : x.upper(),s))"
   ]
  },
  {
   "cell_type": "code",
   "execution_count": 55,
   "id": "3e092cee-9b18-4e58-b70d-4c20f7ab0c66",
   "metadata": {},
   "outputs": [],
   "source": [
    "from functools import reduce"
   ]
  },
  {
   "cell_type": "code",
   "execution_count": 56,
   "id": "be53204d-4110-41f1-9b6e-737dddadbde2",
   "metadata": {},
   "outputs": [],
   "source": [
    "l=[1,2,3,4,5,4]"
   ]
  },
  {
   "cell_type": "code",
   "execution_count": 57,
   "id": "7a98ec81-3382-4e23-bdd4-2c88ceb19013",
   "metadata": {},
   "outputs": [
    {
     "data": {
      "text/plain": [
       "19"
      ]
     },
     "execution_count": 57,
     "metadata": {},
     "output_type": "execute_result"
    }
   ],
   "source": [
    "reduce(lambda x,y : x+y , l)"
   ]
  },
  {
   "cell_type": "code",
   "execution_count": 59,
   "id": "dc1e76fe-46c0-415b-bc9f-3f757cf18fdd",
   "metadata": {},
   "outputs": [
    {
     "data": {
      "text/plain": [
       "5"
      ]
     },
     "execution_count": 59,
     "metadata": {},
     "output_type": "execute_result"
    }
   ],
   "source": [
    "reduce(lambda x,y : x if x>y else y , l)"
   ]
  },
  {
   "cell_type": "code",
   "execution_count": 60,
   "id": "1ce5cf41-6dcc-4fe3-8d28-4fa794109f33",
   "metadata": {},
   "outputs": [
    {
     "data": {
      "text/plain": [
       "[1, 2, 3, 4, 5, 4]"
      ]
     },
     "execution_count": 60,
     "metadata": {},
     "output_type": "execute_result"
    }
   ],
   "source": [
    "l"
   ]
  },
  {
   "cell_type": "code",
   "execution_count": 64,
   "id": "2fdeadf6-7a0a-451b-a469-b4a9081156ef",
   "metadata": {},
   "outputs": [
    {
     "data": {
      "text/plain": [
       "[2, 4, 4]"
      ]
     },
     "execution_count": 64,
     "metadata": {},
     "output_type": "execute_result"
    }
   ],
   "source": [
    "list(filter(lambda x : x%2==0  ,l))"
   ]
  },
  {
   "cell_type": "code",
   "execution_count": 65,
   "id": "b2e441dc-2957-486d-9a91-a62ff48c53db",
   "metadata": {},
   "outputs": [
    {
     "data": {
      "text/plain": [
       "[1, 3, 5]"
      ]
     },
     "execution_count": 65,
     "metadata": {},
     "output_type": "execute_result"
    }
   ],
   "source": [
    "list(filter(lambda x : x%2!=0  ,l))"
   ]
  },
  {
   "cell_type": "code",
   "execution_count": 67,
   "id": "90308f89-6f30-44d7-bad0-946fa2bc34a9",
   "metadata": {},
   "outputs": [],
   "source": [
    "l1=[-2,-3,-4,2,3,4]"
   ]
  },
  {
   "cell_type": "code",
   "execution_count": 68,
   "id": "bdf34a23-5a73-4f8f-9e0f-9544034a311b",
   "metadata": {},
   "outputs": [
    {
     "data": {
      "text/plain": [
       "[-2, -3, -4]"
      ]
     },
     "execution_count": 68,
     "metadata": {},
     "output_type": "execute_result"
    }
   ],
   "source": [
    "list(filter(lambda x : x<0,l1))"
   ]
  },
  {
   "cell_type": "code",
   "execution_count": 69,
   "id": "ee0d5f0b-1fff-4777-8c51-34eb0fae8158",
   "metadata": {},
   "outputs": [
    {
     "data": {
      "text/plain": [
       "[2, 3, 4]"
      ]
     },
     "execution_count": 69,
     "metadata": {},
     "output_type": "execute_result"
    }
   ],
   "source": [
    "list(filter(lambda x : x>0,l1))"
   ]
  },
  {
   "cell_type": "code",
   "execution_count": 72,
   "id": "a0c53a61-7727-4bda-bd2a-33970c354636",
   "metadata": {},
   "outputs": [],
   "source": [
    "l2=[\"sudh\",\"pwskiils\",\"mahima\",\"banglore\",\"abc\",\"cute\",\"mute\"]"
   ]
  },
  {
   "cell_type": "code",
   "execution_count": 73,
   "id": "fcd4080c-c09c-4d03-8a8c-9a3779b4e542",
   "metadata": {},
   "outputs": [
    {
     "data": {
      "text/plain": [
       "['sudh', 'abc', 'cute', 'mute']"
      ]
     },
     "execution_count": 73,
     "metadata": {},
     "output_type": "execute_result"
    }
   ],
   "source": [
    "list(filter(lambda x : len(x)<6,l2))"
   ]
  },
  {
   "cell_type": "code",
   "execution_count": 74,
   "id": "b25f4612-9ed4-4b37-bb42-63a5f16b060d",
   "metadata": {},
   "outputs": [
    {
     "data": {
      "text/plain": [
       "['pwskiils', 'banglore']"
      ]
     },
     "execution_count": 74,
     "metadata": {},
     "output_type": "execute_result"
    }
   ],
   "source": [
    "list(filter(lambda x : len(x)>6,l2))"
   ]
  },
  {
   "cell_type": "code",
   "execution_count": null,
   "id": "49dbd777-3c3f-4b8b-82a4-98ce88da1b9a",
   "metadata": {},
   "outputs": [],
   "source": []
  },
  {
   "cell_type": "code",
   "execution_count": null,
   "id": "f52d5572-de18-4be8-8480-b9eea5f8e062",
   "metadata": {},
   "outputs": [],
   "source": []
  },
  {
   "cell_type": "code",
   "execution_count": null,
   "id": "f0d69e9a-6e4a-48f8-a601-5427fe640186",
   "metadata": {},
   "outputs": [],
   "source": []
  },
  {
   "cell_type": "code",
   "execution_count": null,
   "id": "72ae89d2-9ed6-4d35-928c-8771141edbfa",
   "metadata": {},
   "outputs": [],
   "source": []
  },
  {
   "cell_type": "code",
   "execution_count": null,
   "id": "a208a38e-8779-4961-81cc-a90294100bd9",
   "metadata": {},
   "outputs": [],
   "source": []
  },
  {
   "cell_type": "code",
   "execution_count": null,
   "id": "5385cfc9-166c-40f5-b743-d9c47d17fbc9",
   "metadata": {},
   "outputs": [],
   "source": []
  },
  {
   "cell_type": "code",
   "execution_count": null,
   "id": "3ed93d3c-a253-4d26-b8a4-c76a66a046f7",
   "metadata": {},
   "outputs": [],
   "source": []
  },
  {
   "cell_type": "code",
   "execution_count": null,
   "id": "bc598d9f-abe9-48aa-9c91-fff5e50ff290",
   "metadata": {},
   "outputs": [],
   "source": []
  },
  {
   "cell_type": "code",
   "execution_count": null,
   "id": "9ed95294-7982-4bc3-a6ec-07a58f29afe0",
   "metadata": {},
   "outputs": [],
   "source": []
  },
  {
   "cell_type": "code",
   "execution_count": null,
   "id": "e25be502-e4ed-47fe-80e4-62e44eae56af",
   "metadata": {},
   "outputs": [],
   "source": []
  },
  {
   "cell_type": "code",
   "execution_count": null,
   "id": "c59cd5bd-845a-4029-b948-d80ae45b5a72",
   "metadata": {},
   "outputs": [],
   "source": []
  },
  {
   "cell_type": "code",
   "execution_count": null,
   "id": "82a39f6f-cb90-4ff3-bf09-f1442ebe3001",
   "metadata": {},
   "outputs": [],
   "source": []
  },
  {
   "cell_type": "code",
   "execution_count": null,
   "id": "782ec516-25ea-4a66-bf55-714e6d011011",
   "metadata": {},
   "outputs": [],
   "source": []
  }
 ],
 "metadata": {
  "kernelspec": {
   "display_name": "Python 3 (ipykernel)",
   "language": "python",
   "name": "python3"
  },
  "language_info": {
   "codemirror_mode": {
    "name": "ipython",
    "version": 3
   },
   "file_extension": ".py",
   "mimetype": "text/x-python",
   "name": "python",
   "nbconvert_exporter": "python",
   "pygments_lexer": "ipython3",
   "version": "3.10.8"
  }
 },
 "nbformat": 4,
 "nbformat_minor": 5
}
