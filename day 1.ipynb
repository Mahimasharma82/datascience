{
 "cells": [
  {
   "cell_type": "code",
   "execution_count": 3,
   "id": "0694ad61-06ad-43aa-8a91-92caa15a42e8",
   "metadata": {},
   "outputs": [
    {
     "name": "stdout",
     "output_type": "stream",
     "text": [
      "mahima\n"
     ]
    }
   ],
   "source": [
    "name =\"mahima\"\n",
    "print(name)"
   ]
  },
  {
   "cell_type": "code",
   "execution_count": 4,
   "id": "fedb27d2-c2d6-47cb-b2bc-f86edd4510d8",
   "metadata": {},
   "outputs": [
    {
     "name": "stdout",
     "output_type": "stream",
     "text": [
      "10\n"
     ]
    }
   ],
   "source": [
    "a=10\n",
    "print(a)"
   ]
  },
  {
   "cell_type": "code",
   "execution_count": 5,
   "id": "5c358c97-5457-46af-a9db-e50107d44443",
   "metadata": {},
   "outputs": [
    {
     "name": "stdout",
     "output_type": "stream",
     "text": [
      "10.2\n"
     ]
    }
   ],
   "source": [
    "deci_no=10.20\n",
    "print(deci_no)"
   ]
  },
  {
   "cell_type": "code",
   "execution_count": 7,
   "id": "1833eb34-ea57-4d76-83f6-4854b032f17a",
   "metadata": {},
   "outputs": [
    {
     "data": {
      "text/plain": [
       "int"
      ]
     },
     "execution_count": 7,
     "metadata": {},
     "output_type": "execute_result"
    }
   ],
   "source": [
    "type(a)\n"
   ]
  },
  {
   "cell_type": "code",
   "execution_count": 9,
   "id": "8d2b1590-6d3c-4733-9328-de38189bd843",
   "metadata": {},
   "outputs": [
    {
     "data": {
      "text/plain": [
       "str"
      ]
     },
     "execution_count": 9,
     "metadata": {},
     "output_type": "execute_result"
    }
   ],
   "source": [
    "type(name)\n"
   ]
  },
  {
   "cell_type": "code",
   "execution_count": 8,
   "id": "7ab8908b-d077-459f-bc48-7dd188e38191",
   "metadata": {},
   "outputs": [
    {
     "data": {
      "text/plain": [
       "float"
      ]
     },
     "execution_count": 8,
     "metadata": {},
     "output_type": "execute_result"
    }
   ],
   "source": [
    "type(deci_no)"
   ]
  },
  {
   "cell_type": "code",
   "execution_count": 12,
   "id": "209ddd68-f80e-4a3e-abcd-28d8cf3083aa",
   "metadata": {},
   "outputs": [
    {
     "name": "stdout",
     "output_type": "stream",
     "text": [
      "svce\n",
      "cdgi\n"
     ]
    }
   ],
   "source": [
    "company= \"svce\"\n",
    "Company= 'cdgi'\n",
    "print(company)\n",
    "print(Company)\n",
    "\\\\strings are case sensitive"
   ]
  },
  {
   "cell_type": "markdown",
   "id": "09aa573b-84bf-483a-b68f-c5ad06bcc78e",
   "metadata": {},
   "source": [
    "logic gates\n"
   ]
  },
  {
   "cell_type": "code",
   "execution_count": 14,
   "id": "f162d8ad-ab48-42e6-a1ac-5d1a8e994396",
   "metadata": {},
   "outputs": [
    {
     "data": {
      "text/plain": [
       "'true'"
      ]
     },
     "execution_count": 14,
     "metadata": {},
     "output_type": "execute_result"
    }
   ],
   "source": [
    "\"true\""
   ]
  },
  {
   "cell_type": "code",
   "execution_count": 15,
   "id": "8f665182-ef53-4f5c-af6c-1b3a887acf22",
   "metadata": {},
   "outputs": [
    {
     "data": {
      "text/plain": [
       "'false'"
      ]
     },
     "execution_count": 15,
     "metadata": {},
     "output_type": "execute_result"
    }
   ],
   "source": [
    "\"false\""
   ]
  },
  {
   "cell_type": "code",
   "execution_count": 17,
   "id": "95d36ee7-87f2-4b18-aba3-169cae7f89a8",
   "metadata": {},
   "outputs": [
    {
     "data": {
      "text/plain": [
       "'false'"
      ]
     },
     "execution_count": 17,
     "metadata": {},
     "output_type": "execute_result"
    }
   ],
   "source": [
    "'true' and 'false'"
   ]
  },
  {
   "cell_type": "code",
   "execution_count": 18,
   "id": "20ce11f3-f3da-49e0-8b69-6ff2d5389994",
   "metadata": {},
   "outputs": [
    {
     "data": {
      "text/plain": [
       "'true'"
      ]
     },
     "execution_count": 18,
     "metadata": {},
     "output_type": "execute_result"
    }
   ],
   "source": [
    "'true' and 'true'"
   ]
  },
  {
   "cell_type": "code",
   "execution_count": 19,
   "id": "380e4377-c40d-43c2-8acf-4eef8108a7f9",
   "metadata": {},
   "outputs": [
    {
     "data": {
      "text/plain": [
       "'true'"
      ]
     },
     "execution_count": 19,
     "metadata": {},
     "output_type": "execute_result"
    }
   ],
   "source": [
    "'true' or 'false'"
   ]
  },
  {
   "cell_type": "code",
   "execution_count": 20,
   "id": "c8ea2747-48b9-4d4f-b3bb-33f72c1de1bc",
   "metadata": {},
   "outputs": [
    {
     "data": {
      "text/plain": [
       "'false'"
      ]
     },
     "execution_count": 20,
     "metadata": {},
     "output_type": "execute_result"
    }
   ],
   "source": [
    "'false' or' false'"
   ]
  },
  {
   "cell_type": "code",
   "execution_count": 21,
   "id": "73228e91-c51f-4724-a273-18571fde8600",
   "metadata": {},
   "outputs": [
    {
     "data": {
      "text/plain": [
       "False"
      ]
     },
     "execution_count": 21,
     "metadata": {},
     "output_type": "execute_result"
    }
   ],
   "source": [
    "not 'true'"
   ]
  },
  {
   "cell_type": "markdown",
   "id": "3a42aef3-33be-4f2b-83cb-d3c5635c3558",
   "metadata": {},
   "source": [
    "typecasting"
   ]
  },
  {
   "cell_type": "code",
   "execution_count": 24,
   "id": "be33a26e-7467-4f5d-b963-5b57301b178b",
   "metadata": {},
   "outputs": [
    {
     "ename": "ValueError",
     "evalue": "invalid literal for int() with base 10: 'cutie'",
     "output_type": "error",
     "traceback": [
      "\u001b[0;31m---------------------------------------------------------------------------\u001b[0m",
      "\u001b[0;31mValueError\u001b[0m                                Traceback (most recent call last)",
      "Cell \u001b[0;32mIn[24], line 1\u001b[0m\n\u001b[0;32m----> 1\u001b[0m \u001b[38;5;28;43mint\u001b[39;49m\u001b[43m(\u001b[49m\u001b[38;5;124;43m\"\u001b[39;49m\u001b[38;5;124;43mcutie\u001b[39;49m\u001b[38;5;124;43m\"\u001b[39;49m\u001b[43m)\u001b[49m \u001b[38;5;241m+\u001b[39m \u001b[38;5;28mint\u001b[39m(\u001b[38;5;124m\"\u001b[39m\u001b[38;5;124mcutie\u001b[39m\u001b[38;5;124m\"\u001b[39m)\n",
      "\u001b[0;31mValueError\u001b[0m: invalid literal for int() with base 10: 'cutie'"
     ]
    }
   ],
   "source": [
    "int(\"cutie\") + int(\"cutie\")"
   ]
  },
  {
   "cell_type": "markdown",
   "id": "5258b1b3-257b-40f0-8751-0f88f049cc70",
   "metadata": {},
   "source": [
    "print statement"
   ]
  },
  {
   "cell_type": "code",
   "execution_count": 25,
   "id": "1ab6cc1f-6c61-4255-a613-047d7f8a0a70",
   "metadata": {},
   "outputs": [
    {
     "name": "stdout",
     "output_type": "stream",
     "text": [
      "my age is 19\n"
     ]
    }
   ],
   "source": [
    "age=19\n",
    "print(\"my age is\",age)"
   ]
  },
  {
   "cell_type": "code",
   "execution_count": 26,
   "id": "45be4611-928f-4719-85a1-b7f2d59ab0cf",
   "metadata": {},
   "outputs": [
    {
     "name": "stdout",
     "output_type": "stream",
     "text": [
      "my age is 19\n"
     ]
    }
   ],
   "source": [
    "print(f\"my age is {age}\")"
   ]
  },
  {
   "cell_type": "code",
   "execution_count": 27,
   "id": "bb25d024-fd6f-4c8c-a381-01b6ef7c9a90",
   "metadata": {},
   "outputs": [
    {
     "name": "stdout",
     "output_type": "stream",
     "text": [
      "my name is mahima and my age is 19\n"
     ]
    }
   ],
   "source": [
    "name=\"mahima\"\n",
    "print(\"my name is {} and my age is {}\".format(name,age))"
   ]
  },
  {
   "cell_type": "code",
   "execution_count": null,
   "id": "fee7293b-5f77-4b32-9b1c-5014c7ba1d26",
   "metadata": {},
   "outputs": [],
   "source": []
  },
  {
   "cell_type": "code",
   "execution_count": 27,
   "id": "890e14dc-1235-4c80-8b5f-48c7a733438c",
   "metadata": {},
   "outputs": [
    {
     "name": "stdout",
     "output_type": "stream",
     "text": [
      "my name is mahima and my age is 19\n"
     ]
    }
   ],
   "source": [
    "name=\"mahima\"\n",
    "print(\"my name is {} and my age is {}\".format(name,age))"
   ]
  },
  {
   "cell_type": "code",
   "execution_count": 28,
   "id": "26cc38c8-37ca-41ac-8d92-98f38e3551c3",
   "metadata": {},
   "outputs": [
    {
     "name": "stdout",
     "output_type": "stream",
     "text": [
      "my name is mahima and my age is 19\n"
     ]
    }
   ],
   "source": [
    "\n",
    "print(\"my name is {firstname} and my age is {firstage}\".format(firstname=name,firstage=age))"
   ]
  },
  {
   "cell_type": "code",
   "execution_count": null,
   "id": "4dedd18f-7125-4dc5-b5de-0a3153d0326b",
   "metadata": {},
   "outputs": [],
   "source": [
    "name=\"mahima\"\n",
    "age=19\n",
    "degree=\"btech\"\n"
   ]
  },
  {
   "cell_type": "code",
   "execution_count": 32,
   "id": "24255d34-b646-443d-8a27-ab02fbe6a436",
   "metadata": {},
   "outputs": [
    {
     "ename": "NameError",
     "evalue": "name 'degree' is not defined",
     "output_type": "error",
     "traceback": [
      "\u001b[0;31m---------------------------------------------------------------------------\u001b[0m",
      "\u001b[0;31mNameError\u001b[0m                                 Traceback (most recent call last)",
      "Cell \u001b[0;32mIn[32], line 1\u001b[0m\n\u001b[0;32m----> 1\u001b[0m \u001b[38;5;28mprint\u001b[39m(\u001b[38;5;124mf\u001b[39m\u001b[38;5;124m\"\u001b[39m\u001b[38;5;124mmy age is \u001b[39m\u001b[38;5;132;01m{\u001b[39;00mage\u001b[38;5;132;01m}\u001b[39;00m\u001b[38;5;124m and i am doing degree in \u001b[39m\u001b[38;5;132;01m{\u001b[39;00m\u001b[43mdegree\u001b[49m\u001b[38;5;132;01m}\u001b[39;00m\u001b[38;5;124m  with the name of \u001b[39m\u001b[38;5;132;01m{\u001b[39;00mname\u001b[38;5;132;01m}\u001b[39;00m\u001b[38;5;124m\"\u001b[39m)\n",
      "\u001b[0;31mNameError\u001b[0m: name 'degree' is not defined"
     ]
    }
   ],
   "source": [
    "print(f\"my age is {age} and i am doing degree in {degree}  with the name of {name}\")"
   ]
  },
  {
   "cell_type": "code",
   "execution_count": 33,
   "id": "33e9c229-0aa7-4ee7-8422-9a8d5dac31aa",
   "metadata": {},
   "outputs": [
    {
     "name": "stdout",
     "output_type": "stream",
     "text": [
      "b.tech\n"
     ]
    }
   ],
   "source": [
    "degree=\"b.tech\"\n",
    "print(degree)"
   ]
  },
  {
   "cell_type": "code",
   "execution_count": 34,
   "id": "0fd72c97-2d2e-4e77-9148-d3779caf8c86",
   "metadata": {},
   "outputs": [
    {
     "name": "stdout",
     "output_type": "stream",
     "text": [
      "my degree in running is b.tech\n"
     ]
    }
   ],
   "source": [
    "print(f\"my degree in running is {degree}\")"
   ]
  },
  {
   "cell_type": "markdown",
   "id": "8fd423a5-4c9a-4900-85a4-e08ef8b95e10",
   "metadata": {},
   "source": [
    "how to take inputsss"
   ]
  },
  {
   "cell_type": "code",
   "execution_count": null,
   "id": "b81fc4dd-567b-4bab-817f-51e6907f7756",
   "metadata": {},
   "outputs": [],
   "source": [
    "name=input(\"enter your name\")"
   ]
  },
  {
   "cell_type": "code",
   "execution_count": null,
   "id": "e3c5ae84-1f49-4f9a-b6e7-78d9d509eadd",
   "metadata": {},
   "outputs": [],
   "source": [
    "name=input(\"enter your name\")\n",
    "age=input(\"my age is\")\n",
    "degree=input(\"enter your degree\")\n",
    "college=input(\"enter your college name\")\n",
    "print(f\"your name is {name} and you are {age} years old you have completed {degree} from {college}\")"
   ]
  },
  {
   "cell_type": "markdown",
   "id": "c532e898-3e69-4625-96aa-c8c7932e5f8a",
   "metadata": {},
   "source": [
    "control flow"
   ]
  },
  {
   "cell_type": "markdown",
   "id": "b1b0686d-0d40-465b-bca5-f6961c4132e1",
   "metadata": {},
   "source": [
    "if-else"
   ]
  },
  {
   "cell_type": "code",
   "execution_count": null,
   "id": "3ff0dfc0-835a-4f01-aadf-4317b75efc71",
   "metadata": {},
   "outputs": [],
   "source": [
    "age=int(input(\"enter your age\"))\n",
    "if age>=18:{\n",
    "print(\"you are eligible to vote\")}\n",
    "else:{\n",
    "print(\"you are a child\")\n",
    "}"
   ]
  },
  {
   "cell_type": "code",
   "execution_count": null,
   "id": "071e806f-71b7-45d0-ad50-9bd77ed4f816",
   "metadata": {},
   "outputs": [],
   "source": [
    "age=int(input(\"enter your age\"))\n",
    "if age>=18:{\n",
    "print(\"you are eligible to vote\")}\n",
    "else:{\n",
    "print(\"you are a child\")\n",
    "}"
   ]
  },
  {
   "cell_type": "code",
   "execution_count": null,
   "id": "20d3327c-782b-4811-92ff-9e8464c3a8ce",
   "metadata": {},
   "outputs": [],
   "source": [
    "age=int(input(\"enter your age\"))\n",
    "if age>=18 and age<=45:\n",
    "    print(\"your a young blood\")\n",
    "    else:{ \n",
    "        print(\"we will call you later\")\n",
    "    }"
   ]
  },
  {
   "cell_type": "code",
   "execution_count": null,
   "id": "702e185d-2797-4d5e-9d5d-414d20189a6c",
   "metadata": {},
   "outputs": [],
   "source": []
  },
  {
   "cell_type": "code",
   "execution_count": null,
   "id": "79394cdf-7ee9-4af4-b037-3b9286046e63",
   "metadata": {},
   "outputs": [],
   "source": []
  },
  {
   "cell_type": "code",
   "execution_count": null,
   "id": "31783514-01cf-49b8-a5cc-382566285146",
   "metadata": {},
   "outputs": [],
   "source": []
  },
  {
   "cell_type": "code",
   "execution_count": null,
   "id": "d4cdff26-874a-4574-8917-8946ec09364d",
   "metadata": {},
   "outputs": [],
   "source": []
  },
  {
   "cell_type": "code",
   "execution_count": null,
   "id": "81780778-65be-4261-8f81-2f6b16f229fa",
   "metadata": {},
   "outputs": [],
   "source": []
  },
  {
   "cell_type": "code",
   "execution_count": null,
   "id": "c482ebf7-9568-409e-b004-ca43597124c8",
   "metadata": {},
   "outputs": [],
   "source": []
  },
  {
   "cell_type": "code",
   "execution_count": null,
   "id": "53a774be-465c-49b5-ad1d-d07515fc09b2",
   "metadata": {},
   "outputs": [],
   "source": []
  },
  {
   "cell_type": "code",
   "execution_count": null,
   "id": "52ed9f90-3b1d-44b1-9313-d411c1a2eca2",
   "metadata": {},
   "outputs": [],
   "source": []
  },
  {
   "cell_type": "code",
   "execution_count": null,
   "id": "b9224ab5-18de-410d-818e-0c257694e2bd",
   "metadata": {},
   "outputs": [],
   "source": []
  },
  {
   "cell_type": "code",
   "execution_count": null,
   "id": "8a6ba6e0-9d9a-4dc4-91d8-0455217be29b",
   "metadata": {},
   "outputs": [],
   "source": []
  },
  {
   "cell_type": "code",
   "execution_count": null,
   "id": "32cb0df9-e532-4416-b0fa-e085a55c97be",
   "metadata": {},
   "outputs": [],
   "source": []
  },
  {
   "cell_type": "code",
   "execution_count": null,
   "id": "14fbe632-d1f8-4169-a6b3-fe11ff3f845b",
   "metadata": {},
   "outputs": [],
   "source": []
  },
  {
   "cell_type": "code",
   "execution_count": null,
   "id": "67ca48db-f902-4c21-ba4b-3b372055f698",
   "metadata": {},
   "outputs": [],
   "source": []
  },
  {
   "cell_type": "code",
   "execution_count": null,
   "id": "d6efc2d4-a323-4024-9c7e-fd2e3005f733",
   "metadata": {},
   "outputs": [],
   "source": []
  },
  {
   "cell_type": "code",
   "execution_count": null,
   "id": "8b42f40a-da45-4209-acc4-e61cca102d89",
   "metadata": {},
   "outputs": [],
   "source": []
  },
  {
   "cell_type": "code",
   "execution_count": null,
   "id": "f30a5aef-5f90-47bd-86aa-320f3f70d905",
   "metadata": {},
   "outputs": [],
   "source": [
    "deci_no=09.5"
   ]
  }
 ],
 "metadata": {
  "kernelspec": {
   "display_name": "Python 3 (ipykernel)",
   "language": "python",
   "name": "python3"
  },
  "language_info": {
   "codemirror_mode": {
    "name": "ipython",
    "version": 3
   },
   "file_extension": ".py",
   "mimetype": "text/x-python",
   "name": "python",
   "nbconvert_exporter": "python",
   "pygments_lexer": "ipython3",
   "version": "3.10.8"
  }
 },
 "nbformat": 4,
 "nbformat_minor": 5
}
