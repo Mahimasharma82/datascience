{
 "cells": [
  {
   "cell_type": "markdown",
   "id": "b108e374-e439-47b1-8930-9a7ea309a241",
   "metadata": {},
   "source": [
    "## function generater"
   ]
  },
  {
   "cell_type": "code",
   "execution_count": 1,
   "id": "ca81ffad-c19c-4167-b2fd-595891f7ec6e",
   "metadata": {},
   "outputs": [
    {
     "data": {
      "text/plain": [
       "range(1, 10)"
      ]
     },
     "execution_count": 1,
     "metadata": {},
     "output_type": "execute_result"
    }
   ],
   "source": [
    "range(1,10)"
   ]
  },
  {
   "cell_type": "code",
   "execution_count": 4,
   "id": "bcf77ccd-0144-4502-a260-5b948d7dcea9",
   "metadata": {},
   "outputs": [
    {
     "name": "stdout",
     "output_type": "stream",
     "text": [
      "1\n",
      "2\n",
      "3\n",
      "4\n",
      "5\n",
      "6\n",
      "7\n",
      "8\n",
      "9\n"
     ]
    }
   ],
   "source": [
    "for i in range(1,10):\n",
    "    print(i)"
   ]
  },
  {
   "cell_type": "code",
   "execution_count": 17,
   "id": "69528684-448a-4b03-a039-f9faa549bd25",
   "metadata": {},
   "outputs": [],
   "source": [
    "def test1(a):\n",
    "    n=[]\n",
    "    for i in a:\n",
    "        if type(i)==int:\n",
    "            n.append(i)\n",
    "    return n"
   ]
  },
  {
   "cell_type": "code",
   "execution_count": 15,
   "id": "aa6cdb90-7a26-4d9e-ad45-49f06a79fea2",
   "metadata": {},
   "outputs": [],
   "source": [
    "l=[\"cutiee\",1,2,3,\"pw_skills\"]"
   ]
  },
  {
   "cell_type": "code",
   "execution_count": 18,
   "id": "be93b458-af52-44b1-a9f4-cfbf617af5d9",
   "metadata": {},
   "outputs": [
    {
     "data": {
      "text/plain": [
       "[1, 2, 3]"
      ]
     },
     "execution_count": 18,
     "metadata": {},
     "output_type": "execute_result"
    }
   ],
   "source": [
    "test1(l)"
   ]
  },
  {
   "cell_type": "raw",
   "id": "bb1bef3b-0c3d-4cfd-91c2-dd01f76b9c02",
   "metadata": {},
   "source": [
    "fibonaaci :\n",
    "          0 , 1  , 1  , 2 , 3 , 5 , 8 , 13 , 21 , 34"
   ]
  },
  {
   "cell_type": "code",
   "execution_count": 21,
   "id": "f0960f8f-3eaf-4725-9910-891dd9dc9d14",
   "metadata": {},
   "outputs": [],
   "source": [
    "def test_fib(n):\n",
    "    a,b=0,1\n",
    "    for i in range(n):\n",
    "        yield a\n",
    "        a,b=b , a+b\n",
    "        "
   ]
  },
  {
   "cell_type": "code",
   "execution_count": 22,
   "id": "e0af996c-da84-465e-a62f-fa6189df2a79",
   "metadata": {},
   "outputs": [
    {
     "data": {
      "text/plain": [
       "<generator object test_fib at 0x7fa5fc4bbd10>"
      ]
     },
     "execution_count": 22,
     "metadata": {},
     "output_type": "execute_result"
    }
   ],
   "source": [
    "test_fib(10)"
   ]
  },
  {
   "cell_type": "code",
   "execution_count": 23,
   "id": "b2d00e7f-d6c6-44e3-aa54-6662e763192f",
   "metadata": {},
   "outputs": [
    {
     "name": "stdout",
     "output_type": "stream",
     "text": [
      "0\n",
      "1\n",
      "1\n",
      "2\n",
      "3\n",
      "5\n",
      "8\n",
      "13\n",
      "21\n",
      "34\n"
     ]
    }
   ],
   "source": [
    "for i in test_fib(10):\n",
    "    print(i)"
   ]
  },
  {
   "cell_type": "code",
   "execution_count": null,
   "id": "aa8303ce-72ed-42e3-96fc-7c5add2d1f44",
   "metadata": {},
   "outputs": [],
   "source": []
  },
  {
   "cell_type": "code",
   "execution_count": null,
   "id": "76fafcb0-fc7f-4872-bdd9-afacf58020dd",
   "metadata": {},
   "outputs": [],
   "source": []
  },
  {
   "cell_type": "code",
   "execution_count": null,
   "id": "57241c7d-e632-426a-84c0-b49879d5db1d",
   "metadata": {},
   "outputs": [],
   "source": []
  },
  {
   "cell_type": "code",
   "execution_count": null,
   "id": "e85df6c6-2c85-45c3-a72b-c9088989202c",
   "metadata": {},
   "outputs": [],
   "source": []
  },
  {
   "cell_type": "code",
   "execution_count": null,
   "id": "76a1cd70-a63b-4280-90a5-54176daf2178",
   "metadata": {},
   "outputs": [],
   "source": []
  },
  {
   "cell_type": "code",
   "execution_count": null,
   "id": "91440882-98a0-4981-8549-3cb27dfde92b",
   "metadata": {},
   "outputs": [],
   "source": []
  },
  {
   "cell_type": "code",
   "execution_count": null,
   "id": "8fa93fff-2226-47bc-aa7f-cdbb477be72a",
   "metadata": {},
   "outputs": [],
   "source": []
  }
 ],
 "metadata": {
  "kernelspec": {
   "display_name": "Python 3 (ipykernel)",
   "language": "python",
   "name": "python3"
  },
  "language_info": {
   "codemirror_mode": {
    "name": "ipython",
    "version": 3
   },
   "file_extension": ".py",
   "mimetype": "text/x-python",
   "name": "python",
   "nbconvert_exporter": "python",
   "pygments_lexer": "ipython3",
   "version": "3.10.8"
  }
 },
 "nbformat": 4,
 "nbformat_minor": 5
}
