{
 "cells": [
  {
   "cell_type": "code",
   "execution_count": 1,
   "id": "28ac6eb3-d5c4-40d7-80d1-0624adfb40db",
   "metadata": {},
   "outputs": [
    {
     "name": "stdout",
     "output_type": "stream",
     "text": [
      "hello\n"
     ]
    }
   ],
   "source": [
    "print(\"hello\")"
   ]
  },
  {
   "cell_type": "code",
   "execution_count": 2,
   "id": "f9c4a737-4950-47a7-a952-f5862f9bf8ed",
   "metadata": {},
   "outputs": [],
   "source": [
    "list=[1,2,3,4]"
   ]
  },
  {
   "cell_type": "code",
   "execution_count": 3,
   "id": "2623d4c3-e63d-40d3-ad42-003d64bef293",
   "metadata": {},
   "outputs": [
    {
     "data": {
      "text/plain": [
       "list"
      ]
     },
     "execution_count": 3,
     "metadata": {},
     "output_type": "execute_result"
    }
   ],
   "source": [
    "type(list)"
   ]
  },
  {
   "cell_type": "code",
   "execution_count": 4,
   "id": "6018ea83-827c-4ad5-a158-dabd7a71fd48",
   "metadata": {},
   "outputs": [
    {
     "data": {
      "text/plain": [
       "4"
      ]
     },
     "execution_count": 4,
     "metadata": {},
     "output_type": "execute_result"
    }
   ],
   "source": [
    "len(list)"
   ]
  },
  {
   "cell_type": "raw",
   "id": "1846c3a9-dcb2-4d57-a3cd-40ad24ab37d4",
   "metadata": {},
   "source": [
    "they all are in built functions"
   ]
  },
  {
   "cell_type": "code",
   "execution_count": 5,
   "id": "ab6b8ba3-edd1-4b25-9700-8dec267f0d7c",
   "metadata": {},
   "outputs": [
    {
     "ename": "SyntaxError",
     "evalue": "incomplete input (2690612609.py, line 2)",
     "output_type": "error",
     "traceback": [
      "\u001b[0;36m  Cell \u001b[0;32mIn[5], line 2\u001b[0;36m\u001b[0m\n\u001b[0;31m    \u001b[0m\n\u001b[0m    ^\u001b[0m\n\u001b[0;31mSyntaxError\u001b[0m\u001b[0;31m:\u001b[0m incomplete input\n"
     ]
    }
   ],
   "source": [
    "def test():\n",
    "    "
   ]
  },
  {
   "cell_type": "markdown",
   "id": "7e5588dd-7245-42d8-83c1-e95deed9dde8",
   "metadata": {},
   "source": [
    "error why\n",
    "because we do not give any instructions to it and if we don't want to have this type of error then just type pass."
   ]
  },
  {
   "cell_type": "code",
   "execution_count": 6,
   "id": "3d4f9bdd-792f-4bcf-a6db-4ca5d1dd0d09",
   "metadata": {},
   "outputs": [],
   "source": [
    "def test():\n",
    "    pass"
   ]
  },
  {
   "cell_type": "code",
   "execution_count": 11,
   "id": "0cccb8ae-58ce-4120-8dc9-87f759aaf1bf",
   "metadata": {},
   "outputs": [],
   "source": [
    "def test1():\n",
    "    print(\"this is my first function\")"
   ]
  },
  {
   "cell_type": "code",
   "execution_count": 12,
   "id": "4e6b7dc6-c6ab-41b2-be20-9cb945d7544d",
   "metadata": {},
   "outputs": [
    {
     "name": "stdout",
     "output_type": "stream",
     "text": [
      "this is my first function\n"
     ]
    }
   ],
   "source": [
    "test1()"
   ]
  },
  {
   "cell_type": "code",
   "execution_count": 23,
   "id": "89376ed0-d68f-4e9e-81e8-40ee8d96ac07",
   "metadata": {},
   "outputs": [],
   "source": [
    "def test2():\n",
    "    return \"this is my first function with return \""
   ]
  },
  {
   "cell_type": "code",
   "execution_count": 24,
   "id": "36c9b4be-bc7b-4c3e-82c8-c697b102cbdf",
   "metadata": {},
   "outputs": [
    {
     "data": {
      "text/plain": [
       "'this is my first function with return '"
      ]
     },
     "execution_count": 24,
     "metadata": {},
     "output_type": "execute_result"
    }
   ],
   "source": [
    "test2()"
   ]
  },
  {
   "cell_type": "code",
   "execution_count": 25,
   "id": "2b729f3e-2453-46bb-85ad-3491642f44bd",
   "metadata": {},
   "outputs": [
    {
     "data": {
      "text/plain": [
       "'this is my first function with return mahima'"
      ]
     },
     "execution_count": 25,
     "metadata": {},
     "output_type": "execute_result"
    }
   ],
   "source": [
    "test2() + \"mahima\""
   ]
  },
  {
   "cell_type": "code",
   "execution_count": 26,
   "id": "fff708dc-8551-4ab2-814a-3d6f05780ff9",
   "metadata": {},
   "outputs": [],
   "source": [
    "def test3():\n",
    "    return 1,4,\"cutie\",\"34.56\""
   ]
  },
  {
   "cell_type": "code",
   "execution_count": 27,
   "id": "372d0739-a754-4931-9092-5e0ef9118600",
   "metadata": {},
   "outputs": [
    {
     "data": {
      "text/plain": [
       "(1, 4, 'cutie', '34.56')"
      ]
     },
     "execution_count": 27,
     "metadata": {},
     "output_type": "execute_result"
    }
   ],
   "source": [
    "test3()"
   ]
  },
  {
   "cell_type": "code",
   "execution_count": 28,
   "id": "8f9d411c-97e6-4ccc-918c-3fe85ba1d60d",
   "metadata": {},
   "outputs": [],
   "source": [
    "a=(1,2,3,4)"
   ]
  },
  {
   "cell_type": "code",
   "execution_count": 29,
   "id": "3c8bfd7c-80db-4414-ad80-8f276324a328",
   "metadata": {},
   "outputs": [
    {
     "data": {
      "text/plain": [
       "(1, 2, 3, 4)"
      ]
     },
     "execution_count": 29,
     "metadata": {},
     "output_type": "execute_result"
    }
   ],
   "source": [
    "a"
   ]
  },
  {
   "cell_type": "code",
   "execution_count": 36,
   "id": "d2c95136-8838-4f33-b70c-8244b14f4325",
   "metadata": {},
   "outputs": [],
   "source": [
    "a,b,c,d,e=1,2,34.56,\"pw skills\",True"
   ]
  },
  {
   "cell_type": "code",
   "execution_count": 31,
   "id": "42925afb-da81-43de-a498-2dcdbbf84e5d",
   "metadata": {},
   "outputs": [
    {
     "data": {
      "text/plain": [
       "1"
      ]
     },
     "execution_count": 31,
     "metadata": {},
     "output_type": "execute_result"
    }
   ],
   "source": [
    "a\n"
   ]
  },
  {
   "cell_type": "code",
   "execution_count": 32,
   "id": "f20ff65d-4829-4724-8766-128c1f01b761",
   "metadata": {},
   "outputs": [
    {
     "data": {
      "text/plain": [
       "2"
      ]
     },
     "execution_count": 32,
     "metadata": {},
     "output_type": "execute_result"
    }
   ],
   "source": [
    "b"
   ]
  },
  {
   "cell_type": "code",
   "execution_count": 33,
   "id": "4b6c2fb5-bf3f-4f33-837b-2edfa15e424f",
   "metadata": {},
   "outputs": [
    {
     "data": {
      "text/plain": [
       "34.56"
      ]
     },
     "execution_count": 33,
     "metadata": {},
     "output_type": "execute_result"
    }
   ],
   "source": [
    "c"
   ]
  },
  {
   "cell_type": "code",
   "execution_count": 34,
   "id": "24d1ec81-e3a0-41e7-b30c-5c4e516ce19a",
   "metadata": {},
   "outputs": [
    {
     "data": {
      "text/plain": [
       "'pw skills'"
      ]
     },
     "execution_count": 34,
     "metadata": {},
     "output_type": "execute_result"
    }
   ],
   "source": [
    "d"
   ]
  },
  {
   "cell_type": "code",
   "execution_count": 37,
   "id": "ecdda858-d6b9-4a52-a757-90e619d98b55",
   "metadata": {},
   "outputs": [
    {
     "data": {
      "text/plain": [
       "True"
      ]
     },
     "execution_count": 37,
     "metadata": {},
     "output_type": "execute_result"
    }
   ],
   "source": [
    "e"
   ]
  },
  {
   "cell_type": "code",
   "execution_count": 38,
   "id": "f6a12484-c13e-4b64-b790-b327af96feda",
   "metadata": {},
   "outputs": [
    {
     "data": {
      "text/plain": [
       "(1, 4, 'cutie', '34.56')"
      ]
     },
     "execution_count": 38,
     "metadata": {},
     "output_type": "execute_result"
    }
   ],
   "source": [
    "test3()"
   ]
  },
  {
   "cell_type": "code",
   "execution_count": 39,
   "id": "8c4fd47d-a50b-4b2e-ae06-698ac5412c16",
   "metadata": {},
   "outputs": [
    {
     "data": {
      "text/plain": [
       "'cutie'"
      ]
     },
     "execution_count": 39,
     "metadata": {},
     "output_type": "execute_result"
    }
   ],
   "source": [
    "test3()[2]"
   ]
  },
  {
   "cell_type": "code",
   "execution_count": 40,
   "id": "12dc106f-9546-4037-9eed-09f0797cc057",
   "metadata": {},
   "outputs": [
    {
     "data": {
      "text/plain": [
       "1"
      ]
     },
     "execution_count": 40,
     "metadata": {},
     "output_type": "execute_result"
    }
   ],
   "source": [
    "test3()[0]"
   ]
  },
  {
   "cell_type": "code",
   "execution_count": 41,
   "id": "946d0158-c326-4875-a6af-67ed239faca6",
   "metadata": {},
   "outputs": [],
   "source": [
    "a,b,c,d=test3()"
   ]
  },
  {
   "cell_type": "code",
   "execution_count": 42,
   "id": "b867bc66-53f5-4dda-8fb9-1303143bb3fe",
   "metadata": {},
   "outputs": [
    {
     "data": {
      "text/plain": [
       "1"
      ]
     },
     "execution_count": 42,
     "metadata": {},
     "output_type": "execute_result"
    }
   ],
   "source": [
    "a"
   ]
  },
  {
   "cell_type": "code",
   "execution_count": 43,
   "id": "1b375c72-de9d-461c-ac02-88fcce38bb98",
   "metadata": {},
   "outputs": [
    {
     "data": {
      "text/plain": [
       "'34.56'"
      ]
     },
     "execution_count": 43,
     "metadata": {},
     "output_type": "execute_result"
    }
   ],
   "source": [
    "d"
   ]
  },
  {
   "cell_type": "code",
   "execution_count": 46,
   "id": "155331b3-a3fe-488b-97b3-769f664403cf",
   "metadata": {},
   "outputs": [],
   "source": [
    "def test4():\n",
    "    a=3*4+5\n",
    "    return a"
   ]
  },
  {
   "cell_type": "code",
   "execution_count": 47,
   "id": "609fa075-0bc9-4a13-b6a2-5f195cf97d16",
   "metadata": {},
   "outputs": [
    {
     "data": {
      "text/plain": [
       "17"
      ]
     },
     "execution_count": 47,
     "metadata": {},
     "output_type": "execute_result"
    }
   ],
   "source": [
    "test4()"
   ]
  },
  {
   "cell_type": "code",
   "execution_count": 48,
   "id": "7323c508-844d-462a-ac71-8f2a163dbd3e",
   "metadata": {},
   "outputs": [
    {
     "data": {
      "text/plain": [
       "int"
      ]
     },
     "execution_count": 48,
     "metadata": {},
     "output_type": "execute_result"
    }
   ],
   "source": [
    "type(test4())"
   ]
  },
  {
   "cell_type": "code",
   "execution_count": 50,
   "id": "bfa2766f-a960-4f27-8d63-87e6ae35c8f9",
   "metadata": {},
   "outputs": [],
   "source": [
    "def test5(a,b):\n",
    "    c=a+b\n",
    "    return c"
   ]
  },
  {
   "cell_type": "code",
   "execution_count": 52,
   "id": "8ca6844c-f41e-4bf1-91e7-1f994775e9e1",
   "metadata": {},
   "outputs": [
    {
     "data": {
      "text/plain": [
       "4"
      ]
     },
     "execution_count": 52,
     "metadata": {},
     "output_type": "execute_result"
    }
   ],
   "source": [
    "test5(1,3)"
   ]
  },
  {
   "cell_type": "code",
   "execution_count": 53,
   "id": "6d6b7929-0e1b-49d2-9919-678f9950f0eb",
   "metadata": {},
   "outputs": [
    {
     "data": {
      "text/plain": [
       "'mahimasharma'"
      ]
     },
     "execution_count": 53,
     "metadata": {},
     "output_type": "execute_result"
    }
   ],
   "source": [
    "test5(\"mahima\",\"sharma\")"
   ]
  },
  {
   "cell_type": "code",
   "execution_count": 55,
   "id": "375ef37a-7faa-4b31-813e-1f71e70936f8",
   "metadata": {},
   "outputs": [
    {
     "data": {
      "text/plain": [
       "[1, 2, 3, 4, 5, 6, 7, 8]"
      ]
     },
     "execution_count": 55,
     "metadata": {},
     "output_type": "execute_result"
    }
   ],
   "source": [
    "test5( [1,2,3,4] , [5,6,7,8] )"
   ]
  },
  {
   "cell_type": "code",
   "execution_count": 56,
   "id": "98108ac5-f59a-4b14-aa82-ff2bf970b2c2",
   "metadata": {},
   "outputs": [
    {
     "data": {
      "text/plain": [
       "'mahicutie'"
      ]
     },
     "execution_count": 56,
     "metadata": {},
     "output_type": "execute_result"
    }
   ],
   "source": [
    "test5(b=\"cutie\",a=\"mahi\")"
   ]
  },
  {
   "cell_type": "code",
   "execution_count": 66,
   "id": "7330c818-1862-4ef4-b2b1-788a79770e09",
   "metadata": {},
   "outputs": [],
   "source": [
    "l =[7,8,9,\"mahi\",\"pwskiils\",[1,2,3,4],3,4]"
   ]
  },
  {
   "cell_type": "code",
   "execution_count": 58,
   "id": "1937fdae-8a2e-490e-bc22-a6f8e9df2d39",
   "metadata": {},
   "outputs": [],
   "source": [
    "#create a function which will take list as a input and give me a final list with all the numeric value"
   ]
  },
  {
   "cell_type": "code",
   "execution_count": 64,
   "id": "811352b8-07ce-430e-b471-9e56b5e84b7a",
   "metadata": {},
   "outputs": [],
   "source": [
    "def test6(a):\n",
    "    n=[]\n",
    "    for i in a:\n",
    "        if type(i)==int or type(i)==float:\n",
    "            n.append(i)\n",
    "    return n\n",
    "    "
   ]
  },
  {
   "cell_type": "code",
   "execution_count": 67,
   "id": "fa959b7c-4401-42ca-9896-999cc3795658",
   "metadata": {},
   "outputs": [
    {
     "data": {
      "text/plain": [
       "[7, 8, 9, 3, 4]"
      ]
     },
     "execution_count": 67,
     "metadata": {},
     "output_type": "execute_result"
    }
   ],
   "source": [
    "test6(l)"
   ]
  },
  {
   "cell_type": "code",
   "execution_count": 68,
   "id": "616a83a7-dfe5-4d23-8f52-0661dadeb215",
   "metadata": {},
   "outputs": [
    {
     "data": {
      "text/plain": [
       "[7, 8, 9, 'mahi', 'pwskiils', [1, 2, 3, 4], 3, 4]"
      ]
     },
     "execution_count": 68,
     "metadata": {},
     "output_type": "execute_result"
    }
   ],
   "source": [
    "l"
   ]
  },
  {
   "cell_type": "code",
   "execution_count": 89,
   "id": "6a8374eb-3a12-40aa-a0b5-016399c9a9ce",
   "metadata": {},
   "outputs": [
    {
     "ename": "IndentationError",
     "evalue": "unindent does not match any outer indentation level (<tokenize>, line 8)",
     "output_type": "error",
     "traceback": [
      "\u001b[0;36m  File \u001b[0;32m<tokenize>:8\u001b[0;36m\u001b[0m\n\u001b[0;31m    else:\u001b[0m\n\u001b[0m    ^\u001b[0m\n\u001b[0;31mIndentationError\u001b[0m\u001b[0;31m:\u001b[0m unindent does not match any outer indentation level\n"
     ]
    }
   ],
   "source": [
    "def test7(a):\n",
    "     n=[]\n",
    "         for i in a:\n",
    "                 if type(i)==list:\n",
    "                        for j in i:\n",
    "                             if type(j)==int or type(j)==float:\n",
    "                                     n.append(j)\n",
    "                    else:\n",
    "                    if type(i)==int or type(i)==float:\n",
    "                        n.append(i)\n",
    "    return n"
   ]
  },
  {
   "cell_type": "code",
   "execution_count": 4,
   "id": "2a37134d-8eeb-454f-a243-48cee5b8a27b",
   "metadata": {},
   "outputs": [],
   "source": [
    "def test(a,b,c,d,e):\n",
    "    pass\n"
   ]
  },
  {
   "cell_type": "code",
   "execution_count": 5,
   "id": "b4c3130e-bff1-44a7-9ebf-c397fa88d280",
   "metadata": {},
   "outputs": [],
   "source": [
    "test(1,2,3,4,5)"
   ]
  },
  {
   "cell_type": "code",
   "execution_count": 6,
   "id": "3c70e6e9-abf8-401b-9c7b-dd69a95c995d",
   "metadata": {},
   "outputs": [
    {
     "ename": "TypeError",
     "evalue": "test() takes 5 positional arguments but 7 were given",
     "output_type": "error",
     "traceback": [
      "\u001b[0;31m---------------------------------------------------------------------------\u001b[0m",
      "\u001b[0;31mTypeError\u001b[0m                                 Traceback (most recent call last)",
      "Cell \u001b[0;32mIn[6], line 1\u001b[0m\n\u001b[0;32m----> 1\u001b[0m \u001b[43mtest\u001b[49m\u001b[43m(\u001b[49m\u001b[38;5;241;43m1\u001b[39;49m\u001b[43m,\u001b[49m\u001b[38;5;241;43m2\u001b[39;49m\u001b[43m,\u001b[49m\u001b[38;5;241;43m3\u001b[39;49m\u001b[43m,\u001b[49m\u001b[38;5;241;43m4\u001b[39;49m\u001b[43m,\u001b[49m\u001b[38;5;241;43m5\u001b[39;49m\u001b[43m,\u001b[49m\u001b[38;5;241;43m6\u001b[39;49m\u001b[43m,\u001b[49m\u001b[38;5;241;43m7\u001b[39;49m\u001b[43m)\u001b[49m\n",
      "\u001b[0;31mTypeError\u001b[0m: test() takes 5 positional arguments but 7 were given"
     ]
    }
   ],
   "source": [
    "test(1,2,3,4,5,6,7)"
   ]
  },
  {
   "cell_type": "code",
   "execution_count": 7,
   "id": "a3a8834c-0ac4-4b6c-9fb6-bdf750831542",
   "metadata": {},
   "outputs": [],
   "source": [
    "def test1(*args):\n",
    "    return args\n",
    "    "
   ]
  },
  {
   "cell_type": "code",
   "execution_count": 9,
   "id": "59064f9e-9bee-474b-92bb-311fa06b5725",
   "metadata": {},
   "outputs": [
    {
     "data": {
      "text/plain": [
       "(1, 3, 4, 5, 6, 6)"
      ]
     },
     "execution_count": 9,
     "metadata": {},
     "output_type": "execute_result"
    }
   ],
   "source": [
    "test1(1,3,4,5,6,6)"
   ]
  },
  {
   "cell_type": "code",
   "execution_count": 10,
   "id": "b7ec60cc-4a43-44bc-a851-08c1e773c8a8",
   "metadata": {},
   "outputs": [
    {
     "data": {
      "text/plain": [
       "('mahima', [1, 2, 3, 4], 99, 99.56)"
      ]
     },
     "execution_count": 10,
     "metadata": {},
     "output_type": "execute_result"
    }
   ],
   "source": [
    "test1(\"mahima\",[1,2,3,4],99,99.56)"
   ]
  },
  {
   "cell_type": "code",
   "execution_count": 12,
   "id": "241378d4-9013-47d2-b396-c00019dff239",
   "metadata": {},
   "outputs": [],
   "source": [
    "def test1(*cutie):\n",
    "    return cutie"
   ]
  },
  {
   "cell_type": "code",
   "execution_count": 13,
   "id": "029a203e-3dac-47db-bb9d-de50d317d718",
   "metadata": {},
   "outputs": [
    {
     "data": {
      "text/plain": [
       "('mahima', [1, 2, 3, 4], 99, 99.56)"
      ]
     },
     "execution_count": 13,
     "metadata": {},
     "output_type": "execute_result"
    }
   ],
   "source": [
    "test1(\"mahima\",[1,2,3,4],99,99.56)"
   ]
  },
  {
   "cell_type": "code",
   "execution_count": 16,
   "id": "dea56488-0a81-41d8-8bd3-8d48624229f7",
   "metadata": {},
   "outputs": [],
   "source": [
    "def test3(* args,a):\n",
    "    return args,a\n",
    "    \n",
    "\n"
   ]
  },
  {
   "cell_type": "code",
   "execution_count": 17,
   "id": "8e15c1fe-4d7f-4b86-a494-54b6f42032de",
   "metadata": {},
   "outputs": [
    {
     "ename": "TypeError",
     "evalue": "test3() missing 1 required keyword-only argument: 'a'",
     "output_type": "error",
     "traceback": [
      "\u001b[0;31m---------------------------------------------------------------------------\u001b[0m",
      "\u001b[0;31mTypeError\u001b[0m                                 Traceback (most recent call last)",
      "Cell \u001b[0;32mIn[17], line 1\u001b[0m\n\u001b[0;32m----> 1\u001b[0m \u001b[43mtest3\u001b[49m\u001b[43m(\u001b[49m\u001b[38;5;124;43m\"\u001b[39;49m\u001b[38;5;124;43mmahima\u001b[39;49m\u001b[38;5;124;43m\"\u001b[39;49m\u001b[43m,\u001b[49m\u001b[43m[\u001b[49m\u001b[38;5;241;43m1\u001b[39;49m\u001b[43m,\u001b[49m\u001b[38;5;241;43m2\u001b[39;49m\u001b[43m,\u001b[49m\u001b[38;5;241;43m3\u001b[39;49m\u001b[43m,\u001b[49m\u001b[38;5;241;43m4\u001b[39;49m\u001b[43m]\u001b[49m\u001b[43m,\u001b[49m\u001b[38;5;241;43m99\u001b[39;49m\u001b[43m,\u001b[49m\u001b[38;5;241;43m99.56\u001b[39;49m\u001b[43m)\u001b[49m\n",
      "\u001b[0;31mTypeError\u001b[0m: test3() missing 1 required keyword-only argument: 'a'"
     ]
    }
   ],
   "source": [
    "test3(\"mahima\",[1,2,3,4],99,99.56)"
   ]
  },
  {
   "cell_type": "code",
   "execution_count": 18,
   "id": "c3a4f6f5-f5be-4b2b-994a-2131f3c0c40c",
   "metadata": {},
   "outputs": [
    {
     "data": {
      "text/plain": [
       "(('mahima', [1, 2, 3, 4], 99, 99.56), 'cutie')"
      ]
     },
     "execution_count": 18,
     "metadata": {},
     "output_type": "execute_result"
    }
   ],
   "source": [
    "test3(\"mahima\",[1,2,3,4],99,99.56,a=\"cutie\")"
   ]
  },
  {
   "cell_type": "code",
   "execution_count": 25,
   "id": "2b33cc19-e5d0-4d93-9bb2-8a24262332e2",
   "metadata": {},
   "outputs": [],
   "source": [
    "def test4(*args):\n",
    "    l=[]\n",
    "    for i in args:\n",
    "        if type(i)==list:\n",
    "            print(i)\n",
    "            "
   ]
  },
  {
   "cell_type": "code",
   "execution_count": 26,
   "id": "0b11ce18-692f-4b1f-84a3-4f9fced7edd8",
   "metadata": {},
   "outputs": [
    {
     "name": "stdout",
     "output_type": "stream",
     "text": [
      "[1, 2, 3, 4]\n"
     ]
    }
   ],
   "source": [
    "test4(\"mahima\",[1,2,3,4],99,99.56)"
   ]
  },
  {
   "cell_type": "code",
   "execution_count": 27,
   "id": "38fdc606-1387-456e-943e-0e77ec6c9375",
   "metadata": {},
   "outputs": [],
   "source": [
    "def test5(*args):\n",
    "    l=[]\n",
    "    for i in args:\n",
    "        if type(i)==list:\n",
    "            l.append(i)\n",
    "            return l"
   ]
  },
  {
   "cell_type": "code",
   "execution_count": 28,
   "id": "35f3733a-a179-4d37-9322-612b76ccbbba",
   "metadata": {},
   "outputs": [
    {
     "data": {
      "text/plain": [
       "[[1, 2, 3, 4]]"
      ]
     },
     "execution_count": 28,
     "metadata": {},
     "output_type": "execute_result"
    }
   ],
   "source": [
    "test5(\"mahima\",[1,2,3,4],99,99.56)"
   ]
  },
  {
   "cell_type": "code",
   "execution_count": 29,
   "id": "622ad969-de04-4eeb-a860-35e7710d86a8",
   "metadata": {},
   "outputs": [],
   "source": [
    "def test6(**kwargs):\n",
    "    return kwargs"
   ]
  },
  {
   "cell_type": "code",
   "execution_count": 30,
   "id": "266c80bb-e43a-42ac-bdc7-82be4c68b55d",
   "metadata": {},
   "outputs": [
    {
     "data": {
      "text/plain": [
       "{}"
      ]
     },
     "execution_count": 30,
     "metadata": {},
     "output_type": "execute_result"
    }
   ],
   "source": [
    "test6()"
   ]
  },
  {
   "cell_type": "code",
   "execution_count": 32,
   "id": "aff20209-81e7-43ce-8394-5c9e6820d293",
   "metadata": {},
   "outputs": [
    {
     "data": {
      "text/plain": [
       "dict"
      ]
     },
     "execution_count": 32,
     "metadata": {},
     "output_type": "execute_result"
    }
   ],
   "source": [
    "type(test6())"
   ]
  },
  {
   "cell_type": "code",
   "execution_count": 39,
   "id": "dff58184-9bf2-48ea-8acb-c0dc98415db7",
   "metadata": {},
   "outputs": [
    {
     "data": {
      "text/plain": [
       "{'a': 36, 'b': 45, 'c': (6, 7, 8), 'd': ['cutie', 'apesh']}"
      ]
     },
     "execution_count": 39,
     "metadata": {},
     "output_type": "execute_result"
    }
   ],
   "source": [
    "test6(TypeError                                 Traceback (most recent call last)\n",
    "Cell In[38], line 1\n",
    "----> 1 test6(1,2,3,b=\"mahima\")\n",
    "\n",
    "TypeError: test6() takes 0 positional arguments but 3 were given\n",
    "​)"
   ]
  },
  {
   "cell_type": "code",
   "execution_count": 45,
   "id": "c26938b7-e8dc-40c1-ad7d-84dce49f4e03",
   "metadata": {},
   "outputs": [],
   "source": [
    "def test7(**kwargs):\n",
    "    for i in kwargs.keys():\n",
    "        if type(kwargs[i])==list:\n",
    "            return i,kwargs[i]"
   ]
  },
  {
   "cell_type": "code",
   "execution_count": 46,
   "id": "527e531c-6f59-47c4-815d-4c057a6fa3d5",
   "metadata": {},
   "outputs": [
    {
     "data": {
      "text/plain": [
       "('b', [1, 3, 4])"
      ]
     },
     "execution_count": 46,
     "metadata": {},
     "output_type": "execute_result"
    }
   ],
   "source": [
    "test7(a=\"mahima\",b=[1,3,4],c=[\"mahima\"])"
   ]
  },
  {
   "cell_type": "code",
   "execution_count": 48,
   "id": "c2b66ced-d796-49a2-953e-f1704218d2c9",
   "metadata": {},
   "outputs": [],
   "source": [
    "def test8(*args,**kwargs):\n",
    "    return args,kwargs"
   ]
  },
  {
   "cell_type": "code",
   "execution_count": 50,
   "id": "fe465286-9c28-409b-aab4-d0ed37a6524a",
   "metadata": {},
   "outputs": [
    {
     "data": {
      "text/plain": [
       "((3, 4, 5), {'a': 'cutieee', 'b': ['donkey', 'pagal']})"
      ]
     },
     "execution_count": 50,
     "metadata": {},
     "output_type": "execute_result"
    }
   ],
   "source": [
    "test8(3,4,5,a=\"cutieee\",b=['donkey','pagal'])"
   ]
  },
  {
   "cell_type": "code",
   "execution_count": null,
   "id": "eb4dadd6-9ba0-4692-a73c-71cb540e5151",
   "metadata": {},
   "outputs": [],
   "source": []
  },
  {
   "cell_type": "code",
   "execution_count": null,
   "id": "b1e7768a-1adc-42ae-b45a-d3b93ae72b03",
   "metadata": {},
   "outputs": [],
   "source": []
  },
  {
   "cell_type": "code",
   "execution_count": null,
   "id": "0bd3c688-8e3b-4ec6-8cdc-b1ce0c5a9a14",
   "metadata": {},
   "outputs": [],
   "source": []
  },
  {
   "cell_type": "code",
   "execution_count": null,
   "id": "83458ecb-03d5-4c9b-a9c6-d3448a272d60",
   "metadata": {},
   "outputs": [],
   "source": []
  },
  {
   "cell_type": "code",
   "execution_count": null,
   "id": "c28ffa46-80a3-4551-8024-338d542dcb36",
   "metadata": {},
   "outputs": [],
   "source": []
  },
  {
   "cell_type": "code",
   "execution_count": null,
   "id": "279967eb-e7a6-43f5-8c75-f925ca82a8db",
   "metadata": {},
   "outputs": [],
   "source": []
  },
  {
   "cell_type": "code",
   "execution_count": null,
   "id": "d93538d3-b8f0-463b-9778-2646bea90ccc",
   "metadata": {},
   "outputs": [],
   "source": []
  },
  {
   "cell_type": "code",
   "execution_count": null,
   "id": "0ffd2bee-4c69-40df-a092-58bc466006fc",
   "metadata": {},
   "outputs": [],
   "source": []
  },
  {
   "cell_type": "code",
   "execution_count": null,
   "id": "b5c926e7-b62e-416e-ab07-40db51a83e07",
   "metadata": {},
   "outputs": [],
   "source": []
  },
  {
   "cell_type": "code",
   "execution_count": null,
   "id": "6320638c-5efd-46f3-8b20-f4fa0a26bd70",
   "metadata": {},
   "outputs": [],
   "source": []
  },
  {
   "cell_type": "code",
   "execution_count": null,
   "id": "c88c8a77-bb47-4c0d-8d5e-11d72603277b",
   "metadata": {},
   "outputs": [],
   "source": []
  },
  {
   "cell_type": "code",
   "execution_count": null,
   "id": "f6d1eab2-9853-4344-a178-f1a5034a58d9",
   "metadata": {},
   "outputs": [],
   "source": []
  },
  {
   "cell_type": "code",
   "execution_count": null,
   "id": "9d731587-db6d-405c-8400-bc822283a690",
   "metadata": {},
   "outputs": [],
   "source": []
  }
 ],
 "metadata": {
  "kernelspec": {
   "display_name": "Python 3 (ipykernel)",
   "language": "python",
   "name": "python3"
  },
  "language_info": {
   "codemirror_mode": {
    "name": "ipython",
    "version": 3
   },
   "file_extension": ".py",
   "mimetype": "text/x-python",
   "name": "python",
   "nbconvert_exporter": "python",
   "pygments_lexer": "ipython3",
   "version": "3.10.8"
  }
 },
 "nbformat": 4,
 "nbformat_minor": 5
}
