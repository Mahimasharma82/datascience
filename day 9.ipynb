{
 "cells": [
  {
   "cell_type": "markdown",
   "id": "926838fb-2ea0-46d7-8ee7-b24a6da475be",
   "metadata": {},
   "source": [
    "oops stand for object oriented programming"
   ]
  },
  {
   "cell_type": "code",
   "execution_count": 3,
   "id": "dfa66319-65c0-4fe6-9f5d-a67ad9a4898e",
   "metadata": {},
   "outputs": [],
   "source": [
    "a=1"
   ]
  },
  {
   "cell_type": "code",
   "execution_count": 4,
   "id": "63bca043-6189-48ec-95f9-6b500779a859",
   "metadata": {},
   "outputs": [
    {
     "name": "stdout",
     "output_type": "stream",
     "text": [
      "<class 'int'>\n"
     ]
    }
   ],
   "source": [
    "print(type(a))"
   ]
  },
  {
   "cell_type": "code",
   "execution_count": 5,
   "id": "c6dcf9e1-64d4-47cd-b512-5e4eb2ffae39",
   "metadata": {},
   "outputs": [],
   "source": [
    "str1=\"pwskills\""
   ]
  },
  {
   "cell_type": "code",
   "execution_count": 6,
   "id": "3499c648-dcc0-41e4-b359-5ef71625351c",
   "metadata": {},
   "outputs": [
    {
     "name": "stdout",
     "output_type": "stream",
     "text": [
      "<class 'str'>\n"
     ]
    }
   ],
   "source": [
    "print(type(str1))"
   ]
  },
  {
   "cell_type": "markdown",
   "id": "d213ca0c-4b6f-462b-90be-b44833a1c83e",
   "metadata": {},
   "source": [
    "what is this class?\n",
    "classification of real life "
   ]
  },
  {
   "cell_type": "code",
   "execution_count": 8,
   "id": "a760c7a4-c453-4557-ad2b-7a355c4fdcc7",
   "metadata": {},
   "outputs": [],
   "source": [
    "class test:\n",
    "    pass"
   ]
  },
  {
   "cell_type": "code",
   "execution_count": null,
   "id": "328df2a1-c3b1-4e73-bf5b-fe3253402066",
   "metadata": {},
   "outputs": [],
   "source": []
  },
  {
   "cell_type": "code",
   "execution_count": 10,
   "id": "6fdb40a0-55ab-4285-a2a9-f50726810fe1",
   "metadata": {},
   "outputs": [],
   "source": [
    "a=test()"
   ]
  },
  {
   "cell_type": "code",
   "execution_count": 11,
   "id": "c410cc52-53e5-436e-825f-92056022a9fe",
   "metadata": {},
   "outputs": [
    {
     "data": {
      "text/plain": [
       "__main__.test"
      ]
     },
     "execution_count": 11,
     "metadata": {},
     "output_type": "execute_result"
    }
   ],
   "source": [
    "type(a)\n",
    "##a is a object"
   ]
  },
  {
   "cell_type": "code",
   "execution_count": 12,
   "id": "84f2b345-2f31-4e3a-8d03-6aeac36ec1d9",
   "metadata": {},
   "outputs": [
    {
     "name": "stdout",
     "output_type": "stream",
     "text": [
      "<class '__main__.test'>\n"
     ]
    }
   ],
   "source": [
    "print(type(a))"
   ]
  },
  {
   "cell_type": "code",
   "execution_count": 17,
   "id": "1003cfa8-d53c-4b58-bdea-442f15f93dc5",
   "metadata": {},
   "outputs": [],
   "source": [
    "class pwskills:\n",
    "    def welcome_msg(self):\n",
    "        print(\"welcome to pw skills\")"
   ]
  },
  {
   "cell_type": "code",
   "execution_count": 19,
   "id": "a39b5848-fc24-4f98-a887-abd860494be0",
   "metadata": {},
   "outputs": [],
   "source": [
    "rohan = pwskills()"
   ]
  },
  {
   "cell_type": "code",
   "execution_count": 20,
   "id": "7dbc222a-5291-4392-8c98-ba7a1f5d00d1",
   "metadata": {},
   "outputs": [
    {
     "name": "stdout",
     "output_type": "stream",
     "text": [
      "welcome to pw skills\n"
     ]
    }
   ],
   "source": [
    "rohan.welcome_msg()"
   ]
  },
  {
   "cell_type": "code",
   "execution_count": 21,
   "id": "ed6a06ce-952f-4920-9326-076e2ce6b38d",
   "metadata": {},
   "outputs": [],
   "source": [
    "sohan =pwskills()"
   ]
  },
  {
   "cell_type": "code",
   "execution_count": 22,
   "id": "904c53ad-bb42-4103-9629-3203650d4675",
   "metadata": {},
   "outputs": [
    {
     "name": "stdout",
     "output_type": "stream",
     "text": [
      "welcome to pw skills\n"
     ]
    }
   ],
   "source": [
    "sohan.welcome_msg()"
   ]
  },
  {
   "cell_type": "code",
   "execution_count": 23,
   "id": "8c7161b2-6fe4-4a58-af54-9faf58e3ff47",
   "metadata": {},
   "outputs": [],
   "source": [
    "a=1"
   ]
  },
  {
   "cell_type": "code",
   "execution_count": 24,
   "id": "bcb6791d-a5ad-4e21-8820-cc6454afa00b",
   "metadata": {},
   "outputs": [],
   "source": [
    "b=2"
   ]
  },
  {
   "cell_type": "code",
   "execution_count": 25,
   "id": "255473a1-b773-4286-a702-43e68a6d97e6",
   "metadata": {},
   "outputs": [
    {
     "data": {
      "text/plain": [
       "1"
      ]
     },
     "execution_count": 25,
     "metadata": {},
     "output_type": "execute_result"
    }
   ],
   "source": [
    "a"
   ]
  },
  {
   "cell_type": "code",
   "execution_count": 26,
   "id": "1890e0a6-5371-404f-83da-337c31bdcca3",
   "metadata": {},
   "outputs": [
    {
     "data": {
      "text/plain": [
       "2"
      ]
     },
     "execution_count": 26,
     "metadata": {},
     "output_type": "execute_result"
    }
   ],
   "source": [
    "b"
   ]
  },
  {
   "cell_type": "code",
   "execution_count": 27,
   "id": "43ed4e29-21c3-4561-afcf-f9638c46d913",
   "metadata": {},
   "outputs": [],
   "source": [
    "class pwskills():\n",
    "    def __init__(self,phone_number,email_id,student_id):\n",
    "        self.phone_number = phone_number\n",
    "        self.email_id = email_id\n",
    "        self.student_id = student_id\n",
    "        \n",
    "    def  return_student_detail(self) :\n",
    "        return self.phone_number,self.email_id,self.student_id\n",
    "    "
   ]
  },
  {
   "cell_type": "code",
   "execution_count": 32,
   "id": "3ba3d4ac-930a-4d69-86cc-83ed59f9996a",
   "metadata": {},
   "outputs": [],
   "source": [
    "rohan=pwskills(982345678,\"rohan@email.com\",101)"
   ]
  },
  {
   "cell_type": "code",
   "execution_count": 34,
   "id": "337ac742-e8b5-4ac3-8652-4f7999657a88",
   "metadata": {},
   "outputs": [
    {
     "data": {
      "text/plain": [
       "982345678"
      ]
     },
     "execution_count": 34,
     "metadata": {},
     "output_type": "execute_result"
    }
   ],
   "source": [
    "rohan.phone_number"
   ]
  },
  {
   "cell_type": "code",
   "execution_count": 35,
   "id": "4d93dddb-9670-4068-9946-3742d3b61029",
   "metadata": {},
   "outputs": [
    {
     "data": {
      "text/plain": [
       "'rohan@email.com'"
      ]
     },
     "execution_count": 35,
     "metadata": {},
     "output_type": "execute_result"
    }
   ],
   "source": [
    "rohan.email_id"
   ]
  },
  {
   "cell_type": "code",
   "execution_count": 36,
   "id": "76565cd6-7c6d-4324-b8a7-57f9ef1fbbf1",
   "metadata": {},
   "outputs": [
    {
     "data": {
      "text/plain": [
       "101"
      ]
     },
     "execution_count": 36,
     "metadata": {},
     "output_type": "execute_result"
    }
   ],
   "source": [
    "rohan.student_id"
   ]
  },
  {
   "cell_type": "code",
   "execution_count": 40,
   "id": "b57657c3-95b5-4c93-a64c-bd4fa4ba7a1d",
   "metadata": {},
   "outputs": [
    {
     "data": {
      "text/plain": [
       "(982345678, 'rohan@email.com', 101)"
      ]
     },
     "execution_count": 40,
     "metadata": {},
     "output_type": "execute_result"
    }
   ],
   "source": [
    "rohan.return_student_detail()"
   ]
  },
  {
   "cell_type": "code",
   "execution_count": 39,
   "id": "3c7d79ef-02be-44bf-8af7-5675b058a879",
   "metadata": {},
   "outputs": [],
   "source": [
    "sohan=pwskills(568392203,\"so0han@gmail.com\",203)"
   ]
  },
  {
   "cell_type": "code",
   "execution_count": 41,
   "id": "0af46e20-22f7-4c00-90e3-1acb63e8840c",
   "metadata": {},
   "outputs": [
    {
     "data": {
      "text/plain": [
       "(568392203, 'so0han@gmail.com', 203)"
      ]
     },
     "execution_count": 41,
     "metadata": {},
     "output_type": "execute_result"
    }
   ],
   "source": [
    "sohan.return_student_detail()"
   ]
  },
  {
   "cell_type": "code",
   "execution_count": 3,
   "id": "6ee684c4-965f-450e-8809-940e3c97d6ed",
   "metadata": {},
   "outputs": [],
   "source": [
    "class pwskills2():\n",
    "    def __init__(cutie,phone_number,email_id,student_id):\n",
    "        cutie.phone_number = phone_number\n",
    "        cutie.email_id = email_id\n",
    "        cutie.student_id = student_id\n",
    "        \n",
    "    def  return_student_detail(cutie) :\n",
    "        return cutie.phone_number,cutie.email_id,cutie.student_id\n",
    "    "
   ]
  },
  {
   "cell_type": "code",
   "execution_count": 4,
   "id": "7f7b675f-37ba-48fc-8bea-7a262a041be6",
   "metadata": {},
   "outputs": [],
   "source": [
    "mohan=pwskills2(568392203,\"so0han@gmail.com\",203)"
   ]
  },
  {
   "cell_type": "code",
   "execution_count": 5,
   "id": "2e27ae47-aefc-4ce7-a7c4-97c75444212c",
   "metadata": {},
   "outputs": [
    {
     "data": {
      "text/plain": [
       "568392203"
      ]
     },
     "execution_count": 5,
     "metadata": {},
     "output_type": "execute_result"
    }
   ],
   "source": [
    "mohan.phone_number"
   ]
  },
  {
   "cell_type": "code",
   "execution_count": 6,
   "id": "0ea53b29-3f41-4c60-887c-d59084e2ad99",
   "metadata": {},
   "outputs": [
    {
     "data": {
      "text/plain": [
       "'so0han@gmail.com'"
      ]
     },
     "execution_count": 6,
     "metadata": {},
     "output_type": "execute_result"
    }
   ],
   "source": [
    "mohan.email_id"
   ]
  },
  {
   "cell_type": "code",
   "execution_count": 55,
   "id": "1897dff5-558a-4d3c-86a7-288c773d8c8d",
   "metadata": {},
   "outputs": [
    {
     "data": {
      "text/plain": [
       "203"
      ]
     },
     "execution_count": 55,
     "metadata": {},
     "output_type": "execute_result"
    }
   ],
   "source": [
    "mohan.student_id"
   ]
  },
  {
   "cell_type": "code",
   "execution_count": 7,
   "id": "efa3eac1-ae0d-4dc5-ada0-c8fc95ae7537",
   "metadata": {},
   "outputs": [
    {
     "data": {
      "text/plain": [
       "(568392203, 'so0han@gmail.com', 203)"
      ]
     },
     "execution_count": 7,
     "metadata": {},
     "output_type": "execute_result"
    }
   ],
   "source": [
    "mohan.return_student_detail()"
   ]
  },
  {
   "cell_type": "code",
   "execution_count": 15,
   "id": "4d155cd9-96c9-4f7b-92ec-a4e4ba61ed79",
   "metadata": {},
   "outputs": [],
   "source": [
    "class pwskills3():\n",
    "    def __init__(cutie,phone_number,email_id,student_id):\n",
    "        cutie.phone_number1 = phone_number\n",
    "        cutie.email_id = email_id\n",
    "        cutie.student_id = student_id\n",
    "        \n",
    "    def  return_student_detail(cutie) :\n",
    "        return cutie.phone_number,cutie.email_id,cutie.student_id\n",
    "    "
   ]
  },
  {
   "cell_type": "code",
   "execution_count": 16,
   "id": "59c3c3c6-d697-4e04-9ee6-9b945e2aa6fe",
   "metadata": {},
   "outputs": [],
   "source": [
    "rohan=pwskills3(243465,\"rohan@gmail.com\",345667)"
   ]
  },
  {
   "cell_type": "code",
   "execution_count": 17,
   "id": "7541b91e-177f-425f-aa41-05fbdcbcb718",
   "metadata": {},
   "outputs": [
    {
     "ename": "AttributeError",
     "evalue": "'pwskills3' object has no attribute 'phone_number'",
     "output_type": "error",
     "traceback": [
      "\u001b[0;31m---------------------------------------------------------------------------\u001b[0m",
      "\u001b[0;31mAttributeError\u001b[0m                            Traceback (most recent call last)",
      "Cell \u001b[0;32mIn[17], line 1\u001b[0m\n\u001b[0;32m----> 1\u001b[0m \u001b[43mrohan\u001b[49m\u001b[38;5;241;43m.\u001b[39;49m\u001b[43mphone_number\u001b[49m\n",
      "\u001b[0;31mAttributeError\u001b[0m: 'pwskills3' object has no attribute 'phone_number'"
     ]
    }
   ],
   "source": [
    "rohan.phone_number"
   ]
  },
  {
   "cell_type": "code",
   "execution_count": null,
   "id": "cf2709e2-dc21-4f93-b373-54731e5b8572",
   "metadata": {},
   "outputs": [],
   "source": []
  },
  {
   "cell_type": "markdown",
   "id": "3c78e89d-7688-4c54-bd56-b88b68bc3e4e",
   "metadata": {},
   "source": []
  }
 ],
 "metadata": {
  "kernelspec": {
   "display_name": "Python 3 (ipykernel)",
   "language": "python",
   "name": "python3"
  },
  "language_info": {
   "codemirror_mode": {
    "name": "ipython",
    "version": 3
   },
   "file_extension": ".py",
   "mimetype": "text/x-python",
   "name": "python",
   "nbconvert_exporter": "python",
   "pygments_lexer": "ipython3",
   "version": "3.10.8"
  }
 },
 "nbformat": 4,
 "nbformat_minor": 5
}
