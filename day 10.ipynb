{
 "cells": [
  {
   "cell_type": "markdown",
   "id": "41ade9f0-531c-49d5-8b11-4598b6f2b07b",
   "metadata": {},
   "source": [
    "# polymorphism"
   ]
  },
  {
   "cell_type": "code",
   "execution_count": 1,
   "id": "f33de6d4-e360-4112-ab19-df18eed1c305",
   "metadata": {},
   "outputs": [],
   "source": [
    "def test(a,b):\n",
    "    return a+b"
   ]
  },
  {
   "cell_type": "code",
   "execution_count": 2,
   "id": "23a41981-e1ad-428c-b64d-23c22e9f345b",
   "metadata": {},
   "outputs": [
    {
     "data": {
      "text/plain": [
       "12"
      ]
     },
     "execution_count": 2,
     "metadata": {},
     "output_type": "execute_result"
    }
   ],
   "source": [
    "test(4,8)"
   ]
  },
  {
   "cell_type": "code",
   "execution_count": 4,
   "id": "9643d651-b125-441e-b17f-4b8fea636bd6",
   "metadata": {},
   "outputs": [
    {
     "data": {
      "text/plain": [
       "'mahima  sharma'"
      ]
     },
     "execution_count": 4,
     "metadata": {},
     "output_type": "execute_result"
    }
   ],
   "source": [
    "test(\"mahima \",\"sharma\")"
   ]
  },
  {
   "cell_type": "code",
   "execution_count": 5,
   "id": "18d4c734-a482-43d6-9723-9bc936213f01",
   "metadata": {},
   "outputs": [
    {
     "data": {
      "text/plain": [
       "[1, 2, 3, 4, 5, 6, 7, 8, 9, 10]"
      ]
     },
     "execution_count": 5,
     "metadata": {},
     "output_type": "execute_result"
    }
   ],
   "source": [
    "test([1,2,3,4,5],[6,7,8,9,10])"
   ]
  },
  {
   "cell_type": "code",
   "execution_count": 2,
   "id": "dbc6d17a-b520-48a5-aed4-a2af24d67827",
   "metadata": {},
   "outputs": [],
   "source": [
    "class data_science:\n",
    "    def syllabus(self):\n",
    "        print(\"this is my module for data science\")\n"
   ]
  },
  {
   "cell_type": "code",
   "execution_count": 3,
   "id": "357b5f2d-7175-4915-93d5-e219abcda92f",
   "metadata": {},
   "outputs": [],
   "source": [
    "class web_dev:\n",
    "    def syllabus(self):\n",
    "        print(\"this is my module for web dev\")\n"
   ]
  },
  {
   "cell_type": "code",
   "execution_count": 10,
   "id": "b71c6b41-3e82-47c5-82d9-d571c71e96f9",
   "metadata": {},
   "outputs": [],
   "source": [
    "def class_parcer(class_obj):\n",
    "    for i in class_obj:\n",
    "        i.syllabus()"
   ]
  },
  {
   "cell_type": "code",
   "execution_count": 16,
   "id": "58128e89-262e-4b46-9d7e-bbd6c5c611b2",
   "metadata": {},
   "outputs": [],
   "source": [
    "obj_data_science=[data_science()]"
   ]
  },
  {
   "cell_type": "code",
   "execution_count": 19,
   "id": "8c458f2a-9107-4c86-b663-a1ae7dbcd549",
   "metadata": {},
   "outputs": [],
   "source": [
    "obj_web_dev=[web_dev()]"
   ]
  },
  {
   "cell_type": "code",
   "execution_count": 13,
   "id": "1ab59049-164a-4932-8106-950d34479b72",
   "metadata": {},
   "outputs": [],
   "source": [
    "class_objt=[obj_data_science,obj_web_dev]"
   ]
  },
  {
   "cell_type": "code",
   "execution_count": 14,
   "id": "a4c21ef9-b0fa-44a3-bd5a-063f85c8d661",
   "metadata": {},
   "outputs": [
    {
     "name": "stdout",
     "output_type": "stream",
     "text": [
      "this is my module for data science\n",
      "this is my module for web dev\n"
     ]
    }
   ],
   "source": [
    "class_parcer(class_objt)"
   ]
  },
  {
   "cell_type": "code",
   "execution_count": 17,
   "id": "09e7e3b1-07e0-4702-aee8-c796b3632e1e",
   "metadata": {},
   "outputs": [
    {
     "name": "stdout",
     "output_type": "stream",
     "text": [
      "this is my module for data science\n"
     ]
    }
   ],
   "source": [
    "class_parcer(obj_data_science)"
   ]
  },
  {
   "cell_type": "code",
   "execution_count": 20,
   "id": "2f5adf7c-96e5-402e-8f04-3afff8471908",
   "metadata": {},
   "outputs": [
    {
     "name": "stdout",
     "output_type": "stream",
     "text": [
      "this is my module for web dev\n"
     ]
    }
   ],
   "source": [
    "class_parcer(obj_web_dev)"
   ]
  },
  {
   "cell_type": "markdown",
   "id": "ac71c63f-9804-4354-9144-73892746092a",
   "metadata": {},
   "source": [
    "# ENCAPSULATION"
   ]
  },
  {
   "cell_type": "code",
   "execution_count": 23,
   "id": "d3f96e1c-8763-4215-b7b2-bf5de382a05d",
   "metadata": {},
   "outputs": [],
   "source": [
    "class test():\n",
    "    def __init__(self,a,b):\n",
    "        self.a=a\n",
    "        self.b=b"
   ]
  },
  {
   "cell_type": "code",
   "execution_count": 24,
   "id": "8e8cbbef-0810-4b5a-a468-eaac26c28d8c",
   "metadata": {},
   "outputs": [
    {
     "ename": "TypeError",
     "evalue": "test.__init__() missing 2 required positional arguments: 'a' and 'b'",
     "output_type": "error",
     "traceback": [
      "\u001b[0;31m---------------------------------------------------------------------------\u001b[0m",
      "\u001b[0;31mTypeError\u001b[0m                                 Traceback (most recent call last)",
      "Cell \u001b[0;32mIn[24], line 1\u001b[0m\n\u001b[0;32m----> 1\u001b[0m t\u001b[38;5;241m=\u001b[39m\u001b[43mtest\u001b[49m\u001b[43m(\u001b[49m\u001b[43m)\u001b[49m\n",
      "\u001b[0;31mTypeError\u001b[0m: test.__init__() missing 2 required positional arguments: 'a' and 'b'"
     ]
    }
   ],
   "source": [
    "t=test()"
   ]
  },
  {
   "cell_type": "code",
   "execution_count": 25,
   "id": "1fc85981-7132-4c3c-8135-cdefe8af7e1b",
   "metadata": {},
   "outputs": [],
   "source": [
    "t=test(23,76)"
   ]
  },
  {
   "cell_type": "code",
   "execution_count": 26,
   "id": "59ade44c-d7aa-4690-8759-d7a16e4f5484",
   "metadata": {},
   "outputs": [
    {
     "data": {
      "text/plain": [
       "23"
      ]
     },
     "execution_count": 26,
     "metadata": {},
     "output_type": "execute_result"
    }
   ],
   "source": [
    "t.a"
   ]
  },
  {
   "cell_type": "code",
   "execution_count": 27,
   "id": "935ee14a-2be6-45fe-9cee-5eb29364f711",
   "metadata": {},
   "outputs": [
    {
     "data": {
      "text/plain": [
       "76"
      ]
     },
     "execution_count": 27,
     "metadata": {},
     "output_type": "execute_result"
    }
   ],
   "source": [
    "t.b"
   ]
  },
  {
   "cell_type": "code",
   "execution_count": 28,
   "id": "506ceedb-119f-4498-a151-199ec5065ae1",
   "metadata": {},
   "outputs": [],
   "source": [
    "t.a=27"
   ]
  },
  {
   "cell_type": "code",
   "execution_count": 29,
   "id": "7d665098-636b-4c1b-a09d-bc40d062fb9b",
   "metadata": {},
   "outputs": [
    {
     "data": {
      "text/plain": [
       "27"
      ]
     },
     "execution_count": 29,
     "metadata": {},
     "output_type": "execute_result"
    }
   ],
   "source": [
    "t.a"
   ]
  },
  {
   "cell_type": "code",
   "execution_count": 41,
   "id": "ac77755b-19e1-4d92-a2e1-f15402edcfcd",
   "metadata": {},
   "outputs": [],
   "source": [
    "class car():\n",
    "    def __init__(self,model,year,brand,speed):\n",
    "        self.__model=model\n",
    "        self.__year=year\n",
    "        self.__brand=brand\n",
    "        self.__speed=0\n",
    "     \n",
    "    def set_speed(self,speed):\n",
    "        self.__speed = 0 if speed<0 else speed\n",
    "        "
   ]
  },
  {
   "cell_type": "code",
   "execution_count": 43,
   "id": "44a36b07-0b7a-4c58-aaaa-02a884dd2575",
   "metadata": {},
   "outputs": [],
   "source": [
    "obj_car.speed= -90"
   ]
  },
  {
   "cell_type": "code",
   "execution_count": 44,
   "id": "0f0e4c41-c83b-4ba1-8ff7-391e5ddacf7b",
   "metadata": {},
   "outputs": [
    {
     "data": {
      "text/plain": [
       "-90"
      ]
     },
     "execution_count": 44,
     "metadata": {},
     "output_type": "execute_result"
    }
   ],
   "source": [
    "obj_car.speed"
   ]
  },
  {
   "cell_type": "code",
   "execution_count": 43,
   "id": "9633c3d0-f1d5-4b67-b928-2281f05f1223",
   "metadata": {},
   "outputs": [],
   "source": [
    "obj_car.speed=-90"
   ]
  },
  {
   "cell_type": "code",
   "execution_count": null,
   "id": "6245c0b9-1645-4768-a3fb-c19868ac81d7",
   "metadata": {},
   "outputs": [],
   "source": []
  },
  {
   "cell_type": "code",
   "execution_count": 42,
   "id": "18713e0b-37d1-425f-9c6c-e797c3df5c7f",
   "metadata": {},
   "outputs": [],
   "source": [
    "obj_car=car(\"toyoto\",2021,\"inova\",0)"
   ]
  },
  {
   "cell_type": "code",
   "execution_count": 36,
   "id": "af132242-1cda-4bd4-863b-1177dc36f0ac",
   "metadata": {},
   "outputs": [
    {
     "ename": "AttributeError",
     "evalue": "'car' object has no attribute 'model'",
     "output_type": "error",
     "traceback": [
      "\u001b[0;31m---------------------------------------------------------------------------\u001b[0m",
      "\u001b[0;31mAttributeError\u001b[0m                            Traceback (most recent call last)",
      "Cell \u001b[0;32mIn[36], line 1\u001b[0m\n\u001b[0;32m----> 1\u001b[0m \u001b[43mobj_car\u001b[49m\u001b[38;5;241;43m.\u001b[39;49m\u001b[43mmodel\u001b[49m\n",
      "\u001b[0;31mAttributeError\u001b[0m: 'car' object has no attribute 'model'"
     ]
    }
   ],
   "source": [
    "obj_car.model"
   ]
  },
  {
   "cell_type": "code",
   "execution_count": 38,
   "id": "ce094b8c-deac-4e4d-b0ca-dd85ec3efd77",
   "metadata": {},
   "outputs": [
    {
     "data": {
      "text/plain": [
       "'toyoto'"
      ]
     },
     "execution_count": 38,
     "metadata": {},
     "output_type": "execute_result"
    }
   ],
   "source": [
    "obj_car._car__model"
   ]
  },
  {
   "cell_type": "markdown",
   "id": "d595dc61-195e-453e-a7eb-b67fbaaf8923",
   "metadata": {},
   "source": [
    "## inheritance"
   ]
  },
  {
   "cell_type": "code",
   "execution_count": 3,
   "id": "895a55a1-5118-4e56-bf8e-c354e5ca4c5c",
   "metadata": {},
   "outputs": [],
   "source": [
    "class parent:\n",
    "    def test_parent(self):\n",
    "        print(\"this is my parent class\")\n",
    "        "
   ]
  },
  {
   "cell_type": "code",
   "execution_count": 5,
   "id": "b5eb61db-323a-43b8-86d2-756dfb4b1907",
   "metadata": {},
   "outputs": [],
   "source": [
    "class child(parent):\n",
    "    pass"
   ]
  },
  {
   "cell_type": "code",
   "execution_count": 6,
   "id": "8e828656-f9eb-4fbd-b650-9e2b3f34d3f6",
   "metadata": {},
   "outputs": [],
   "source": [
    "child_obj=child()"
   ]
  },
  {
   "cell_type": "code",
   "execution_count": 8,
   "id": "4563a82b-4e30-4445-b4fd-8de60c69b548",
   "metadata": {},
   "outputs": [
    {
     "name": "stdout",
     "output_type": "stream",
     "text": [
      "this is my parent class\n"
     ]
    }
   ],
   "source": [
    "child_obj.test_parent()"
   ]
  },
  {
   "cell_type": "markdown",
   "id": "f89bb340-4339-4be1-9dce-9f30dc13192a",
   "metadata": {},
   "source": [
    "#### multilevel inheritance"
   ]
  },
  {
   "cell_type": "markdown",
   "id": "ca6f3c5d-12f0-4a57-a8e7-765e25d2e831",
   "metadata": {},
   "source": [
    "class class1():\n",
    "    def test1(self):\n",
    "        print(\"this is my main parent class\")\n",
    "    "
   ]
  },
  {
   "cell_type": "code",
   "execution_count": 4,
   "id": "ba3b8bf7-acaa-4b4a-8d69-994b67605c8b",
   "metadata": {},
   "outputs": [],
   "source": [
    "class class2(class1):\n",
    "    def test2(self):\n",
    "        print(\"this is my sub parent class\")\n",
    "        "
   ]
  },
  {
   "cell_type": "code",
   "execution_count": 5,
   "id": "482484ce-8316-4571-bbaf-c3bef0965099",
   "metadata": {},
   "outputs": [],
   "source": [
    "class class3(class2):\n",
    "    def test2(self):\n",
    "        print(\"this is my sub parent class\")\n",
    "        "
   ]
  },
  {
   "cell_type": "code",
   "execution_count": 6,
   "id": "6973bcdd-8eb7-4e46-89b5-d5dd92a33c83",
   "metadata": {},
   "outputs": [],
   "source": [
    "obj_class3=class3()"
   ]
  },
  {
   "cell_type": "code",
   "execution_count": null,
   "id": "27873f32-eef9-4d18-83f6-30f83fb47905",
   "metadata": {},
   "outputs": [],
   "source": [
    "obj_class3."
   ]
  },
  {
   "cell_type": "markdown",
   "id": "d8021e42-db81-4b4e-bd1e-36abf01fad15",
   "metadata": {
    "tags": []
   },
   "source": [
    "### multiple inheritance"
   ]
  },
  {
   "cell_type": "code",
   "execution_count": 10,
   "id": "d24919ef-dff0-4ecb-95fc-39abb7d2608a",
   "metadata": {},
   "outputs": [],
   "source": [
    "class parent_class1():\n",
    "    def test_parent1(self):\n",
    "        print(\"this is my 1st parent class\")"
   ]
  },
  {
   "cell_type": "code",
   "execution_count": 11,
   "id": "f161115f-aa18-405e-a8be-42341a07384b",
   "metadata": {},
   "outputs": [],
   "source": [
    "class parent_class2():\n",
    "    def test_parent2(self):\n",
    "        print(\"this is my 2nd parent class\")"
   ]
  },
  {
   "cell_type": "code",
   "execution_count": 12,
   "id": "23f4dec8-5b95-4c1b-a9ad-66aad299c029",
   "metadata": {},
   "outputs": [],
   "source": [
    "class child(parent_class1,parent_class2):\n",
    "    pass"
   ]
  },
  {
   "cell_type": "code",
   "execution_count": 13,
   "id": "5fa831f5-cf6c-42e7-b533-73f5df357647",
   "metadata": {},
   "outputs": [],
   "source": [
    "class_obj=child()"
   ]
  },
  {
   "cell_type": "code",
   "execution_count": 14,
   "id": "14562a99-26ac-4dd3-95e4-ed13df742859",
   "metadata": {},
   "outputs": [
    {
     "name": "stdout",
     "output_type": "stream",
     "text": [
      "this is my 1st parent class\n"
     ]
    }
   ],
   "source": [
    "class_obj.test_parent1()"
   ]
  },
  {
   "cell_type": "code",
   "execution_count": 15,
   "id": "2e190c3b-e39c-4432-b8c2-5b852cd7a741",
   "metadata": {},
   "outputs": [
    {
     "name": "stdout",
     "output_type": "stream",
     "text": [
      "this is my 2nd parent class\n"
     ]
    }
   ],
   "source": [
    "class_obj.test_parent2()"
   ]
  },
  {
   "cell_type": "markdown",
   "id": "1c422967-8483-4850-87c2-326d9e8672e0",
   "metadata": {},
   "source": [
    "## abstraction"
   ]
  },
  {
   "cell_type": "code",
   "execution_count": 1,
   "id": "70d7c887-f742-430b-9cfb-dfda67ec68e6",
   "metadata": {},
   "outputs": [],
   "source": [
    "import abc\n",
    "\n",
    "class pwskills():\n",
    "    \n",
    "    @abc.abstractmethod\n",
    "\n",
    "    def student_details(self):\n",
    "        pass\n",
    "    \n",
    "    @abc.abstractmethod\n",
    "\n",
    "        \n",
    "    def student_assignment(self):\n",
    "        pass\n",
    "    \n",
    "    @abc.abstractmethod\n",
    "\n",
    "        \n",
    "    def student_mark(self):\n",
    "        pass"
   ]
  },
  {
   "cell_type": "code",
   "execution_count": 2,
   "id": "13186e40-3d5e-46a5-a215-d79355c5ff94",
   "metadata": {},
   "outputs": [],
   "source": [
    "class datascience(pwskills):\n",
    "    def student_detail(self):\n",
    "        return \"it will try to return detail of student\"\n",
    "    def student_assignment(self):\n",
    "        return \"it will try to return assignment of student\""
   ]
  },
  {
   "cell_type": "code",
   "execution_count": 3,
   "id": "b6aad58c-4b16-44fc-ac3a-8d5bc41b3a46",
   "metadata": {},
   "outputs": [],
   "source": [
    "class webdev(pwskills):\n",
    "    def student_detail(self):\n",
    "        return \"it will try to return detail of student of webdev\"\n",
    "    def student_marks(self):\n",
    "        return \"it will try to return marks of student of webdev\""
   ]
  },
  {
   "cell_type": "code",
   "execution_count": 5,
   "id": "f6caf9bd-4045-4d85-8b1f-861ac809853d",
   "metadata": {},
   "outputs": [
    {
     "data": {
      "text/plain": [
       "'it will try to return detail of student'"
      ]
     },
     "execution_count": 5,
     "metadata": {},
     "output_type": "execute_result"
    }
   ],
   "source": [
    "ds=datascience()\n",
    "ds.student_detail()"
   ]
  },
  {
   "cell_type": "code",
   "execution_count": 5,
   "id": "60bf45e9-153b-440c-9aeb-ccc65345697c",
   "metadata": {},
   "outputs": [
    {
     "data": {
      "text/plain": [
       "'it will try to return detail of student'"
      ]
     },
     "execution_count": 5,
     "metadata": {},
     "output_type": "execute_result"
    }
   ],
   "source": [
    "ds=datascience()\n",
    "ds.student_de()"
   ]
  },
  {
   "cell_type": "code",
   "execution_count": null,
   "id": "324f031c-047d-4b86-b28b-519901674744",
   "metadata": {},
   "outputs": [],
   "source": []
  },
  {
   "cell_type": "code",
   "execution_count": null,
   "id": "07a17847-b854-4579-8789-3628ed211847",
   "metadata": {},
   "outputs": [],
   "source": []
  },
  {
   "cell_type": "code",
   "execution_count": null,
   "id": "949f36ae-51c9-492d-92b1-e8ede128e7d9",
   "metadata": {},
   "outputs": [],
   "source": []
  },
  {
   "cell_type": "code",
   "execution_count": null,
   "id": "80d45c4f-33c7-4533-a27b-6ea6875b814f",
   "metadata": {},
   "outputs": [],
   "source": []
  }
 ],
 "metadata": {
  "kernelspec": {
   "display_name": "Python 3 (ipykernel)",
   "language": "python",
   "name": "python3"
  },
  "language_info": {
   "codemirror_mode": {
    "name": "ipython",
    "version": 3
   },
   "file_extension": ".py",
   "mimetype": "text/x-python",
   "name": "python",
   "nbconvert_exporter": "python",
   "pygments_lexer": "ipython3",
   "version": "3.10.8"
  }
 },
 "nbformat": 4,
 "nbformat_minor": 5
}
